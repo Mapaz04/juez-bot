{
 "cells": [
  {
   "cell_type": "code",
   "execution_count": 1,
   "metadata": {},
   "outputs": [],
   "source": [
    "import pandas as pd\n",
    "import seaborn as sns\n",
    "import numpy as np\n",
    "import matplotlib.pyplot as plt"
   ]
  },
  {
   "cell_type": "code",
   "execution_count": 2,
   "metadata": {},
   "outputs": [],
   "source": [
    "from sklearn.model_selection import GridSearchCV, cross_val_score, train_test_split\n",
    "np.random.seed(0)"
   ]
  },
  {
   "cell_type": "code",
   "execution_count": 3,
   "metadata": {},
   "outputs": [
    {
     "name": "stdout",
     "output_type": "stream",
     "text": [
      "training set size:  227\n",
      "test set size:  57\n"
     ]
    }
   ],
   "source": [
    "data = pd.read_csv(\"res_completo.csv\", index_col=0)\n",
    "\n",
    "# Separación del conjunto de datos en entrenamiento y test\n",
    "# Separar el 20% para el test\n",
    "# estratificar de acuerdo con dec_fav_denunciante\n",
    "\n",
    "X_train, X_test, Y_train, Y_test = train_test_split(data.drop(\"dec_fav_denunciante\", \n",
    "                                                            axis=1),\n",
    "                                                    data[\"dec_fav_denunciante\"],\n",
    "                                                    test_size=0.2,\n",
    "                                                    stratify=data[\"dec_fav_denunciante\"],\n",
    "                                                    random_state=0)\n",
    "\n",
    "print(\"training set size: \", X_train.shape[0])\n",
    "print(\"test set size: \", X_test.shape[0])"
   ]
  },
  {
   "cell_type": "code",
   "execution_count": 4,
   "metadata": {},
   "outputs": [],
   "source": [
    "test_size = 57\n",
    "p_df = 0.68\n",
    "Y_test = Y_test.values.reshape((1, test_size))"
   ]
  },
  {
   "cell_type": "markdown",
   "metadata": {},
   "source": [
    "## Clasificador aleatorio que utiliza las probabilidades a priori\n",
    "\n",
    "Se desea analizar la distribución del accuracy en el conjunto de datos de prueba de un clasificador aleatorio que utilize las probabilidades a priori\n",
    "\n",
    "$ P(Y=1) = 0.68 $\n",
    "\n",
    "$ P(Y=0) = 0.32 $\n",
    "\n",
    "Para esto se generan 10000 predicciones aleatorias para el conjunto de datos de prueba y se analiza esta distribución."
   ]
  },
  {
   "cell_type": "code",
   "execution_count": 5,
   "metadata": {},
   "outputs": [
    {
     "name": "stdout",
     "output_type": "stream",
     "text": [
      "Probabilidad de que el accuracy sea mayor a 0.754: 0.0012\n"
     ]
    },
    {
     "data": {
      "image/png": "[encoded data removed]",
      "text/plain": [
       "<Figure size 432x288 with 1 Axes>"
      ]
     },
     "metadata": {
      "needs_background": "light"
     },
     "output_type": "display_data"
    }
   ],
   "source": [
    "random_predictions = np.random.binomial(1, p=p_df, size=(10000, test_size))\n",
    "accuracies_vector = (random_predictions == Y_test).mean(axis=1)\n",
    "\n",
    "p_value = (accuracies_vector >= 0.754).mean()\n",
    "\n",
    "print(f\"Probabilidad de que el accuracy sea mayor a 0.754: {p_value}\")\n",
    "\n",
    "fig, axis = plt.subplots(1)\n",
    "axis.set_xlim(0.25, 0.8)\n",
    "axis.set_ylim(0, 7)\n",
    "plt.vlines(x=0.754, ymin=0, ymax=10, color=\"red\")\n",
    "sns.kdeplot(x=accuracies_vector, ax=axis, fill=True);\n",
    "\n",
    "plt.title(\"Distribución del Acc\");\n",
    "plt.ylabel(\"Densidad\");"
   ]
  },
  {
   "cell_type": "markdown",
   "metadata": {},
   "source": [
    "## Clasificador aleatorio\n",
    "\n",
    "Se desea analizar la distribución del accuracy en el conjunto de datos de prueba de un clasificador aleatorio\n",
    "\n",
    "$ P(Y=1) = 0.5 $\n",
    "\n",
    "$ P(Y=0) = 0.5 $\n",
    "\n",
    "Para esto se generan 10000 predicciones aleatorias para el conjunto de datos de prueba y se analiza esta distribución."
   ]
  },
  {
   "cell_type": "code",
   "execution_count": 13,
   "metadata": {},
   "outputs": [
    {
     "name": "stdout",
     "output_type": "stream",
     "text": [
      "Probabilidad de que el accuracy sea mayor a 0.754: 0.0002\n"
     ]
    },
    {
     "data": {
      "image/png": "[encoded data removed]",
      "text/plain": [
       "<Figure size 432x288 with 1 Axes>"
      ]
     },
     "metadata": {
      "needs_background": "light"
     },
     "output_type": "display_data"
    }
   ],
   "source": [
    "random_predictions = np.random.binomial(1, p=0.5, size=(10000, test_size))\n",
    "accuracies_vector = (random_predictions == Y_test).mean(axis=1)\n",
    "\n",
    "p_value = (accuracies_vector >= 0.754).mean()\n",
    "\n",
    "print(f\"Probabilidad de que el accuracy sea mayor a 0.754: {p_value}\")\n",
    "\n",
    "fig, axis = plt.subplots(1)\n",
    "axis.set_xlim(0.25, 0.8)\n",
    "axis.set_ylim(0, 7)\n",
    "plt.vlines(x=0.754, ymin=0, ymax=10, color=\"red\")\n",
    "sns.kdeplot(x=accuracies_vector, ax=axis, fill=True);\n",
    "\n",
    "plt.title(\"Distribución del Acc\");\n",
    "plt.ylabel(\"Densidad\");"
   ]
  },
  {
   "cell_type": "code",
   "execution_count": null,
   "metadata": {},
   "outputs": [],
   "source": []
  },
  {
   "cell_type": "code",
   "execution_count": null,
   "metadata": {},
   "outputs": [],
   "source": []
  },
  {
   "cell_type": "code",
   "execution_count": null,
   "metadata": {},
   "outputs": [],
   "source": []
  }
 ],
 "metadata": {
  "kernelspec": {
   "display_name": "Python 3",
   "language": "python",
   "name": "python3"
  },
  "language_info": {
   "codemirror_mode": {
    "name": "ipython",
    "version": 3
   },
   "file_extension": ".py",
   "mimetype": "text/x-python",
   "name": "python",
   "nbconvert_exporter": "python",
   "pygments_lexer": "ipython3",
   "version": "3.8.3"
  }
 },
 "nbformat": 4,
 "nbformat_minor": 4
}
