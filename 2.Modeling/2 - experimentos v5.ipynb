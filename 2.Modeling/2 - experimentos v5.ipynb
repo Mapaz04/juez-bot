{
  "nbformat": 4,
  "nbformat_minor": 0,
  "metadata": {
    "colab": {
      "name": "Experimentos_v5.ipynb",
      "provenance": []
    },
    "kernelspec": {
      "display_name": "Python 3",
      "language": "python",
      "name": "python3"
    },
    "language_info": {
      "codemirror_mode": {
        "name": "ipython",
        "version": 3
      },
      "file_extension": ".py",
      "mimetype": "text/x-python",
      "name": "python",
      "nbconvert_exporter": "python",
      "pygments_lexer": "ipython3",
      "version": "3.8.3"
    }
  },
  "cells": [
    {
      "cell_type": "code",
      "metadata": {
        "id": "yrl7HXIzu2Eq"
      },
      "source": [
        "import pandas as pd"
      ],
      "execution_count": 1,
      "outputs": []
    },
    {
      "cell_type": "code",
      "metadata": {
        "id": "LUDuYkX_u2Eu"
      },
      "source": [
        "df_cargos_desc = pd.read_excel(\"cargos_categorias.xlsx\", sheet_name=0)\n",
        "cargos_list = list(df_cargos_desc[\"CÓDIGO\"])\n",
        "#cargos_list"
      ],
      "execution_count": 2,
      "outputs": []
    },
    {
      "cell_type": "code",
      "metadata": {
        "colab": {
          "base_uri": "https://localhost:8080/"
        },
        "id": "4BlcIg4_u2Ev",
        "outputId": "304a2796-85ca-4e0a-99ce-d85af0594f32"
      },
      "source": [
        "data = pd.read_csv(\"res_completo.csv\", index_col=0)\n",
        "data.info()"
      ],
      "execution_count": 3,
      "outputs": [
        {
          "output_type": "stream",
          "name": "stdout",
          "text": [
            "<class 'pandas.core.frame.DataFrame'>\n",
            "Int64Index: 281 entries, 0 to 280\n",
            "Data columns (total 9 columns):\n",
            " #   Column               Non-Null Count  Dtype \n",
            "---  ------               --------------  ----- \n",
            " 0   id_resol             281 non-null    object\n",
            " 1   año                  281 non-null    int64 \n",
            " 2   cargos               281 non-null    object\n",
            " 3   códigos              280 non-null    object\n",
            " 4   Empresa denunciada   281 non-null    object\n",
            " 5   Multas               281 non-null    object\n",
            " 6   Medidas correctivas  281 non-null    object\n",
            " 7   dec_fav_denunciante  281 non-null    int64 \n",
            " 8   cargos limpio        281 non-null    object\n",
            "dtypes: int64(2), object(7)\n",
            "memory usage: 22.0+ KB\n"
          ]
        }
      ]
    },
    {
      "cell_type": "code",
      "metadata": {
        "id": "aKEwnCuUu2Ew"
      },
      "source": [
        "# crear lista de códigos de cargos multicategoricos\n",
        "data[\"códigos\"] = data[\"códigos\"].apply(lambda x: x.split(\",\") if isinstance(x, str) else [])"
      ],
      "execution_count": 4,
      "outputs": []
    },
    {
      "cell_type": "code",
      "metadata": {
        "colab": {
          "base_uri": "https://localhost:8080/",
          "height": 597
        },
        "id": "6MdLggg1u2Ex",
        "scrolled": true,
        "outputId": "db423fd1-954b-4f55-8919-0544dc19e1cf"
      },
      "source": [
        "data"
      ],
      "execution_count": null,
      "outputs": [
        {
          "output_type": "execute_result",
          "data": {
            "text/html": [
              "<div>\n",
              "<style scoped>\n",
              "    .dataframe tbody tr th:only-of-type {\n",
              "        vertical-align: middle;\n",
              "    }\n",
              "\n",
              "    .dataframe tbody tr th {\n",
              "        vertical-align: top;\n",
              "    }\n",
              "\n",
              "    .dataframe thead th {\n",
              "        text-align: right;\n",
              "    }\n",
              "</style>\n",
              "<table border=\"1\" class=\"dataframe\">\n",
              "  <thead>\n",
              "    <tr style=\"text-align: right;\">\n",
              "      <th></th>\n",
              "      <th>id_resol</th>\n",
              "      <th>año</th>\n",
              "      <th>cargos</th>\n",
              "      <th>códigos</th>\n",
              "      <th>Empresa denunciada</th>\n",
              "      <th>Multas</th>\n",
              "      <th>Medidas correctivas</th>\n",
              "      <th>dec_fav_denunciante</th>\n",
              "      <th>cargos limpio</th>\n",
              "    </tr>\n",
              "  </thead>\n",
              "  <tbody>\n",
              "    <tr>\n",
              "      <th>0</th>\n",
              "      <td>0002-2020/SPC-INDECOPI</td>\n",
              "      <td>2020</td>\n",
              "      <td>Luego de contratar los servicios de la denunci...</td>\n",
              "      <td>[ser1]</td>\n",
              "      <td>EMPRESA DE TRANSPORTES TURISMO SEÑOR DE ATACO ...</td>\n",
              "      <td>0</td>\n",
              "      <td>0</td>\n",
              "      <td>0</td>\n",
              "      <td>luego contratar servicios denunciada 26 octubr...</td>\n",
              "    </tr>\n",
              "    <tr>\n",
              "      <th>1</th>\n",
              "      <td>0894-2020/SPC-INDECOPI</td>\n",
              "      <td>2020</td>\n",
              "      <td>La cláusula 11 incluida en sus boletos de viaj...</td>\n",
              "      <td>[c1]</td>\n",
              "      <td>EMPRESA CAPLINA DE TRANSPORTES TURÍSTICOS INTE...</td>\n",
              "      <td>1 UIT</td>\n",
              "      <td>Consignar mecanismos de indemnización por pérd...</td>\n",
              "      <td>1</td>\n",
              "      <td>cláusula 11 incluida boletos viaje establecía ...</td>\n",
              "    </tr>\n",
              "    <tr>\n",
              "      <th>2</th>\n",
              "      <td>0893-2020/SPC-INDECOPI</td>\n",
              "      <td>2020</td>\n",
              "      <td>La cláusula 11 incluida en sus boletos de viaj...</td>\n",
              "      <td>[c1]</td>\n",
              "      <td>EMPRESA DE TRANSPORTES FLORES HNOS S.R.L.</td>\n",
              "      <td>1 UIT</td>\n",
              "      <td>Consignar mecanismos de indemnización por pérd...</td>\n",
              "      <td>1</td>\n",
              "      <td>cláusula 11 incluida boletos viaje establecía ...</td>\n",
              "    </tr>\n",
              "    <tr>\n",
              "      <th>3</th>\n",
              "      <td>0051-2020/SPC-INDECOPI</td>\n",
              "      <td>2020</td>\n",
              "      <td>la empresa no implementó en su establecimiento...</td>\n",
              "      <td>[o1, o2, seg1, c2]</td>\n",
              "      <td>TURISMO EXPRESO LATINO AMERICANO E.I.R.L</td>\n",
              "      <td>4.68 UIT</td>\n",
              "      <td>Adecuar boletos y difundirlo</td>\n",
              "      <td>1</td>\n",
              "      <td>empresa implementó establecimiento comercial l...</td>\n",
              "    </tr>\n",
              "    <tr>\n",
              "      <th>4</th>\n",
              "      <td>0944-2020/SPC-INDECOPI</td>\n",
              "      <td>2020</td>\n",
              "      <td>La empresa no habría brindado un servicio idón...</td>\n",
              "      <td>[ser3]</td>\n",
              "      <td>EMPRESA DE TRANSPORTES Y SERVICIOS MÚLTIPLES S...</td>\n",
              "      <td>50 UIT</td>\n",
              "      <td>0</td>\n",
              "      <td>1</td>\n",
              "      <td>empresa brindado servicio idóneo ruta trujillo...</td>\n",
              "    </tr>\n",
              "    <tr>\n",
              "      <th>...</th>\n",
              "      <td>...</td>\n",
              "      <td>...</td>\n",
              "      <td>...</td>\n",
              "      <td>...</td>\n",
              "      <td>...</td>\n",
              "      <td>...</td>\n",
              "      <td>...</td>\n",
              "      <td>...</td>\n",
              "      <td>...</td>\n",
              "    </tr>\n",
              "    <tr>\n",
              "      <th>276</th>\n",
              "      <td>1133-2010/SPC-INDECOPI</td>\n",
              "      <td>2010</td>\n",
              "      <td>(i) El 3 de abril de 2009 contrató los servic...</td>\n",
              "      <td>[ser1, ser7, ser13]</td>\n",
              "      <td>Empresa de Transportes Expreso Cial S.A.C.</td>\n",
              "      <td>2 UIT Pago de costas y costos</td>\n",
              "      <td>S/.550.00</td>\n",
              "      <td>1</td>\n",
              "      <td>i 3 abril 2009 contrató servicios expreso cial...</td>\n",
              "    </tr>\n",
              "    <tr>\n",
              "      <th>277</th>\n",
              "      <td>1241-2010/SPC-INDECOPI</td>\n",
              "      <td>2010</td>\n",
              "      <td>Señaló que el denunciado no le habría brindado...</td>\n",
              "      <td>[ser2, ser16]</td>\n",
              "      <td>TURISMO CIVA S.A.C.</td>\n",
              "      <td>0</td>\n",
              "      <td>0</td>\n",
              "      <td>0</td>\n",
              "      <td>señaló denunciado brindado servicio transporte...</td>\n",
              "    </tr>\n",
              "    <tr>\n",
              "      <th>278</th>\n",
              "      <td>1404-2010/SPC-INDECOPI</td>\n",
              "      <td>2010</td>\n",
              "      <td>Señaló que el 29 de abril de 2009 contrató\\nlo...</td>\n",
              "      <td>[ser2]</td>\n",
              "      <td>JULSA ÁNGELES TOURS S.A.C.</td>\n",
              "      <td>1 UIT Pago de costas y costos</td>\n",
              "      <td>S/.40.00</td>\n",
              "      <td>1</td>\n",
              "      <td>señaló 29 abril 2009 contrató servicios denunc...</td>\n",
              "    </tr>\n",
              "    <tr>\n",
              "      <th>279</th>\n",
              "      <td>1468-2010/SPC-INDECOPI</td>\n",
              "      <td>2010</td>\n",
              "      <td>se denuncio que en el viaje de Arequipa a\\nCus...</td>\n",
              "      <td>[ser2]</td>\n",
              "      <td>EMPRESA DE TRANSPORTES TURISMO REAL DEL SUR S....</td>\n",
              "      <td>2 UIT</td>\n",
              "      <td>S/.862.50</td>\n",
              "      <td>1</td>\n",
              "      <td>denuncio viaje arequipa cusco realizado 22 jun...</td>\n",
              "    </tr>\n",
              "    <tr>\n",
              "      <th>280</th>\n",
              "      <td>1469-2010/SPC-INDECOPI</td>\n",
              "      <td>2010</td>\n",
              "      <td>en el viaje de Lima a Piura, efectuado el 27 d...</td>\n",
              "      <td>[ser2]</td>\n",
              "      <td>TRANSPORTES CRUZ DEL SUR S.A.C.</td>\n",
              "      <td>8 UIT Pago de costas y costos</td>\n",
              "      <td>S/.1,500.00</td>\n",
              "      <td>1</td>\n",
              "      <td>viaje lima piura efectuado 27 febrero 2005 equ...</td>\n",
              "    </tr>\n",
              "  </tbody>\n",
              "</table>\n",
              "<p>281 rows × 9 columns</p>\n",
              "</div>"
            ],
            "text/plain": [
              "                   id_resol  ...                                      cargos limpio\n",
              "0    0002-2020/SPC-INDECOPI  ...  luego contratar servicios denunciada 26 octubr...\n",
              "1    0894-2020/SPC-INDECOPI  ...  cláusula 11 incluida boletos viaje establecía ...\n",
              "2    0893-2020/SPC-INDECOPI  ...  cláusula 11 incluida boletos viaje establecía ...\n",
              "3    0051-2020/SPC-INDECOPI  ...  empresa implementó establecimiento comercial l...\n",
              "4    0944-2020/SPC-INDECOPI  ...  empresa brindado servicio idóneo ruta trujillo...\n",
              "..                      ...  ...                                                ...\n",
              "276  1133-2010/SPC-INDECOPI  ...  i 3 abril 2009 contrató servicios expreso cial...\n",
              "277  1241-2010/SPC-INDECOPI  ...  señaló denunciado brindado servicio transporte...\n",
              "278  1404-2010/SPC-INDECOPI  ...  señaló 29 abril 2009 contrató servicios denunc...\n",
              "279  1468-2010/SPC-INDECOPI  ...  denuncio viaje arequipa cusco realizado 22 jun...\n",
              "280  1469-2010/SPC-INDECOPI  ...  viaje lima piura efectuado 27 febrero 2005 equ...\n",
              "\n",
              "[281 rows x 9 columns]"
            ]
          },
          "metadata": {},
          "execution_count": 5
        }
      ]
    },
    {
      "cell_type": "code",
      "metadata": {
        "colab": {
          "base_uri": "https://localhost:8080/"
        },
        "id": "J8y4AMgv6Q5z",
        "outputId": "cd0ed1a8-a710-459e-cf8f-6931f8b8a12c"
      },
      "source": [
        "# los datos están desbalanceados, así que tenemos que usar el precision y recall\n",
        "# para evaluar sus resultados\n",
        "\n",
        "data.groupby([\"dec_fav_denunciante\"])[\"id_resol\"].count() / data[\"id_resol\"].count()"
      ],
      "execution_count": 5,
      "outputs": [
        {
          "output_type": "execute_result",
          "data": {
            "text/plain": [
              "dec_fav_denunciante\n",
              "0    0.313167\n",
              "1    0.686833\n",
              "Name: id_resol, dtype: float64"
            ]
          },
          "metadata": {},
          "execution_count": 5
        }
      ]
    },
    {
      "cell_type": "markdown",
      "metadata": {
        "id": "KCqeZO6Iu2Ey"
      },
      "source": [
        "# Separación del conjunto de datos en entrenamiento y test"
      ]
    },
    {
      "cell_type": "code",
      "metadata": {
        "colab": {
          "base_uri": "https://localhost:8080/"
        },
        "id": "SigAMQgxu2E0",
        "outputId": "05dd0b9f-8901-4b45-88b8-08ba978a61be"
      },
      "source": [
        "from sklearn.model_selection import train_test_split\n",
        "\n",
        "# Separación del conjunto de datos en entrenamiento y test\n",
        "# Separar el 20% para el test\n",
        "# estratificar de acuerdo con dec_fav_denunciante\n",
        "\n",
        "X_train, X_test, Y_train, Y_test = train_test_split(data.drop(\"dec_fav_denunciante\", \n",
        "                                                            axis=1),\n",
        "                                                    data[\"dec_fav_denunciante\"],\n",
        "                                                    test_size=0.2,\n",
        "                                                    stratify=data[\"dec_fav_denunciante\"],\n",
        "                                                    random_state=0)\n",
        "\n",
        "print(\"training set size: \", X_train.shape[0])\n",
        "print(\"test set size: \", X_test.shape[0])"
      ],
      "execution_count": 6,
      "outputs": [
        {
          "output_type": "stream",
          "name": "stdout",
          "text": [
            "training set size:  224\n",
            "test set size:  57\n"
          ]
        }
      ]
    },
    {
      "cell_type": "code",
      "metadata": {
        "id": "BOexP6aDu2E2"
      },
      "source": [
        "from sklearn.pipeline import Pipeline\n",
        "\n",
        "from sklearn.compose import ColumnTransformer\n",
        "from sklearn.preprocessing import OneHotEncoder\n",
        "\n",
        "from sklearn.feature_extraction.text import CountVectorizer\n",
        "from sklearn.feature_extraction.text import TfidfVectorizer\n",
        "from sklearn.preprocessing import MultiLabelBinarizer\n",
        "\n",
        "from sklearn.svm import SVC\n",
        "from sklearn.ensemble import RandomForestClassifier\n",
        "\n",
        "from sklearn.model_selection import KFold\n",
        "from sklearn.model_selection import GridSearchCV"
      ],
      "execution_count": 7,
      "outputs": []
    },
    {
      "cell_type": "code",
      "metadata": {
        "id": "QDyVbORSu2E3"
      },
      "source": [
        "# Crear un generador de cross-validation: 5-fold\n",
        "kf = KFold(n_splits=5, random_state=0, shuffle=True);"
      ],
      "execution_count": 8,
      "outputs": []
    },
    {
      "cell_type": "markdown",
      "metadata": {
        "id": "0iWAJzK1u2E5"
      },
      "source": [
        "# Optimización de hiperparámetros mediante CV"
      ]
    },
    {
      "cell_type": "code",
      "metadata": {
        "id": "Co2yIBRsu2E6"
      },
      "source": [
        "# crear DF para almacenar todos los resultados de los experiemntos\n",
        "experiments_results = pd.DataFrame(\n",
        "    columns=['params', 'model_name',\n",
        "             'mean_test_accuracy',  'std_test_accuracy',\n",
        "             'mean_test_f1',        'std_test_f1', \n",
        "             'mean_test_precision', 'std_test_precision', \n",
        "             'mean_test_recall',    'std_test_recall'])"
      ],
      "execution_count": 16,
      "outputs": []
    },
    {
      "cell_type": "code",
      "metadata": {
        "id": "vMa_knI5u2E7"
      },
      "source": [
        "# función que automatiza el proceso de optimización de hiperparámetros meidante CV para un\n",
        "# modelo, retorna un DF con los resultados de los experimentos\n",
        "\n",
        "def run_CV(model, model_name, parameters, cv_iter, X, Y):\n",
        "    \n",
        "    clf = GridSearchCV(estimator = model,       # especificar el modelo a entrenar\n",
        "                       param_grid = parameters, # especificar los parámetros a optimizar\n",
        "                       cv = cv_iter,            # 5-fold cross validation\n",
        "                        # definir métricas de evaluación\n",
        "                       scoring = ['accuracy', 'precision', 'recall', 'f1'], \n",
        "                       refit = False            # no entrenar un modelo con todos los datos\n",
        "                      )\n",
        "\n",
        "    # run the cv experiments\n",
        "    clf.fit(X, Y)\n",
        "\n",
        "    # store the results of the experiments in a dataframe\n",
        "    keys = ['params', 'model_name',\n",
        "            'mean_test_accuracy',  'std_test_accuracy',\n",
        "            'mean_test_f1', 'std_test_f1', \n",
        "            'mean_test_precision', 'std_test_precision', \n",
        "            'mean_test_recall', 'std_test_recall']\n",
        "             \n",
        "    results_dic = {k:v for k, v in clf.cv_results_.items() if k in keys}\n",
        "    results = pd.DataFrame(results_dic)\n",
        "    results[\"model_name\"] = model_name\n",
        "    \n",
        "    return results"
      ],
      "execution_count": 17,
      "outputs": []
    },
    {
      "cell_type": "markdown",
      "metadata": {
        "id": "Gl-fE2uSu2E8"
      },
      "source": [
        "### Experimentos modelo RF + n-gramas"
      ]
    },
    {
      "cell_type": "code",
      "metadata": {
        "id": "eMyjQM_zu2E8"
      },
      "source": [
        "# crear modelo combinado de n-gramas y random forest\n",
        "column_trans = ColumnTransformer([\n",
        "    # Applicar una transformación CountVectorizer a la columna 'cargos'  \n",
        "    ('CargosLimpioNGramas',  CountVectorizer(), 'cargos limpio')\n",
        "    ],\n",
        "    remainder='drop' # ignore the remaining columns\n",
        ")\n",
        "\n",
        "pipeline = Pipeline([\n",
        "    # Primer paso: extracción de características\n",
        "    (\"FeatureExtraction\", column_trans),\n",
        "    # Segundo paso: predicción de la decisión\n",
        "    # freeze random state\n",
        "    ('RandForestPred', RandomForestClassifier(random_state=0, criterion=\"entropy\",\n",
        "                                             class_weight=\"balanced\")) \n",
        "])"
      ],
      "execution_count": 18,
      "outputs": []
    },
    {
      "cell_type": "code",
      "metadata": {
        "id": "Gl-e6nNuu2E9"
      },
      "source": [
        "# especificación de hiperparámetros a optimizar\n",
        "parameters = {\n",
        "    'FeatureExtraction__CargosLimpioNGramas__max_features': [50, None], # cant de features a extraer\n",
        "    'FeatureExtraction__CargosLimpioNGramas__max_df': [1.0, 0.95], \n",
        "    'FeatureExtraction__CargosLimpioNGramas__min_df': [0.0, 0.05],\n",
        "    'FeatureExtraction__CargosLimpioNGramas__ngram_range': [(1, 1), (2, 2), (3, 3)], # n-grams length\n",
        "    'RandForestPred__min_samples_leaf':[1, 3, 5, 7],\n",
        "    'RandForestPred__bootstrap': [True, False]\n",
        "}"
      ],
      "execution_count": 19,
      "outputs": []
    },
    {
      "cell_type": "code",
      "metadata": {
        "id": "8Nl4PANZu2E-",
        "colab": {
          "base_uri": "https://localhost:8080/"
        },
        "outputId": "7adbb531-5798-4329-fe86-c9264aff2cc0"
      },
      "source": [
        "exp_results_df = run_CV(pipeline, \n",
        "                        \"N-gramas + RF\", \n",
        "                        parameters, \n",
        "                        kf, \n",
        "                        X_train, Y_train)\n",
        "\n",
        "experiments_results = experiments_results.append(exp_results_df)"
      ],
      "execution_count": 21,
      "outputs": [
        {
          "output_type": "stream",
          "name": "stderr",
          "text": [
            "/usr/local/lib/python3.7/dist-packages/sklearn/metrics/_classification.py:1272: UndefinedMetricWarning: Precision is ill-defined and being set to 0.0 due to no predicted samples. Use `zero_division` parameter to control this behavior.\n",
            "  _warn_prf(average, modifier, msg_start, len(result))\n",
            "/usr/local/lib/python3.7/dist-packages/sklearn/metrics/_classification.py:1272: UndefinedMetricWarning: Precision is ill-defined and being set to 0.0 due to no predicted samples. Use `zero_division` parameter to control this behavior.\n",
            "  _warn_prf(average, modifier, msg_start, len(result))\n",
            "/usr/local/lib/python3.7/dist-packages/sklearn/metrics/_classification.py:1272: UndefinedMetricWarning: Precision is ill-defined and being set to 0.0 due to no predicted samples. Use `zero_division` parameter to control this behavior.\n",
            "  _warn_prf(average, modifier, msg_start, len(result))\n",
            "/usr/local/lib/python3.7/dist-packages/sklearn/metrics/_classification.py:1272: UndefinedMetricWarning: Precision is ill-defined and being set to 0.0 due to no predicted samples. Use `zero_division` parameter to control this behavior.\n",
            "  _warn_prf(average, modifier, msg_start, len(result))\n"
          ]
        }
      ]
    },
    {
      "cell_type": "code",
      "metadata": {
        "colab": {
          "base_uri": "https://localhost:8080/",
          "height": 604
        },
        "id": "2BbPurXbkH-h",
        "outputId": "d8160827-facb-4415-ec69-71b4c520dc91"
      },
      "source": [
        "experiments_results"
      ],
      "execution_count": 22,
      "outputs": [
        {
          "output_type": "execute_result",
          "data": {
            "text/html": [
              "<div>\n",
              "<style scoped>\n",
              "    .dataframe tbody tr th:only-of-type {\n",
              "        vertical-align: middle;\n",
              "    }\n",
              "\n",
              "    .dataframe tbody tr th {\n",
              "        vertical-align: top;\n",
              "    }\n",
              "\n",
              "    .dataframe thead th {\n",
              "        text-align: right;\n",
              "    }\n",
              "</style>\n",
              "<table border=\"1\" class=\"dataframe\">\n",
              "  <thead>\n",
              "    <tr style=\"text-align: right;\">\n",
              "      <th></th>\n",
              "      <th>params</th>\n",
              "      <th>model_name</th>\n",
              "      <th>mean_test_accuracy</th>\n",
              "      <th>std_test_accuracy</th>\n",
              "      <th>mean_test_f1</th>\n",
              "      <th>std_test_f1</th>\n",
              "      <th>mean_test_precision</th>\n",
              "      <th>std_test_precision</th>\n",
              "      <th>mean_test_recall</th>\n",
              "      <th>std_test_recall</th>\n",
              "    </tr>\n",
              "  </thead>\n",
              "  <tbody>\n",
              "    <tr>\n",
              "      <th>0</th>\n",
              "      <td>{'FeatureExtraction__CargosLimpioNGramas__max_...</td>\n",
              "      <td>N-gramas + RF</td>\n",
              "      <td>0.678586</td>\n",
              "      <td>0.045571</td>\n",
              "      <td>0.789059</td>\n",
              "      <td>0.036740</td>\n",
              "      <td>0.715941</td>\n",
              "      <td>0.043175</td>\n",
              "      <td>0.881419</td>\n",
              "      <td>0.052536</td>\n",
              "    </tr>\n",
              "    <tr>\n",
              "      <th>1</th>\n",
              "      <td>{'FeatureExtraction__CargosLimpioNGramas__max_...</td>\n",
              "      <td>N-gramas + RF</td>\n",
              "      <td>0.629596</td>\n",
              "      <td>0.079630</td>\n",
              "      <td>0.741110</td>\n",
              "      <td>0.069190</td>\n",
              "      <td>0.703960</td>\n",
              "      <td>0.055860</td>\n",
              "      <td>0.783632</td>\n",
              "      <td>0.088863</td>\n",
              "    </tr>\n",
              "    <tr>\n",
              "      <th>2</th>\n",
              "      <td>{'FeatureExtraction__CargosLimpioNGramas__max_...</td>\n",
              "      <td>N-gramas + RF</td>\n",
              "      <td>0.612020</td>\n",
              "      <td>0.070742</td>\n",
              "      <td>0.718735</td>\n",
              "      <td>0.060193</td>\n",
              "      <td>0.712610</td>\n",
              "      <td>0.057571</td>\n",
              "      <td>0.726970</td>\n",
              "      <td>0.074309</td>\n",
              "    </tr>\n",
              "    <tr>\n",
              "      <th>3</th>\n",
              "      <td>{'FeatureExtraction__CargosLimpioNGramas__max_...</td>\n",
              "      <td>N-gramas + RF</td>\n",
              "      <td>0.625152</td>\n",
              "      <td>0.071434</td>\n",
              "      <td>0.716771</td>\n",
              "      <td>0.067663</td>\n",
              "      <td>0.736442</td>\n",
              "      <td>0.062988</td>\n",
              "      <td>0.699274</td>\n",
              "      <td>0.076368</td>\n",
              "    </tr>\n",
              "    <tr>\n",
              "      <th>4</th>\n",
              "      <td>{'FeatureExtraction__CargosLimpioNGramas__max_...</td>\n",
              "      <td>N-gramas + RF</td>\n",
              "      <td>0.687374</td>\n",
              "      <td>0.066500</td>\n",
              "      <td>0.790253</td>\n",
              "      <td>0.051520</td>\n",
              "      <td>0.725876</td>\n",
              "      <td>0.045111</td>\n",
              "      <td>0.867377</td>\n",
              "      <td>0.061093</td>\n",
              "    </tr>\n",
              "    <tr>\n",
              "      <th>...</th>\n",
              "      <td>...</td>\n",
              "      <td>...</td>\n",
              "      <td>...</td>\n",
              "      <td>...</td>\n",
              "      <td>...</td>\n",
              "      <td>...</td>\n",
              "      <td>...</td>\n",
              "      <td>...</td>\n",
              "      <td>...</td>\n",
              "      <td>...</td>\n",
              "    </tr>\n",
              "    <tr>\n",
              "      <th>187</th>\n",
              "      <td>{'FeatureExtraction__CargosLimpioNGramas__max_...</td>\n",
              "      <td>N-gramas + RF</td>\n",
              "      <td>0.442929</td>\n",
              "      <td>0.120605</td>\n",
              "      <td>0.372426</td>\n",
              "      <td>0.250940</td>\n",
              "      <td>0.691818</td>\n",
              "      <td>0.118514</td>\n",
              "      <td>0.338242</td>\n",
              "      <td>0.345333</td>\n",
              "    </tr>\n",
              "    <tr>\n",
              "      <th>188</th>\n",
              "      <td>{'FeatureExtraction__CargosLimpioNGramas__max_...</td>\n",
              "      <td>N-gramas + RF</td>\n",
              "      <td>0.415455</td>\n",
              "      <td>0.059357</td>\n",
              "      <td>0.297505</td>\n",
              "      <td>0.117077</td>\n",
              "      <td>0.801667</td>\n",
              "      <td>0.165362</td>\n",
              "      <td>0.187072</td>\n",
              "      <td>0.085434</td>\n",
              "    </tr>\n",
              "    <tr>\n",
              "      <th>189</th>\n",
              "      <td>{'FeatureExtraction__CargosLimpioNGramas__max_...</td>\n",
              "      <td>N-gramas + RF</td>\n",
              "      <td>0.411111</td>\n",
              "      <td>0.057090</td>\n",
              "      <td>0.291737</td>\n",
              "      <td>0.105042</td>\n",
              "      <td>0.795000</td>\n",
              "      <td>0.164621</td>\n",
              "      <td>0.181065</td>\n",
              "      <td>0.071481</td>\n",
              "    </tr>\n",
              "    <tr>\n",
              "      <th>190</th>\n",
              "      <td>{'FeatureExtraction__CargosLimpioNGramas__max_...</td>\n",
              "      <td>N-gramas + RF</td>\n",
              "      <td>0.411111</td>\n",
              "      <td>0.069567</td>\n",
              "      <td>0.285240</td>\n",
              "      <td>0.141707</td>\n",
              "      <td>0.775000</td>\n",
              "      <td>0.174005</td>\n",
              "      <td>0.180635</td>\n",
              "      <td>0.100452</td>\n",
              "    </tr>\n",
              "    <tr>\n",
              "      <th>191</th>\n",
              "      <td>{'FeatureExtraction__CargosLimpioNGramas__max_...</td>\n",
              "      <td>N-gramas + RF</td>\n",
              "      <td>0.411111</td>\n",
              "      <td>0.069567</td>\n",
              "      <td>0.291300</td>\n",
              "      <td>0.144259</td>\n",
              "      <td>0.760000</td>\n",
              "      <td>0.167862</td>\n",
              "      <td>0.186517</td>\n",
              "      <td>0.102597</td>\n",
              "    </tr>\n",
              "  </tbody>\n",
              "</table>\n",
              "<p>192 rows × 10 columns</p>\n",
              "</div>"
            ],
            "text/plain": [
              "                                                params  ... std_test_recall\n",
              "0    {'FeatureExtraction__CargosLimpioNGramas__max_...  ...        0.052536\n",
              "1    {'FeatureExtraction__CargosLimpioNGramas__max_...  ...        0.088863\n",
              "2    {'FeatureExtraction__CargosLimpioNGramas__max_...  ...        0.074309\n",
              "3    {'FeatureExtraction__CargosLimpioNGramas__max_...  ...        0.076368\n",
              "4    {'FeatureExtraction__CargosLimpioNGramas__max_...  ...        0.061093\n",
              "..                                                 ...  ...             ...\n",
              "187  {'FeatureExtraction__CargosLimpioNGramas__max_...  ...        0.345333\n",
              "188  {'FeatureExtraction__CargosLimpioNGramas__max_...  ...        0.085434\n",
              "189  {'FeatureExtraction__CargosLimpioNGramas__max_...  ...        0.071481\n",
              "190  {'FeatureExtraction__CargosLimpioNGramas__max_...  ...        0.100452\n",
              "191  {'FeatureExtraction__CargosLimpioNGramas__max_...  ...        0.102597\n",
              "\n",
              "[192 rows x 10 columns]"
            ]
          },
          "metadata": {},
          "execution_count": 22
        }
      ]
    },
    {
      "cell_type": "markdown",
      "metadata": {
        "id": "v67rWrJeu2E_"
      },
      "source": [
        "### Experimentos modelo SVC + n-gramas"
      ]
    },
    {
      "cell_type": "code",
      "metadata": {
        "id": "QSh4ELJhu2E_"
      },
      "source": [
        "# crear modelo combinado de n-gramas y random forest\n",
        "column_trans = ColumnTransformer([\n",
        "    # Applicar una transformación CountVectorizer a la columna 'cargos'  \n",
        "    ('CargosLimpioNGramas',  CountVectorizer(), 'cargos limpio')\n",
        "    ],\n",
        "    remainder='drop' # ignore the remaining columns\n",
        ")\n",
        "\n",
        "pipeline = Pipeline([\n",
        "    # Primer paso: extracción de características\n",
        "    (\"FeatureExtraction\", column_trans),\n",
        "    # Segundo paso: predicción de la decisión\n",
        "    ('SVMPred', SVC(random_state=0, class_weight=\"balanced\")) # freeze random state\n",
        "])"
      ],
      "execution_count": 25,
      "outputs": []
    },
    {
      "cell_type": "code",
      "metadata": {
        "id": "Ysh4B8JRu2E_"
      },
      "source": [
        "# especificación de hiperparámetros a optimizar\n",
        "parameters = {\n",
        "    'FeatureExtraction__CargosLimpioNGramas__max_features': [50, None], # cant de features a extraer\n",
        "    'FeatureExtraction__CargosLimpioNGramas__max_df': [1.0, 0.95], \n",
        "    'FeatureExtraction__CargosLimpioNGramas__min_df': [0.0, 0.05],\n",
        "    'FeatureExtraction__CargosLimpioNGramas__ngram_range': [(1, 1), (2, 2), (3, 3)], # n-grams length\n",
        "    'SVMPred__C': [0.1, 1, 10], \n",
        "    'SVMPred__kernel':['linear', 'rbf'],\n",
        "}"
      ],
      "execution_count": 26,
      "outputs": []
    },
    {
      "cell_type": "code",
      "metadata": {
        "id": "DfyL24dfu2E_",
        "colab": {
          "base_uri": "https://localhost:8080/"
        },
        "outputId": "03c4086b-eab8-4fcf-dbaf-b1a2075ea05d"
      },
      "source": [
        "exp_results_df = run_CV(pipeline, \n",
        "                        \"N-gramas + SVC\", \n",
        "                        parameters, \n",
        "                        kf, \n",
        "                        X_train, Y_train)\n",
        "\n",
        "experiments_results = experiments_results.append(exp_results_df)"
      ],
      "execution_count": 27,
      "outputs": [
        {
          "output_type": "stream",
          "name": "stderr",
          "text": [
            "/usr/local/lib/python3.7/dist-packages/sklearn/metrics/_classification.py:1272: UndefinedMetricWarning: Precision is ill-defined and being set to 0.0 due to no predicted samples. Use `zero_division` parameter to control this behavior.\n",
            "  _warn_prf(average, modifier, msg_start, len(result))\n",
            "/usr/local/lib/python3.7/dist-packages/sklearn/metrics/_classification.py:1272: UndefinedMetricWarning: Precision is ill-defined and being set to 0.0 due to no predicted samples. Use `zero_division` parameter to control this behavior.\n",
            "  _warn_prf(average, modifier, msg_start, len(result))\n",
            "/usr/local/lib/python3.7/dist-packages/sklearn/metrics/_classification.py:1272: UndefinedMetricWarning: Precision is ill-defined and being set to 0.0 due to no predicted samples. Use `zero_division` parameter to control this behavior.\n",
            "  _warn_prf(average, modifier, msg_start, len(result))\n",
            "/usr/local/lib/python3.7/dist-packages/sklearn/metrics/_classification.py:1272: UndefinedMetricWarning: Precision is ill-defined and being set to 0.0 due to no predicted samples. Use `zero_division` parameter to control this behavior.\n",
            "  _warn_prf(average, modifier, msg_start, len(result))\n",
            "/usr/local/lib/python3.7/dist-packages/sklearn/metrics/_classification.py:1272: UndefinedMetricWarning: Precision is ill-defined and being set to 0.0 due to no predicted samples. Use `zero_division` parameter to control this behavior.\n",
            "  _warn_prf(average, modifier, msg_start, len(result))\n",
            "/usr/local/lib/python3.7/dist-packages/sklearn/metrics/_classification.py:1272: UndefinedMetricWarning: Precision is ill-defined and being set to 0.0 due to no predicted samples. Use `zero_division` parameter to control this behavior.\n",
            "  _warn_prf(average, modifier, msg_start, len(result))\n",
            "/usr/local/lib/python3.7/dist-packages/sklearn/metrics/_classification.py:1272: UndefinedMetricWarning: Precision is ill-defined and being set to 0.0 due to no predicted samples. Use `zero_division` parameter to control this behavior.\n",
            "  _warn_prf(average, modifier, msg_start, len(result))\n",
            "/usr/local/lib/python3.7/dist-packages/sklearn/metrics/_classification.py:1272: UndefinedMetricWarning: Precision is ill-defined and being set to 0.0 due to no predicted samples. Use `zero_division` parameter to control this behavior.\n",
            "  _warn_prf(average, modifier, msg_start, len(result))\n",
            "/usr/local/lib/python3.7/dist-packages/sklearn/metrics/_classification.py:1272: UndefinedMetricWarning: Precision is ill-defined and being set to 0.0 due to no predicted samples. Use `zero_division` parameter to control this behavior.\n",
            "  _warn_prf(average, modifier, msg_start, len(result))\n",
            "/usr/local/lib/python3.7/dist-packages/sklearn/metrics/_classification.py:1272: UndefinedMetricWarning: Precision is ill-defined and being set to 0.0 due to no predicted samples. Use `zero_division` parameter to control this behavior.\n",
            "  _warn_prf(average, modifier, msg_start, len(result))\n",
            "/usr/local/lib/python3.7/dist-packages/sklearn/metrics/_classification.py:1272: UndefinedMetricWarning: Precision is ill-defined and being set to 0.0 due to no predicted samples. Use `zero_division` parameter to control this behavior.\n",
            "  _warn_prf(average, modifier, msg_start, len(result))\n",
            "/usr/local/lib/python3.7/dist-packages/sklearn/metrics/_classification.py:1272: UndefinedMetricWarning: Precision is ill-defined and being set to 0.0 due to no predicted samples. Use `zero_division` parameter to control this behavior.\n",
            "  _warn_prf(average, modifier, msg_start, len(result))\n",
            "/usr/local/lib/python3.7/dist-packages/sklearn/metrics/_classification.py:1272: UndefinedMetricWarning: Precision is ill-defined and being set to 0.0 due to no predicted samples. Use `zero_division` parameter to control this behavior.\n",
            "  _warn_prf(average, modifier, msg_start, len(result))\n",
            "/usr/local/lib/python3.7/dist-packages/sklearn/metrics/_classification.py:1272: UndefinedMetricWarning: Precision is ill-defined and being set to 0.0 due to no predicted samples. Use `zero_division` parameter to control this behavior.\n",
            "  _warn_prf(average, modifier, msg_start, len(result))\n",
            "/usr/local/lib/python3.7/dist-packages/sklearn/metrics/_classification.py:1272: UndefinedMetricWarning: Precision is ill-defined and being set to 0.0 due to no predicted samples. Use `zero_division` parameter to control this behavior.\n",
            "  _warn_prf(average, modifier, msg_start, len(result))\n",
            "/usr/local/lib/python3.7/dist-packages/sklearn/metrics/_classification.py:1272: UndefinedMetricWarning: Precision is ill-defined and being set to 0.0 due to no predicted samples. Use `zero_division` parameter to control this behavior.\n",
            "  _warn_prf(average, modifier, msg_start, len(result))\n",
            "/usr/local/lib/python3.7/dist-packages/sklearn/metrics/_classification.py:1272: UndefinedMetricWarning: Precision is ill-defined and being set to 0.0 due to no predicted samples. Use `zero_division` parameter to control this behavior.\n",
            "  _warn_prf(average, modifier, msg_start, len(result))\n",
            "/usr/local/lib/python3.7/dist-packages/sklearn/metrics/_classification.py:1272: UndefinedMetricWarning: Precision is ill-defined and being set to 0.0 due to no predicted samples. Use `zero_division` parameter to control this behavior.\n",
            "  _warn_prf(average, modifier, msg_start, len(result))\n",
            "/usr/local/lib/python3.7/dist-packages/sklearn/metrics/_classification.py:1272: UndefinedMetricWarning: Precision is ill-defined and being set to 0.0 due to no predicted samples. Use `zero_division` parameter to control this behavior.\n",
            "  _warn_prf(average, modifier, msg_start, len(result))\n",
            "/usr/local/lib/python3.7/dist-packages/sklearn/metrics/_classification.py:1272: UndefinedMetricWarning: Precision is ill-defined and being set to 0.0 due to no predicted samples. Use `zero_division` parameter to control this behavior.\n",
            "  _warn_prf(average, modifier, msg_start, len(result))\n",
            "/usr/local/lib/python3.7/dist-packages/sklearn/metrics/_classification.py:1272: UndefinedMetricWarning: Precision is ill-defined and being set to 0.0 due to no predicted samples. Use `zero_division` parameter to control this behavior.\n",
            "  _warn_prf(average, modifier, msg_start, len(result))\n",
            "/usr/local/lib/python3.7/dist-packages/sklearn/metrics/_classification.py:1272: UndefinedMetricWarning: Precision is ill-defined and being set to 0.0 due to no predicted samples. Use `zero_division` parameter to control this behavior.\n",
            "  _warn_prf(average, modifier, msg_start, len(result))\n",
            "/usr/local/lib/python3.7/dist-packages/sklearn/metrics/_classification.py:1272: UndefinedMetricWarning: Precision is ill-defined and being set to 0.0 due to no predicted samples. Use `zero_division` parameter to control this behavior.\n",
            "  _warn_prf(average, modifier, msg_start, len(result))\n",
            "/usr/local/lib/python3.7/dist-packages/sklearn/metrics/_classification.py:1272: UndefinedMetricWarning: Precision is ill-defined and being set to 0.0 due to no predicted samples. Use `zero_division` parameter to control this behavior.\n",
            "  _warn_prf(average, modifier, msg_start, len(result))\n",
            "/usr/local/lib/python3.7/dist-packages/sklearn/metrics/_classification.py:1272: UndefinedMetricWarning: Precision is ill-defined and being set to 0.0 due to no predicted samples. Use `zero_division` parameter to control this behavior.\n",
            "  _warn_prf(average, modifier, msg_start, len(result))\n",
            "/usr/local/lib/python3.7/dist-packages/sklearn/metrics/_classification.py:1272: UndefinedMetricWarning: Precision is ill-defined and being set to 0.0 due to no predicted samples. Use `zero_division` parameter to control this behavior.\n",
            "  _warn_prf(average, modifier, msg_start, len(result))\n",
            "/usr/local/lib/python3.7/dist-packages/sklearn/metrics/_classification.py:1272: UndefinedMetricWarning: Precision is ill-defined and being set to 0.0 due to no predicted samples. Use `zero_division` parameter to control this behavior.\n",
            "  _warn_prf(average, modifier, msg_start, len(result))\n",
            "/usr/local/lib/python3.7/dist-packages/sklearn/metrics/_classification.py:1272: UndefinedMetricWarning: Precision is ill-defined and being set to 0.0 due to no predicted samples. Use `zero_division` parameter to control this behavior.\n",
            "  _warn_prf(average, modifier, msg_start, len(result))\n",
            "/usr/local/lib/python3.7/dist-packages/sklearn/metrics/_classification.py:1272: UndefinedMetricWarning: Precision is ill-defined and being set to 0.0 due to no predicted samples. Use `zero_division` parameter to control this behavior.\n",
            "  _warn_prf(average, modifier, msg_start, len(result))\n",
            "/usr/local/lib/python3.7/dist-packages/sklearn/metrics/_classification.py:1272: UndefinedMetricWarning: Precision is ill-defined and being set to 0.0 due to no predicted samples. Use `zero_division` parameter to control this behavior.\n",
            "  _warn_prf(average, modifier, msg_start, len(result))\n",
            "/usr/local/lib/python3.7/dist-packages/sklearn/metrics/_classification.py:1272: UndefinedMetricWarning: Precision is ill-defined and being set to 0.0 due to no predicted samples. Use `zero_division` parameter to control this behavior.\n",
            "  _warn_prf(average, modifier, msg_start, len(result))\n",
            "/usr/local/lib/python3.7/dist-packages/sklearn/metrics/_classification.py:1272: UndefinedMetricWarning: Precision is ill-defined and being set to 0.0 due to no predicted samples. Use `zero_division` parameter to control this behavior.\n",
            "  _warn_prf(average, modifier, msg_start, len(result))\n",
            "/usr/local/lib/python3.7/dist-packages/sklearn/metrics/_classification.py:1272: UndefinedMetricWarning: Precision is ill-defined and being set to 0.0 due to no predicted samples. Use `zero_division` parameter to control this behavior.\n",
            "  _warn_prf(average, modifier, msg_start, len(result))\n",
            "/usr/local/lib/python3.7/dist-packages/sklearn/metrics/_classification.py:1272: UndefinedMetricWarning: Precision is ill-defined and being set to 0.0 due to no predicted samples. Use `zero_division` parameter to control this behavior.\n",
            "  _warn_prf(average, modifier, msg_start, len(result))\n",
            "/usr/local/lib/python3.7/dist-packages/sklearn/metrics/_classification.py:1272: UndefinedMetricWarning: Precision is ill-defined and being set to 0.0 due to no predicted samples. Use `zero_division` parameter to control this behavior.\n",
            "  _warn_prf(average, modifier, msg_start, len(result))\n",
            "/usr/local/lib/python3.7/dist-packages/sklearn/metrics/_classification.py:1272: UndefinedMetricWarning: Precision is ill-defined and being set to 0.0 due to no predicted samples. Use `zero_division` parameter to control this behavior.\n",
            "  _warn_prf(average, modifier, msg_start, len(result))\n",
            "/usr/local/lib/python3.7/dist-packages/sklearn/metrics/_classification.py:1272: UndefinedMetricWarning: Precision is ill-defined and being set to 0.0 due to no predicted samples. Use `zero_division` parameter to control this behavior.\n",
            "  _warn_prf(average, modifier, msg_start, len(result))\n",
            "/usr/local/lib/python3.7/dist-packages/sklearn/metrics/_classification.py:1272: UndefinedMetricWarning: Precision is ill-defined and being set to 0.0 due to no predicted samples. Use `zero_division` parameter to control this behavior.\n",
            "  _warn_prf(average, modifier, msg_start, len(result))\n",
            "/usr/local/lib/python3.7/dist-packages/sklearn/metrics/_classification.py:1272: UndefinedMetricWarning: Precision is ill-defined and being set to 0.0 due to no predicted samples. Use `zero_division` parameter to control this behavior.\n",
            "  _warn_prf(average, modifier, msg_start, len(result))\n",
            "/usr/local/lib/python3.7/dist-packages/sklearn/metrics/_classification.py:1272: UndefinedMetricWarning: Precision is ill-defined and being set to 0.0 due to no predicted samples. Use `zero_division` parameter to control this behavior.\n",
            "  _warn_prf(average, modifier, msg_start, len(result))\n",
            "/usr/local/lib/python3.7/dist-packages/sklearn/metrics/_classification.py:1272: UndefinedMetricWarning: Precision is ill-defined and being set to 0.0 due to no predicted samples. Use `zero_division` parameter to control this behavior.\n",
            "  _warn_prf(average, modifier, msg_start, len(result))\n",
            "/usr/local/lib/python3.7/dist-packages/sklearn/metrics/_classification.py:1272: UndefinedMetricWarning: Precision is ill-defined and being set to 0.0 due to no predicted samples. Use `zero_division` parameter to control this behavior.\n",
            "  _warn_prf(average, modifier, msg_start, len(result))\n",
            "/usr/local/lib/python3.7/dist-packages/sklearn/metrics/_classification.py:1272: UndefinedMetricWarning: Precision is ill-defined and being set to 0.0 due to no predicted samples. Use `zero_division` parameter to control this behavior.\n",
            "  _warn_prf(average, modifier, msg_start, len(result))\n",
            "/usr/local/lib/python3.7/dist-packages/sklearn/metrics/_classification.py:1272: UndefinedMetricWarning: Precision is ill-defined and being set to 0.0 due to no predicted samples. Use `zero_division` parameter to control this behavior.\n",
            "  _warn_prf(average, modifier, msg_start, len(result))\n",
            "/usr/local/lib/python3.7/dist-packages/sklearn/metrics/_classification.py:1272: UndefinedMetricWarning: Precision is ill-defined and being set to 0.0 due to no predicted samples. Use `zero_division` parameter to control this behavior.\n",
            "  _warn_prf(average, modifier, msg_start, len(result))\n",
            "/usr/local/lib/python3.7/dist-packages/sklearn/metrics/_classification.py:1272: UndefinedMetricWarning: Precision is ill-defined and being set to 0.0 due to no predicted samples. Use `zero_division` parameter to control this behavior.\n",
            "  _warn_prf(average, modifier, msg_start, len(result))\n",
            "/usr/local/lib/python3.7/dist-packages/sklearn/metrics/_classification.py:1272: UndefinedMetricWarning: Precision is ill-defined and being set to 0.0 due to no predicted samples. Use `zero_division` parameter to control this behavior.\n",
            "  _warn_prf(average, modifier, msg_start, len(result))\n",
            "/usr/local/lib/python3.7/dist-packages/sklearn/metrics/_classification.py:1272: UndefinedMetricWarning: Precision is ill-defined and being set to 0.0 due to no predicted samples. Use `zero_division` parameter to control this behavior.\n",
            "  _warn_prf(average, modifier, msg_start, len(result))\n"
          ]
        }
      ]
    },
    {
      "cell_type": "markdown",
      "metadata": {
        "id": "G7_ioW2uu2FA"
      },
      "source": [
        "### Experimentos modelo RF + TF-IDF"
      ]
    },
    {
      "cell_type": "code",
      "metadata": {
        "id": "TOaeCCA-u2FA"
      },
      "source": [
        "# crear modelo combinado de n-gramas (TF-IDF) y random forest\n",
        "column_trans_2 = ColumnTransformer([\n",
        "    # Applicar una transformación TFIDF a la columna 'cargos'  \n",
        "    ('CargosLimpiosTFIDF',  TfidfVectorizer(), 'cargos limpio')\n",
        "    ],\n",
        "    remainder='drop' # ignore the remaining columns\n",
        ")\n",
        "\n",
        "pipeline_2 = Pipeline([\n",
        "    # Primer paso: extracción de características\n",
        "    (\"FeatureExtraction\", column_trans_2),\n",
        "    # Segundo paso: predicción de la decisión\n",
        "    ('RandForestPred', RandomForestClassifier(random_state=0, criterion=\"entropy\",\n",
        "                                              class_weight=\"balanced\")) # freeze random state\n",
        "])"
      ],
      "execution_count": 28,
      "outputs": []
    },
    {
      "cell_type": "code",
      "metadata": {
        "id": "u7HdGLw8u2FA"
      },
      "source": [
        "# especificación de hiperparámetros a optimizar\n",
        "parameters_2 = {\n",
        "    # parámetros del la transformación de la columna Cargos Limpio\n",
        "    'FeatureExtraction__CargosLimpiosTFIDF__ngram_range': [(1, 1), (2, 2), (3, 3)], # n-grams length\n",
        "    'FeatureExtraction__CargosLimpiosTFIDF__max_features': [50, None], # cant de features a extraer\n",
        "    'FeatureExtraction__CargosLimpiosTFIDF__max_df': [1.0, 0.95], \n",
        "    'FeatureExtraction__CargosLimpiosTFIDF__min_df': [0.0, 0.05],\n",
        "\n",
        "    'RandForestPred__min_samples_leaf':[1, 3, 5, 7],\n",
        "    'RandForestPred__bootstrap': [True, False]\n",
        "}"
      ],
      "execution_count": 29,
      "outputs": []
    },
    {
      "cell_type": "code",
      "metadata": {
        "id": "JLTudiVhu2FB"
      },
      "source": [
        "exp_results_df = run_CV(pipeline_2, \n",
        "                        \"TF-IDF + RF\", \n",
        "                        parameters_2, \n",
        "                        kf, \n",
        "                        X_train, Y_train)\n",
        "\n",
        "experiments_results = experiments_results.append(exp_results_df)"
      ],
      "execution_count": null,
      "outputs": []
    },
    {
      "cell_type": "markdown",
      "metadata": {
        "id": "dMG6avkzu2FB"
      },
      "source": [
        "### Experimentos modelo SVC + TF-IDF"
      ]
    },
    {
      "cell_type": "code",
      "metadata": {
        "id": "0sntMHPdu2FB"
      },
      "source": [
        "# crear modelo combinado de n-gramas (TF-IDF) y SVC\n",
        "column_trans = ColumnTransformer([\n",
        "    # Applicar una transformación TFIDF a la columna 'cargos'  \n",
        "    ('CargosLimpiosTFIDF',  TfidfVectorizer(), 'cargos limpio')\n",
        "    ],\n",
        "    remainder='drop' # ignore the remaining columns\n",
        ")\n",
        "\n",
        "pipeline = Pipeline([\n",
        "    # Primer paso: extracción de características\n",
        "    (\"FeatureExtraction\", column_trans),\n",
        "    # Segundo paso: predicción de la decisión\n",
        "    ('SVMPred', SVC(random_state=0, class_weight=\"balanced\")) # freeze random state\n",
        "])"
      ],
      "execution_count": null,
      "outputs": []
    },
    {
      "cell_type": "code",
      "metadata": {
        "id": "hdtN4eneu2FB"
      },
      "source": [
        "# especificación de hiperparámetros a optimizar\n",
        "parameters = {\n",
        "    # parámetros del la transformación de la columna Cargos Limpio\n",
        "    'FeatureExtraction__CargosLimpiosTFIDF__ngram_range': [(1, 1), (2, 2), (3, 3)], # n-grams length\n",
        "    'FeatureExtraction__CargosLimpiosTFIDF__max_features': [50, None], # cant de features a extraer\n",
        "    'FeatureExtraction__CargosLimpiosTFIDF__max_df': [1.0, 0.95], \n",
        "    'FeatureExtraction__CargosLimpiosTFIDF__min_df': [0.0, 0.05],\n",
        "\n",
        "    'SVMPred__C': [0.1, 1, 10], \n",
        "    'SVMPred__kernel':['linear', 'rbf'],\n",
        "}"
      ],
      "execution_count": null,
      "outputs": []
    },
    {
      "cell_type": "code",
      "metadata": {
        "id": "qQtKyph3u2FC"
      },
      "source": [
        "exp_results_df = run_CV(pipeline, \n",
        "                        \"TF-IDF + SVC\", \n",
        "                        parameters, \n",
        "                        kf, \n",
        "                        X_train, Y_train)\n",
        "\n",
        "experiments_results = experiments_results.append(exp_results_df)"
      ],
      "execution_count": null,
      "outputs": []
    },
    {
      "cell_type": "markdown",
      "metadata": {
        "id": "kgaTVgWdu2FC"
      },
      "source": [
        "### Experimento Cargos Multicat + RF"
      ]
    },
    {
      "cell_type": "code",
      "metadata": {
        "id": "snOobgiiu2FC"
      },
      "source": [
        "# entrenar el multi label binarizer\n",
        "mlb = MultiLabelBinarizer(classes=cargos_list)\n",
        "mlb.fit([cargos_list])\n",
        "\n",
        "# hay algunos errores que se debe corregir en la codificación\n",
        "X_train_proc = mlb.transform(X_train[\"códigos\"])\n",
        "\n",
        "print(X_train_proc.shape)"
      ],
      "execution_count": null,
      "outputs": []
    },
    {
      "cell_type": "code",
      "metadata": {
        "id": "CaOTy6Mmu2FD"
      },
      "source": [
        "# crear modelo combinado de cargos (multicat) y random forest\n",
        "\n",
        "pipeline_3 = Pipeline([\n",
        "    # predicción de la decisión\n",
        "    ('RandForestPred', RandomForestClassifier(random_state=0, class_weight=\"balanced\")) # freeze random state\n",
        "])"
      ],
      "execution_count": null,
      "outputs": []
    },
    {
      "cell_type": "code",
      "metadata": {
        "id": "fLb5VJbsu2FD"
      },
      "source": [
        "# especificación de hiperparámetros a optimizar\n",
        "parameters_3 = {\n",
        "    'RandForestPred__criterion': ['entropy'], \n",
        "    'RandForestPred__min_samples_leaf':[1, 3, 5, 7],\n",
        "    'RandForestPred__bootstrap': [True, False]\n",
        "}"
      ],
      "execution_count": null,
      "outputs": []
    },
    {
      "cell_type": "code",
      "metadata": {
        "id": "SOicc2zOu2FD"
      },
      "source": [
        "exp_results_df = run_CV(pipeline_3, \n",
        "                        \"CargosMulticat + RF\", \n",
        "                        parameters_3, \n",
        "                        kf, \n",
        "                        X_train_proc, Y_train)\n",
        "\n",
        "experiments_results = experiments_results.append(exp_results_df)"
      ],
      "execution_count": null,
      "outputs": []
    },
    {
      "cell_type": "markdown",
      "metadata": {
        "id": "kTna_lbZu2FD"
      },
      "source": [
        "### Experimento Cargos Multicat + SVC"
      ]
    },
    {
      "cell_type": "code",
      "metadata": {
        "id": "84oQd7Uru2FD"
      },
      "source": [
        "# crear modelo combinado de cargos (multicat) y SVM\n",
        "pipeline = Pipeline([\n",
        "    # predicción de la decisión\n",
        "    ('SVMPred', SVC(random_state=0, class_weight=\"balanced\")) # freeze random state\n",
        "])"
      ],
      "execution_count": null,
      "outputs": []
    },
    {
      "cell_type": "code",
      "metadata": {
        "id": "TXaKx49ou2FD"
      },
      "source": [
        "# especificación de hiperparámetros a optimizar\n",
        "parameters = {\n",
        "    'SVMPred__C': [0.1, 1, 10], \n",
        "    'SVMPred__kernel':['linear', 'rbf'],\n",
        "}"
      ],
      "execution_count": null,
      "outputs": []
    },
    {
      "cell_type": "code",
      "metadata": {
        "id": "E_4fv6Icu2FE"
      },
      "source": [
        "exp_results_df = run_CV(pipeline, \n",
        "                        \"CargosMulticat + SVM\", \n",
        "                        parameters, \n",
        "                        kf, \n",
        "                        X_train_proc, Y_train)\n",
        "\n",
        "experiments_results = experiments_results.append(exp_results_df)"
      ],
      "execution_count": null,
      "outputs": []
    },
    {
      "cell_type": "code",
      "metadata": {
        "id": "wXTxDlFI7zYY"
      },
      "source": [
        "## Guardar los resultados"
      ],
      "execution_count": null,
      "outputs": []
    },
    {
      "cell_type": "code",
      "metadata": {
        "id": "yedGKvNMu2FE"
      },
      "source": [
        "experiments_results.to_csv(\"resultados_experimentos.csv\")"
      ],
      "execution_count": null,
      "outputs": []
    },
    {
      "cell_type": "code",
      "metadata": {
        "id": "n9nScOf0u2FE"
      },
      "source": [
        ""
      ],
      "execution_count": null,
      "outputs": []
    },
    {
      "cell_type": "code",
      "metadata": {
        "id": "lcUtwQBEu2FE"
      },
      "source": [
        ""
      ],
      "execution_count": null,
      "outputs": []
    }
  ]
}