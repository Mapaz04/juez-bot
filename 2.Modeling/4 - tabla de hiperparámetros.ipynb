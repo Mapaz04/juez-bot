{
 "cells": [
  {
   "cell_type": "code",
   "execution_count": 1,
   "metadata": {},
   "outputs": [],
   "source": [
    "import pandas as pd\n",
    "import seaborn as sns\n",
    "import numpy as np\n",
    "import os\n",
    "import re"
   ]
  },
  {
   "cell_type": "code",
   "execution_count": 232,
   "metadata": {},
   "outputs": [],
   "source": [
    "df = pd.read_csv(\"mejores_modelos/resultados_definitivos.csv\", index_col=0)\n",
    "df = df.loc[:, [\"Modelo\", \"Hiper parámetros\"]]"
   ]
  },
  {
   "cell_type": "code",
   "execution_count": 233,
   "metadata": {},
   "outputs": [],
   "source": [
    "def args_string_to_dict(arguments):\n",
    "    arguments = arguments[1:-1]\n",
    "    arguments = arguments.split(\", '\")\n",
    "    arguments = [ x.replace(\"'\", \"\") for x in arguments ]\n",
    "    arguments = [ tuple(x.split(\": \")) for x in arguments ]\n",
    "\n",
    "    def eval_obj(string):\n",
    "        if re.match(\"[a-zA-Z]+\", string) and string != \"None\":\n",
    "            if string == \"None\":\n",
    "                return None\n",
    "            elif string == \"True\":\n",
    "                return True\n",
    "            elif string == \"False\":\n",
    "                return False\n",
    "            else:\n",
    "                return string\n",
    "        else: \n",
    "            return eval(string)\n",
    "\n",
    "    arguments = [ (x, eval_obj(y)) for x, y in arguments]\n",
    "    arguments = {k:v for k,v in arguments}\n",
    "\n",
    "    return arguments\n",
    "\n",
    "def separate_args(args_dict):\n",
    "    # extract FE and model arguments to pass to the \n",
    "    fe_args = {k: v for k,v in args_dict.items() if k.startswith(\"FeaExt\")}\n",
    "    fe_args = {k.split(\"__\")[-1]: v for k,v in fe_args.items()}\n",
    "\n",
    "    model_args = {k: v for k,v in args_dict.items() if k.startswith(\"Pred\")}\n",
    "    model_args = {k.split(\"__\")[-1]: v for k,v in model_args.items()}\n",
    "    \n",
    "    return fe_args, model_args"
   ]
  },
  {
   "cell_type": "code",
   "execution_count": 234,
   "metadata": {},
   "outputs": [
    {
     "data": {
      "text/plain": [
       "19         N-gramas + MLP \n",
       "0      N-gramas + RF  (PC)\n",
       "8           N-gramas + RF \n",
       "33         N-gramas + SVM \n",
       "35    N-gramas + SVM  (PC)\n",
       "19    SM + N-gramas + MLP \n",
       "32     SM + N-gramas + RF \n",
       "17    SM + N-gramas + SVM \n",
       "1            TF-IDF + MLP \n",
       "0        TF-IDF + RF  (PC)\n",
       "25            TF-IDF + RF \n",
       "8            TF-IDF + SVM \n",
       "30      TF-IDF + SVM  (PC)\n",
       "Name: Modelo, dtype: object"
      ]
     },
     "execution_count": 234,
     "metadata": {},
     "output_type": "execute_result"
    }
   ],
   "source": [
    "def limpieza(string):\n",
    "    string = string.replace(\"- not balanced\", \"\")\n",
    "    string = string.replace(\"- balanced\", \" (PC)\")\n",
    "    string = string.replace(\" - cargos limpio\", \"\")\n",
    "    string = string.replace(\"oversampling\", \"SM\")\n",
    "    \n",
    "    string = string.replace(\"mlp\", \"MLP\")\n",
    "    string = string.replace(\"rf\", \"RF\")\n",
    "    string = string.replace(\"svm\", \"SVM\")\n",
    "    \n",
    "    string = string.replace(\"ngramas\", \"N-gramas\")\n",
    "    string = string.replace(\"tf-idf\", \"TF-IDF\")\n",
    "    \n",
    "    return string\n",
    "\n",
    "df[\"Modelo\"] = df[\"Modelo\"].apply(limpieza)\n",
    "df[\"Modelo\"]"
   ]
  },
  {
   "cell_type": "code",
   "execution_count": null,
   "metadata": {},
   "outputs": [],
   "source": []
  },
  {
   "cell_type": "code",
   "execution_count": 235,
   "metadata": {},
   "outputs": [],
   "source": [
    "\"\"\"\n",
    "default_mlp_args = {\n",
    "    'Pred__random_state': [0],\n",
    "    'Pred__max_iter': [200],\n",
    "    'Pred__tol': [0.001],\n",
    "    'Pred__learning_rate_init': [0.001],\n",
    "}\n",
    "\n",
    "default_rf_args = {\n",
    "  'Pred__random_state': [0], \n",
    "  'Pred__criterion': [\"entropy\",], \n",
    "  'Pred__n_estimators': [100],\n",
    "}\n",
    "\n",
    "default_svm_args ={\n",
    "    'Pred__random_state': [0], \n",
    "}\n",
    "\"\"\"\n",
    "\n",
    "def filter_default_arguments(args_dic):\n",
    "    invariable_args = [\"random_state\", \"max_iter\", \"tol\", \"learning_rate_init\", \"criterion\", \n",
    "     \"n_estimators\", \"class_weight\"]\n",
    "    \n",
    "    new_dic = {}\n",
    "    for k, v in args_dic.items():\n",
    "        if all([x not in k for x in invariable_args]):\n",
    "            new_dic[k] = v\n",
    "    \n",
    "    if \"Pred__bootstrap\" in new_dic:\n",
    "        if not new_dic[\"Pred__bootstrap\"]:\n",
    "            del(new_dic[\"Pred__max_samples\"])\n",
    "        else: \n",
    "            new_dic[\"Pred__bootstrap\"] = str(new_dic[\"Pred__bootstrap\"])+\" (\"+\\\n",
    "                str(new_dic[\"Pred__max_samples\"])+\")\" \n",
    "            del(new_dic[\"Pred__max_samples\"])\n",
    "    \n",
    "    return new_dic\n",
    "\n",
    "    \n",
    "\n",
    "\n",
    "\n",
    "def clean_param_args(params):\n",
    "    result = {k.split(\"__\")[-1]: v for k, v in params.items()}\n",
    "    return result"
   ]
  },
  {
   "cell_type": "code",
   "execution_count": 236,
   "metadata": {},
   "outputs": [],
   "source": [
    "hp_eng_to_spanish = {\n",
    "    \"max_df\": \"freq_max\",\n",
    "    \"min_df\": \"freq_min\",\n",
    "    \"ngram_range\": \"rango_ngramas\",\n",
    "    \n",
    "    \"min_samples_leaf\": \"min_obvs_hoja\",\n",
    "    \"max_samples\": \"prop_bootstrap\",\n",
    "    \n",
    "    \"activation\": \"fun_act\",\n",
    "    \"hidden_layer_sizes\": \"arq_red\",\n",
    "    \"batch_size\": \"tam_lote\",\n",
    "    \n",
    "    \"class_weight\": \"pesos_de_clase\"\n",
    "}\n",
    "\n",
    "def process_hp_names(string):\n",
    "    for eng_n, spa_n in hp_eng_to_spanish.items():\n",
    "        string = string.replace(eng_n, spa_n)\n",
    "    return string"
   ]
  },
  {
   "cell_type": "code",
   "execution_count": 260,
   "metadata": {},
   "outputs": [
    {
     "data": {
      "text/plain": [
       "'freq_max: 1.0, freq_min: 0.0, rango_ngramas: (1, 2), newline bootstrap: True (0.95), min_obvs_hoja: 1'"
      ]
     },
     "execution_count": 260,
     "metadata": {},
     "output_type": "execute_result"
    }
   ],
   "source": [
    "df[\"Hiperparámetros óptimos\"] = df[\"Hiper parámetros\"].apply(args_string_to_dict)\n",
    "df[\"Hiperparámetros óptimos\"] = df[\"Hiperparámetros óptimos\"].apply(filter_default_arguments)\n",
    "\n",
    "df[\"Hiperparámetros óptimos\"] = df[\"Hiperparámetros óptimos\"].apply(clean_param_args)\n",
    "df[\"Hiperparámetros óptimos\"] = df[\"Hiperparámetros óptimos\"].apply(str)\n",
    "df[\"Hiperparámetros óptimos\"] = df[\"Hiperparámetros óptimos\"].apply(process_hp_names)\n",
    "df[\"Hiperparámetros óptimos\"] = df[\"Hiperparámetros óptimos\"].str.replace(\"'\", \"\")\n",
    "df[\"Hiperparámetros óptimos\"] = df[\"Hiperparámetros óptimos\"].str.replace(\"), \", \n",
    "                                                                          \"), newline \",\n",
    "                                                                         regex=False,\n",
    "                                                                         n = 1)\n",
    "df[\"Hiperparámetros óptimos\"] = df[\"Hiperparámetros óptimos\"].apply(lambda x: x[1:-1])\n",
    "\n",
    "df.iloc[6, 2]"
   ]
  },
  {
   "cell_type": "code",
   "execution_count": null,
   "metadata": {},
   "outputs": [],
   "source": []
  },
  {
   "cell_type": "code",
   "execution_count": null,
   "metadata": {},
   "outputs": [],
   "source": []
  },
  {
   "cell_type": "code",
   "execution_count": 264,
   "metadata": {},
   "outputs": [
    {
     "name": "stdout",
     "output_type": "stream",
     "text": [
      "\\begin{tabular}{|p{0.2\\textwidth}|p{0.80\\textwidth}|} \\hline\n",
      "\n",
      "              Modelo &                                                                                      Hiperparámetros óptimos \\\\ \\hline\n",
      "\n",
      "     N-gramas + MLP  & freq\\_max: 1.0, freq\\_min: 0.0, rango\\_ngramas: (1, 2), \\newline fun\\_act: tanh, tam\\_lote: auto, arq\\_red: (10, 5) \\\\ \\hline\n",
      " N-gramas + RF  (PC) &        freq\\_max: 1.0, freq\\_min: 0.0, rango\\_ngramas: (1, 1), \\newline bootstrap: True (0.95), min\\_obvs\\_hoja: 1 \\\\ \\hline\n",
      "      N-gramas + RF  &        freq\\_max: 1.0, freq\\_min: 0.0, rango\\_ngramas: (1, 1), \\newline bootstrap: True (0.95), min\\_obvs\\_hoja: 1 \\\\ \\hline\n",
      "     N-gramas + SVM  &                              freq\\_max: 1.0, freq\\_min: 0.0, rango\\_ngramas: (1, 2), \\newline C: 10, kernel: rbf \\\\ \\hline\n",
      "N-gramas + SVM  (PC) &                              freq\\_max: 1.0, freq\\_min: 0.0, rango\\_ngramas: (1, 2), \\newline C: 10, kernel: rbf \\\\ \\hline\n",
      "SM + N-gramas + MLP  & freq\\_max: 1.0, freq\\_min: 0.0, rango\\_ngramas: (1, 2), \\newline fun\\_act: tanh, tam\\_lote: auto, arq\\_red: (10, 5) \\\\ \\hline\n",
      " SM + N-gramas + RF  &        freq\\_max: 1.0, freq\\_min: 0.0, rango\\_ngramas: (1, 2), \\newline bootstrap: True (0.95), min\\_obvs\\_hoja: 1 \\\\ \\hline\n",
      "SM + N-gramas + SVM  &                              freq\\_max: 1.0, freq\\_min: 0.0, rango\\_ngramas: (1, 2), \\newline C: 10, kernel: rbf \\\\ \\hline\n",
      "       TF-IDF + MLP  &   freq\\_max: 1.0, freq\\_min: 0.0, rango\\_ngramas: (1, 1), \\newline fun\\_act: tanh, tam\\_lote: 25, arq\\_red: (10, 5) \\\\ \\hline\n",
      "   TF-IDF + RF  (PC) &        freq\\_max: 1.0, freq\\_min: 0.0, rango\\_ngramas: (1, 1), \\newline bootstrap: True (0.95), min\\_obvs\\_hoja: 1 \\\\ \\hline\n",
      "        TF-IDF + RF  &              freq\\_max: 1.0, freq\\_min: 0.0, rango\\_ngramas: (1, 1), \\newline bootstrap: False, min\\_obvs\\_hoja: 3 \\\\ \\hline\n",
      "       TF-IDF + SVM  &                           freq\\_max: 1.0, freq\\_min: 0.0, rango\\_ngramas: (1, 1), \\newline C: 10, kernel: linear \\\\ \\hline\n",
      "  TF-IDF + SVM  (PC) &                            freq\\_max: 1.0, freq\\_min: 0.0, rango\\_ngramas: (1, 2), \\newline C: 1, kernel: linear \\\\ \\hline\n",
      "\n",
      "\\end{tabular}\n",
      "\n"
     ]
    }
   ],
   "source": [
    "temp_df = df.loc[:, [\"Modelo\", \"Hiperparámetros óptimos\"]]\n",
    "with pd.option_context(\"max_colwidth\", 1000):\n",
    "    string = temp_df.to_latex(index=False)\n",
    "    string = string.replace(r\"\\\\\", r\"\\\\ \\hline\")\n",
    "    \n",
    "    string = string.replace(r\"\\toprule\", \"\")\n",
    "    string = string.replace(r\"\\midrule\", \"\")\n",
    "    string = string.replace(r\"\\bottomrule\", \"\")\n",
    "    string = string.replace(r\"\\begin{tabular}{ll}\", \n",
    "                            r\"\\begin{tabular}{|p{0.2\\textwidth}|p{0.80\\textwidth}|} \\hline\")\n",
    "    \n",
    "    string = string.replace(r\"newline\", r\"\\newline\")\n",
    "    \n",
    "    \n",
    "    print(string)"
   ]
  },
  {
   "cell_type": "code",
   "execution_count": null,
   "metadata": {},
   "outputs": [],
   "source": []
  },
  {
   "cell_type": "code",
   "execution_count": null,
   "metadata": {},
   "outputs": [],
   "source": []
  }
 ],
 "metadata": {
  "kernelspec": {
   "display_name": "Python 3",
   "language": "python",
   "name": "python3"
  },
  "language_info": {
   "codemirror_mode": {
    "name": "ipython",
    "version": 3
   },
   "file_extension": ".py",
   "mimetype": "text/x-python",
   "name": "python",
   "nbconvert_exporter": "python",
   "pygments_lexer": "ipython3",
   "version": "3.8.3"
  }
 },
 "nbformat": 4,
 "nbformat_minor": 4
}
