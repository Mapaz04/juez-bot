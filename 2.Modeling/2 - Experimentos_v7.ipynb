{
  "nbformat": 4,
  "nbformat_minor": 0,
  "metadata": {
    "colab": {
      "name": "Experimentos_v7.ipynb",
      "provenance": [],
      "collapsed_sections": [
        "kTna_lbZu2FD"
      ]
    },
    "kernelspec": {
      "display_name": "Python 3",
      "language": "python",
      "name": "python3"
    },
    "language_info": {
      "codemirror_mode": {
        "name": "ipython",
        "version": 3
      },
      "file_extension": ".py",
      "mimetype": "text/x-python",
      "name": "python",
      "nbconvert_exporter": "python",
      "pygments_lexer": "ipython3",
      "version": "3.8.3"
    }
  },
  "cells": [
    {
      "cell_type": "code",
      "metadata": {
        "id": "yrl7HXIzu2Eq"
      },
      "source": [
        "import pandas as pd\n",
        "import seaborn as sns"
      ],
      "execution_count": 1,
      "outputs": []
    },
    {
      "cell_type": "code",
      "metadata": {
        "id": "VzrvcorTFSYM"
      },
      "source": [
        "# https://machinelearningmastery.com/dont-use-random-guessing-as-your-baseline-classifier/\n",
        "# https://machinelearningmastery.com/tactics-to-combat-imbalanced-classes-in-your-machine-learning-dataset/"
      ],
      "execution_count": 2,
      "outputs": []
    },
    {
      "cell_type": "code",
      "metadata": {
        "id": "LUDuYkX_u2Eu"
      },
      "source": [
        "df_cargos_desc = pd.read_excel(\"cargos_categorias.xlsx\", sheet_name=0)\n",
        "cargos_list = list(df_cargos_desc[\"CÓDIGO\"])\n",
        "#cargos_list"
      ],
      "execution_count": 3,
      "outputs": []
    },
    {
      "cell_type": "code",
      "metadata": {
        "colab": {
          "base_uri": "https://localhost:8080/"
        },
        "id": "4BlcIg4_u2Ev",
        "outputId": "6766576a-1777-4cb6-c9b5-ba053f2833c8"
      },
      "source": [
        "data = pd.read_csv(\"res_completo.csv\", index_col=0)\n",
        "data.info()"
      ],
      "execution_count": 4,
      "outputs": [
        {
          "output_type": "stream",
          "name": "stdout",
          "text": [
            "<class 'pandas.core.frame.DataFrame'>\n",
            "Int64Index: 284 entries, 0 to 283\n",
            "Data columns (total 9 columns):\n",
            " #   Column               Non-Null Count  Dtype \n",
            "---  ------               --------------  ----- \n",
            " 0   id_resol             284 non-null    object\n",
            " 1   año                  284 non-null    int64 \n",
            " 2   cargos               284 non-null    object\n",
            " 3   códigos              283 non-null    object\n",
            " 4   Empresa denunciada   284 non-null    object\n",
            " 5   Multas               284 non-null    object\n",
            " 6   Medidas correctivas  284 non-null    object\n",
            " 7   dec_fav_denunciante  284 non-null    int64 \n",
            " 8   cargos limpio        284 non-null    object\n",
            "dtypes: int64(2), object(7)\n",
            "memory usage: 22.2+ KB\n"
          ]
        }
      ]
    },
    {
      "cell_type": "code",
      "metadata": {
        "id": "aKEwnCuUu2Ew"
      },
      "source": [
        "# crear lista de códigos de cargos multicategoricos\n",
        "data[\"códigos\"] = data[\"códigos\"].apply(lambda x: x.split(\",\") if isinstance(x, str) else [])"
      ],
      "execution_count": 5,
      "outputs": []
    },
    {
      "cell_type": "code",
      "metadata": {
        "id": "B_novOq-7z5Z"
      },
      "source": [
        "import re\n",
        "\n",
        "def limpieza_texto(string):\n",
        "    string = string.lower()\n",
        "    string = string.replace(\"\\n\", \" \")\n",
        "    list_words = re.findall(r'[a-z0-9ñáéíóúü-]+', string)\n",
        "    string = \" \".join(list_words)\n",
        "    return string\n",
        "\n",
        "data[\"cargos limp 1\"] = data[\"cargos\"].apply(limpieza_texto)\n"
      ],
      "execution_count": 6,
      "outputs": []
    },
    {
      "cell_type": "code",
      "metadata": {
        "colab": {
          "base_uri": "https://localhost:8080/",
          "height": 1000
        },
        "id": "6MdLggg1u2Ex",
        "scrolled": true,
        "outputId": "1c643041-9b0a-431f-f9c0-70c84e073ffd"
      },
      "source": [
        "data"
      ],
      "execution_count": 7,
      "outputs": [
        {
          "output_type": "execute_result",
          "data": {
            "text/html": [
              "<div>\n",
              "<style scoped>\n",
              "    .dataframe tbody tr th:only-of-type {\n",
              "        vertical-align: middle;\n",
              "    }\n",
              "\n",
              "    .dataframe tbody tr th {\n",
              "        vertical-align: top;\n",
              "    }\n",
              "\n",
              "    .dataframe thead th {\n",
              "        text-align: right;\n",
              "    }\n",
              "</style>\n",
              "<table border=\"1\" class=\"dataframe\">\n",
              "  <thead>\n",
              "    <tr style=\"text-align: right;\">\n",
              "      <th></th>\n",
              "      <th>id_resol</th>\n",
              "      <th>año</th>\n",
              "      <th>cargos</th>\n",
              "      <th>códigos</th>\n",
              "      <th>Empresa denunciada</th>\n",
              "      <th>Multas</th>\n",
              "      <th>Medidas correctivas</th>\n",
              "      <th>dec_fav_denunciante</th>\n",
              "      <th>cargos limpio</th>\n",
              "      <th>cargos limp 1</th>\n",
              "    </tr>\n",
              "  </thead>\n",
              "  <tbody>\n",
              "    <tr>\n",
              "      <th>0</th>\n",
              "      <td>0002-2020/SPC-INDECOPI</td>\n",
              "      <td>2020</td>\n",
              "      <td>Luego de contratar los servicios de la denunci...</td>\n",
              "      <td>[ser1]</td>\n",
              "      <td>EMPRESA DE TRANSPORTES TURISMO SEÑOR DE ATACO ...</td>\n",
              "      <td>0</td>\n",
              "      <td>0</td>\n",
              "      <td>0</td>\n",
              "      <td>luego contratar servicios denunciada 26 octubr...</td>\n",
              "      <td>luego de contratar los servicios de la denunci...</td>\n",
              "    </tr>\n",
              "    <tr>\n",
              "      <th>1</th>\n",
              "      <td>0894-2020/SPC-INDECOPI</td>\n",
              "      <td>2020</td>\n",
              "      <td>La cláusula 11 incluida en sus boletos de viaj...</td>\n",
              "      <td>[c1]</td>\n",
              "      <td>EMPRESA CAPLINA DE TRANSPORTES TURÍSTICOS INTE...</td>\n",
              "      <td>1 UIT</td>\n",
              "      <td>Consignar mecanismos de indemnización por pérd...</td>\n",
              "      <td>1</td>\n",
              "      <td>cláusula 11 incluida boletos viaje establecía ...</td>\n",
              "      <td>la cláusula 11 incluida en sus boletos de viaj...</td>\n",
              "    </tr>\n",
              "    <tr>\n",
              "      <th>2</th>\n",
              "      <td>0893-2020/SPC-INDECOPI</td>\n",
              "      <td>2020</td>\n",
              "      <td>La cláusula 11 incluida en sus boletos de viaj...</td>\n",
              "      <td>[c1]</td>\n",
              "      <td>EMPRESA DE TRANSPORTES FLORES HNOS S.R.L.</td>\n",
              "      <td>1 UIT</td>\n",
              "      <td>Consignar mecanismos de indemnización por pérd...</td>\n",
              "      <td>1</td>\n",
              "      <td>cláusula 11 incluida boletos viaje establecía ...</td>\n",
              "      <td>la cláusula 11 incluida en sus boletos de viaj...</td>\n",
              "    </tr>\n",
              "    <tr>\n",
              "      <th>3</th>\n",
              "      <td>0051-2020/SPC-INDECOPI</td>\n",
              "      <td>2020</td>\n",
              "      <td>la empresa no implementó en su establecimiento...</td>\n",
              "      <td>[o1, o2, seg1, c2]</td>\n",
              "      <td>TURISMO EXPRESO LATINO AMERICANO E.I.R.L</td>\n",
              "      <td>4.68 UIT</td>\n",
              "      <td>Adecuar boletos y difundirlo</td>\n",
              "      <td>1</td>\n",
              "      <td>empresa implementó establecimiento comercial l...</td>\n",
              "      <td>la empresa no implementó en su establecimiento...</td>\n",
              "    </tr>\n",
              "    <tr>\n",
              "      <th>4</th>\n",
              "      <td>0944-2020/SPC-INDECOPI</td>\n",
              "      <td>2020</td>\n",
              "      <td>La empresa no habría brindado un servicio idón...</td>\n",
              "      <td>[ser3]</td>\n",
              "      <td>EMPRESA DE TRANSPORTES Y SERVICIOS MÚLTIPLES S...</td>\n",
              "      <td>50 UIT</td>\n",
              "      <td>0</td>\n",
              "      <td>1</td>\n",
              "      <td>empresa brindado servicio idóneo ruta trujillo...</td>\n",
              "      <td>la empresa no habría brindado un servicio idón...</td>\n",
              "    </tr>\n",
              "    <tr>\n",
              "      <th>...</th>\n",
              "      <td>...</td>\n",
              "      <td>...</td>\n",
              "      <td>...</td>\n",
              "      <td>...</td>\n",
              "      <td>...</td>\n",
              "      <td>...</td>\n",
              "      <td>...</td>\n",
              "      <td>...</td>\n",
              "      <td>...</td>\n",
              "      <td>...</td>\n",
              "    </tr>\n",
              "    <tr>\n",
              "      <th>279</th>\n",
              "      <td>1133-2010/SPC-INDECOPI</td>\n",
              "      <td>2010</td>\n",
              "      <td>(i) El 3 de abril de 2009 contrató los servic...</td>\n",
              "      <td>[ser1, ser7, ser13]</td>\n",
              "      <td>Empresa de Transportes Expreso Cial S.A.C.</td>\n",
              "      <td>2 UIT Pago de costas y costos</td>\n",
              "      <td>S/.550.00</td>\n",
              "      <td>1</td>\n",
              "      <td>i 3 abril 2009 contrató servicios expreso cial...</td>\n",
              "      <td>i el 3 de abril de 2009 contrató los servicios...</td>\n",
              "    </tr>\n",
              "    <tr>\n",
              "      <th>280</th>\n",
              "      <td>1241-2010/SPC-INDECOPI</td>\n",
              "      <td>2010</td>\n",
              "      <td>Señaló que el denunciado no le habría brindado...</td>\n",
              "      <td>[ser2, ser16]</td>\n",
              "      <td>TURISMO CIVA S.A.C.</td>\n",
              "      <td>0</td>\n",
              "      <td>0</td>\n",
              "      <td>0</td>\n",
              "      <td>señaló denunciado brindado servicio transporte...</td>\n",
              "      <td>señaló que el denunciado no le habría brindado...</td>\n",
              "    </tr>\n",
              "    <tr>\n",
              "      <th>281</th>\n",
              "      <td>1404-2010/SPC-INDECOPI</td>\n",
              "      <td>2010</td>\n",
              "      <td>Señaló que el 29 de abril de 2009 contrató\\nlo...</td>\n",
              "      <td>[ser2]</td>\n",
              "      <td>JULSA ÁNGELES TOURS S.A.C.</td>\n",
              "      <td>1 UIT Pago de costas y costos</td>\n",
              "      <td>S/.40.00</td>\n",
              "      <td>1</td>\n",
              "      <td>señaló 29 abril 2009 contrató servicios denunc...</td>\n",
              "      <td>señaló que el 29 de abril de 2009 contrató los...</td>\n",
              "    </tr>\n",
              "    <tr>\n",
              "      <th>282</th>\n",
              "      <td>1468-2010/SPC-INDECOPI</td>\n",
              "      <td>2010</td>\n",
              "      <td>se denuncio que en el viaje de Arequipa a\\nCus...</td>\n",
              "      <td>[ser2]</td>\n",
              "      <td>EMPRESA DE TRANSPORTES TURISMO REAL DEL SUR S....</td>\n",
              "      <td>2 UIT</td>\n",
              "      <td>S/.862.50</td>\n",
              "      <td>1</td>\n",
              "      <td>denuncio viaje arequipa cusco realizado 22 jun...</td>\n",
              "      <td>se denuncio que en el viaje de arequipa a cusc...</td>\n",
              "    </tr>\n",
              "    <tr>\n",
              "      <th>283</th>\n",
              "      <td>1469-2010/SPC-INDECOPI</td>\n",
              "      <td>2010</td>\n",
              "      <td>en el viaje de Lima a Piura, efectuado el 27 d...</td>\n",
              "      <td>[ser2]</td>\n",
              "      <td>TRANSPORTES CRUZ DEL SUR S.A.C.</td>\n",
              "      <td>8 UIT Pago de costas y costos</td>\n",
              "      <td>S/.1,500.00</td>\n",
              "      <td>1</td>\n",
              "      <td>viaje lima piura efectuado 27 febrero 2005 equ...</td>\n",
              "      <td>en el viaje de lima a piura efectuado el 27 de...</td>\n",
              "    </tr>\n",
              "  </tbody>\n",
              "</table>\n",
              "<p>284 rows × 10 columns</p>\n",
              "</div>"
            ],
            "text/plain": [
              "                   id_resol  ...                                      cargos limp 1\n",
              "0    0002-2020/SPC-INDECOPI  ...  luego de contratar los servicios de la denunci...\n",
              "1    0894-2020/SPC-INDECOPI  ...  la cláusula 11 incluida en sus boletos de viaj...\n",
              "2    0893-2020/SPC-INDECOPI  ...  la cláusula 11 incluida en sus boletos de viaj...\n",
              "3    0051-2020/SPC-INDECOPI  ...  la empresa no implementó en su establecimiento...\n",
              "4    0944-2020/SPC-INDECOPI  ...  la empresa no habría brindado un servicio idón...\n",
              "..                      ...  ...                                                ...\n",
              "279  1133-2010/SPC-INDECOPI  ...  i el 3 de abril de 2009 contrató los servicios...\n",
              "280  1241-2010/SPC-INDECOPI  ...  señaló que el denunciado no le habría brindado...\n",
              "281  1404-2010/SPC-INDECOPI  ...  señaló que el 29 de abril de 2009 contrató los...\n",
              "282  1468-2010/SPC-INDECOPI  ...  se denuncio que en el viaje de arequipa a cusc...\n",
              "283  1469-2010/SPC-INDECOPI  ...  en el viaje de lima a piura efectuado el 27 de...\n",
              "\n",
              "[284 rows x 10 columns]"
            ]
          },
          "metadata": {},
          "execution_count": 7
        }
      ]
    },
    {
      "cell_type": "code",
      "metadata": {
        "colab": {
          "base_uri": "https://localhost:8080/"
        },
        "id": "J8y4AMgv6Q5z",
        "outputId": "30a1fa33-b29e-438f-90a2-a8002b2ffdbb"
      },
      "source": [
        "# los datos están desbalanceados, así que tenemos que usar el precision y recall\n",
        "# para evaluar sus resultados\n",
        "\n",
        "data.groupby([\"dec_fav_denunciante\"])[\"id_resol\"].count() / data[\"id_resol\"].count()"
      ],
      "execution_count": 8,
      "outputs": [
        {
          "output_type": "execute_result",
          "data": {
            "text/plain": [
              "dec_fav_denunciante\n",
              "0    0.31338\n",
              "1    0.68662\n",
              "Name: id_resol, dtype: float64"
            ]
          },
          "metadata": {},
          "execution_count": 8
        }
      ]
    },
    {
      "cell_type": "markdown",
      "metadata": {
        "id": "KCqeZO6Iu2Ey"
      },
      "source": [
        "# Separación del conjunto de datos en entrenamiento y test"
      ]
    },
    {
      "cell_type": "code",
      "metadata": {
        "colab": {
          "base_uri": "https://localhost:8080/"
        },
        "id": "SigAMQgxu2E0",
        "outputId": "91742fdd-d549-4785-cc27-1cfb9066b86e"
      },
      "source": [
        "from sklearn.model_selection import train_test_split\n",
        "\n",
        "# Separación del conjunto de datos en entrenamiento y test\n",
        "# Separar el 20% para el test\n",
        "# estratificar de acuerdo con dec_fav_denunciante\n",
        "\n",
        "X_train, X_test, Y_train, Y_test = train_test_split(data.drop(\"dec_fav_denunciante\", \n",
        "                                                            axis=1),\n",
        "                                                    data[\"dec_fav_denunciante\"],\n",
        "                                                    test_size=0.2,\n",
        "                                                    stratify=data[\"dec_fav_denunciante\"],\n",
        "                                                    random_state=0)\n",
        "\n",
        "print(\"training set size: \", X_train.shape[0])\n",
        "print(\"test set size: \", X_test.shape[0])"
      ],
      "execution_count": 9,
      "outputs": [
        {
          "output_type": "stream",
          "name": "stdout",
          "text": [
            "training set size:  227\n",
            "test set size:  57\n"
          ]
        }
      ]
    },
    {
      "cell_type": "code",
      "metadata": {
        "id": "BOexP6aDu2E2"
      },
      "source": [
        "from sklearn.pipeline import Pipeline\n",
        "\n",
        "from sklearn.compose import ColumnTransformer\n",
        "from sklearn.preprocessing import OneHotEncoder\n",
        "\n",
        "from sklearn.feature_extraction.text import CountVectorizer\n",
        "from sklearn.feature_extraction.text import TfidfVectorizer\n",
        "from sklearn.preprocessing import MultiLabelBinarizer\n",
        "\n",
        "from sklearn.svm import SVC\n",
        "from sklearn.ensemble import RandomForestClassifier\n",
        "\n",
        "from sklearn.model_selection import KFold\n",
        "from sklearn.model_selection import GridSearchCV"
      ],
      "execution_count": 10,
      "outputs": []
    },
    {
      "cell_type": "code",
      "metadata": {
        "id": "QDyVbORSu2E3"
      },
      "source": [
        "# Crear un generador de cross-validation: 5-fold\n",
        "kf = KFold(n_splits=5, random_state=0, shuffle=True);"
      ],
      "execution_count": 11,
      "outputs": []
    },
    {
      "cell_type": "markdown",
      "metadata": {
        "id": "0iWAJzK1u2E5"
      },
      "source": [
        "# Optimización de hiperparámetros mediante CV"
      ]
    },
    {
      "cell_type": "code",
      "metadata": {
        "id": "Co2yIBRsu2E6"
      },
      "source": [
        "# crear DF para almacenar todos los resultados de los experiemntos\n",
        "experiments_results = pd.DataFrame(\n",
        "    columns=['params', 'model_name',\n",
        "             'mean_test_accuracy',  'std_test_accuracy',\n",
        "             'mean_test_f1',        'std_test_f1', \n",
        "             'mean_test_precision', 'std_test_precision', \n",
        "             'mean_test_recall',    'std_test_recall'])"
      ],
      "execution_count": 12,
      "outputs": []
    },
    {
      "cell_type": "code",
      "metadata": {
        "id": "vMa_knI5u2E7"
      },
      "source": [
        "# función que automatiza el proceso de optimización de hiperparámetros meidante CV para un\n",
        "# modelo, retorna un DF con los resultados de los experimentos\n",
        "\n",
        "def run_CV(model, model_name, parameters, cv_iter, X, Y):\n",
        "    \n",
        "    clf = GridSearchCV(estimator = model,       # especificar el modelo a entrenar\n",
        "                       param_grid = parameters, # especificar los parámetros a optimizar\n",
        "                       cv = cv_iter,            # 5-fold cross validation\n",
        "                        # definir métricas de evaluación\n",
        "                       scoring = ['accuracy', 'precision', 'recall', 'f1'], \n",
        "                       refit = False            # no entrenar un modelo con todos los datos\n",
        "                      )\n",
        "\n",
        "    # run the cv experiments\n",
        "    clf.fit(X, Y)\n",
        "\n",
        "    # store the results of the experiments in a dataframe\n",
        "    keys = ['params', 'model_name',\n",
        "            'mean_test_accuracy',  'std_test_accuracy',\n",
        "            'mean_test_f1', 'std_test_f1', \n",
        "            'mean_test_precision', 'std_test_precision', \n",
        "            'mean_test_recall', 'std_test_recall']\n",
        "             \n",
        "    results_dic = {k:v for k, v in clf.cv_results_.items() if k in keys}\n",
        "    results = pd.DataFrame(results_dic)\n",
        "    results[\"model_name\"] = model_name\n",
        "    \n",
        "    return results"
      ],
      "execution_count": 13,
      "outputs": []
    },
    {
      "cell_type": "markdown",
      "metadata": {
        "id": "Gl-fE2uSu2E8"
      },
      "source": [
        "### Experimentos modelo RF + n-gramas"
      ]
    },
    {
      "cell_type": "code",
      "metadata": {
        "id": "hbvJak0N8tSb"
      },
      "source": [
        "# 0.74 with cargos"
      ],
      "execution_count": null,
      "outputs": []
    },
    {
      "cell_type": "code",
      "metadata": {
        "id": "eMyjQM_zu2E8"
      },
      "source": [
        "# crear modelo combinado de n-gramas y random forest\n",
        "column_trans = ColumnTransformer([\n",
        "    # Applicar una transformación CountVectorizer a la columna 'cargos'  \n",
        "    ('CargosLimpioNGramas',  CountVectorizer(), 'cargos limp 1')\n",
        "    ],\n",
        "    remainder='drop' # ignore the remaining columns\n",
        ")\n",
        "\n",
        "pipeline = Pipeline([\n",
        "    # Primer paso: extracción de características\n",
        "    (\"FeatureExtraction\", column_trans),\n",
        "    # Segundo paso: predicción de la decisión\n",
        "    # freeze random state\n",
        "    ('RandForestPred', RandomForestClassifier(random_state=0, criterion=\"entropy\"\n",
        "                                             )) \n",
        "])"
      ],
      "execution_count": null,
      "outputs": []
    },
    {
      "cell_type": "code",
      "metadata": {
        "id": "Gl-e6nNuu2E9"
      },
      "source": [
        "# especificación de hiperparámetros a optimizar\n",
        "parameters = {\n",
        "    #'FeatureExtraction__CargosLimpioNGramas__max_features': [50, None], # cant de features a extraer\n",
        "    'FeatureExtraction__CargosLimpioNGramas__max_df': [1.0, 0.9], \n",
        "    'FeatureExtraction__CargosLimpioNGramas__min_df': [0.0, 0.1],\n",
        "    'FeatureExtraction__CargosLimpioNGramas__ngram_range': [(1, 1)], # n-grams length\n",
        "    'RandForestPred__n_estimators':[100],\n",
        "    'RandForestPred__min_samples_leaf':[3],\n",
        "    'RandForestPred__bootstrap': [True],\n",
        "    'RandForestPred__max_samples': [0.99, 0.95, 0.90],\n",
        "    'RandForestPred__class_weight': ['balanced', 'balanced_subsample'] # weighted is much better\n",
        "}"
      ],
      "execution_count": null,
      "outputs": []
    },
    {
      "cell_type": "code",
      "metadata": {
        "id": "8Nl4PANZu2E-"
      },
      "source": [
        "exp_results_df = run_CV(pipeline, \n",
        "                        \"N-gramas + RF\", \n",
        "                        parameters, \n",
        "                        kf, \n",
        "                        X_train, Y_train)\n",
        "\n",
        "#experiments_results = experiments_results.append(exp_results_df)"
      ],
      "execution_count": null,
      "outputs": []
    },
    {
      "cell_type": "code",
      "metadata": {
        "colab": {
          "base_uri": "https://localhost:8080/"
        },
        "id": "LhWHoRhW4IZm",
        "outputId": "a80ed927-0096-420c-f7d6-f131a4f8863f"
      },
      "source": [
        "temp_df = exp_results_df[exp_results_df[\"mean_test_accuracy\"]>=0.70].\\\n",
        "  sort_values(by=\"mean_test_accuracy\", ascending=False)\n",
        "\n",
        "for idx, row in temp_df.iterrows():\n",
        "  print(round(row[\"mean_test_accuracy\"], 3), row[\"params\"])"
      ],
      "execution_count": null,
      "outputs": [
        {
          "output_type": "stream",
          "name": "stdout",
          "text": [
            "0.736 {'FeatureExtraction__CargosLimpioNGramas__max_df': 0.9, 'FeatureExtraction__CargosLimpioNGramas__min_df': 0.1, 'FeatureExtraction__CargosLimpioNGramas__ngram_range': (1, 1), 'RandForestPred__bootstrap': True, 'RandForestPred__class_weight': 'balanced_subsample', 'RandForestPred__max_samples': 0.95, 'RandForestPred__min_samples_leaf': 3, 'RandForestPred__n_estimators': 100}\n",
            "0.731 {'FeatureExtraction__CargosLimpioNGramas__max_df': 0.9, 'FeatureExtraction__CargosLimpioNGramas__min_df': 0.1, 'FeatureExtraction__CargosLimpioNGramas__ngram_range': (1, 1), 'RandForestPred__bootstrap': True, 'RandForestPred__class_weight': 'balanced', 'RandForestPred__max_samples': 0.95, 'RandForestPred__min_samples_leaf': 3, 'RandForestPred__n_estimators': 100}\n",
            "0.731 {'FeatureExtraction__CargosLimpioNGramas__max_df': 1.0, 'FeatureExtraction__CargosLimpioNGramas__min_df': 0.0, 'FeatureExtraction__CargosLimpioNGramas__ngram_range': (1, 1), 'RandForestPred__bootstrap': True, 'RandForestPred__class_weight': 'balanced_subsample', 'RandForestPred__max_samples': 0.9, 'RandForestPred__min_samples_leaf': 3, 'RandForestPred__n_estimators': 100}\n",
            "0.723 {'FeatureExtraction__CargosLimpioNGramas__max_df': 1.0, 'FeatureExtraction__CargosLimpioNGramas__min_df': 0.0, 'FeatureExtraction__CargosLimpioNGramas__ngram_range': (1, 1), 'RandForestPred__bootstrap': True, 'RandForestPred__class_weight': 'balanced', 'RandForestPred__max_samples': 0.95, 'RandForestPred__min_samples_leaf': 3, 'RandForestPred__n_estimators': 100}\n",
            "0.722 {'FeatureExtraction__CargosLimpioNGramas__max_df': 1.0, 'FeatureExtraction__CargosLimpioNGramas__min_df': 0.0, 'FeatureExtraction__CargosLimpioNGramas__ngram_range': (1, 1), 'RandForestPred__bootstrap': True, 'RandForestPred__class_weight': 'balanced', 'RandForestPred__max_samples': 0.9, 'RandForestPred__min_samples_leaf': 3, 'RandForestPred__n_estimators': 100}\n",
            "0.722 {'FeatureExtraction__CargosLimpioNGramas__max_df': 0.9, 'FeatureExtraction__CargosLimpioNGramas__min_df': 0.0, 'FeatureExtraction__CargosLimpioNGramas__ngram_range': (1, 1), 'RandForestPred__bootstrap': True, 'RandForestPred__class_weight': 'balanced', 'RandForestPred__max_samples': 0.9, 'RandForestPred__min_samples_leaf': 3, 'RandForestPred__n_estimators': 100}\n",
            "0.718 {'FeatureExtraction__CargosLimpioNGramas__max_df': 0.9, 'FeatureExtraction__CargosLimpioNGramas__min_df': 0.0, 'FeatureExtraction__CargosLimpioNGramas__ngram_range': (1, 1), 'RandForestPred__bootstrap': True, 'RandForestPred__class_weight': 'balanced_subsample', 'RandForestPred__max_samples': 0.99, 'RandForestPred__min_samples_leaf': 3, 'RandForestPred__n_estimators': 100}\n",
            "0.718 {'FeatureExtraction__CargosLimpioNGramas__max_df': 0.9, 'FeatureExtraction__CargosLimpioNGramas__min_df': 0.0, 'FeatureExtraction__CargosLimpioNGramas__ngram_range': (1, 1), 'RandForestPred__bootstrap': True, 'RandForestPred__class_weight': 'balanced_subsample', 'RandForestPred__max_samples': 0.95, 'RandForestPred__min_samples_leaf': 3, 'RandForestPred__n_estimators': 100}\n",
            "0.709 {'FeatureExtraction__CargosLimpioNGramas__max_df': 1.0, 'FeatureExtraction__CargosLimpioNGramas__min_df': 0.0, 'FeatureExtraction__CargosLimpioNGramas__ngram_range': (1, 1), 'RandForestPred__bootstrap': True, 'RandForestPred__class_weight': 'balanced_subsample', 'RandForestPred__max_samples': 0.99, 'RandForestPred__min_samples_leaf': 3, 'RandForestPred__n_estimators': 100}\n",
            "0.709 {'FeatureExtraction__CargosLimpioNGramas__max_df': 1.0, 'FeatureExtraction__CargosLimpioNGramas__min_df': 0.0, 'FeatureExtraction__CargosLimpioNGramas__ngram_range': (1, 1), 'RandForestPred__bootstrap': True, 'RandForestPred__class_weight': 'balanced', 'RandForestPred__max_samples': 0.99, 'RandForestPred__min_samples_leaf': 3, 'RandForestPred__n_estimators': 100}\n",
            "0.709 {'FeatureExtraction__CargosLimpioNGramas__max_df': 0.9, 'FeatureExtraction__CargosLimpioNGramas__min_df': 0.0, 'FeatureExtraction__CargosLimpioNGramas__ngram_range': (1, 1), 'RandForestPred__bootstrap': True, 'RandForestPred__class_weight': 'balanced', 'RandForestPred__max_samples': 0.95, 'RandForestPred__min_samples_leaf': 3, 'RandForestPred__n_estimators': 100}\n",
            "0.705 {'FeatureExtraction__CargosLimpioNGramas__max_df': 1.0, 'FeatureExtraction__CargosLimpioNGramas__min_df': 0.1, 'FeatureExtraction__CargosLimpioNGramas__ngram_range': (1, 1), 'RandForestPred__bootstrap': True, 'RandForestPred__class_weight': 'balanced', 'RandForestPred__max_samples': 0.9, 'RandForestPred__min_samples_leaf': 3, 'RandForestPred__n_estimators': 100}\n",
            "0.705 {'FeatureExtraction__CargosLimpioNGramas__max_df': 1.0, 'FeatureExtraction__CargosLimpioNGramas__min_df': 0.1, 'FeatureExtraction__CargosLimpioNGramas__ngram_range': (1, 1), 'RandForestPred__bootstrap': True, 'RandForestPred__class_weight': 'balanced', 'RandForestPred__max_samples': 0.99, 'RandForestPred__min_samples_leaf': 3, 'RandForestPred__n_estimators': 100}\n",
            "0.705 {'FeatureExtraction__CargosLimpioNGramas__max_df': 0.9, 'FeatureExtraction__CargosLimpioNGramas__min_df': 0.1, 'FeatureExtraction__CargosLimpioNGramas__ngram_range': (1, 1), 'RandForestPred__bootstrap': True, 'RandForestPred__class_weight': 'balanced_subsample', 'RandForestPred__max_samples': 0.9, 'RandForestPred__min_samples_leaf': 3, 'RandForestPred__n_estimators': 100}\n",
            "0.7 {'FeatureExtraction__CargosLimpioNGramas__max_df': 1.0, 'FeatureExtraction__CargosLimpioNGramas__min_df': 0.0, 'FeatureExtraction__CargosLimpioNGramas__ngram_range': (1, 1), 'RandForestPred__bootstrap': True, 'RandForestPred__class_weight': 'balanced_subsample', 'RandForestPred__max_samples': 0.95, 'RandForestPred__min_samples_leaf': 3, 'RandForestPred__n_estimators': 100}\n",
            "0.7 {'FeatureExtraction__CargosLimpioNGramas__max_df': 1.0, 'FeatureExtraction__CargosLimpioNGramas__min_df': 0.1, 'FeatureExtraction__CargosLimpioNGramas__ngram_range': (1, 1), 'RandForestPred__bootstrap': True, 'RandForestPred__class_weight': 'balanced_subsample', 'RandForestPred__max_samples': 0.99, 'RandForestPred__min_samples_leaf': 3, 'RandForestPred__n_estimators': 100}\n",
            "0.7 {'FeatureExtraction__CargosLimpioNGramas__max_df': 0.9, 'FeatureExtraction__CargosLimpioNGramas__min_df': 0.1, 'FeatureExtraction__CargosLimpioNGramas__ngram_range': (1, 1), 'RandForestPred__bootstrap': True, 'RandForestPred__class_weight': 'balanced', 'RandForestPred__max_samples': 0.9, 'RandForestPred__min_samples_leaf': 3, 'RandForestPred__n_estimators': 100}\n",
            "0.7 {'FeatureExtraction__CargosLimpioNGramas__max_df': 0.9, 'FeatureExtraction__CargosLimpioNGramas__min_df': 0.0, 'FeatureExtraction__CargosLimpioNGramas__ngram_range': (1, 1), 'RandForestPred__bootstrap': True, 'RandForestPred__class_weight': 'balanced_subsample', 'RandForestPred__max_samples': 0.9, 'RandForestPred__min_samples_leaf': 3, 'RandForestPred__n_estimators': 100}\n"
          ]
        }
      ]
    },
    {
      "cell_type": "code",
      "metadata": {
        "id": "2BbPurXbkH-h"
      },
      "source": [
        "import matplotlib.pyplot as plt\n",
        "\n",
        "def report_metrics(data):\n",
        "  fig, axis = plt.subplots( 1, 2, figsize=(15, 7) )\n",
        "  sns.scatterplot(x=\"mean_test_precision\", \n",
        "                  y=\"mean_test_recall\",\n",
        "                  data=data,\n",
        "                  ax=axis[0])\n",
        "  sns.scatterplot(x=\"mean_test_accuracy\", \n",
        "                  y=\"mean_test_f1\",\n",
        "                  data=data,\n",
        "                  ax=axis[1])\n",
        "  plt.show()\n",
        "\n",
        "\n",
        "#report_metrics(exp_results_df)"
      ],
      "execution_count": 20,
      "outputs": []
    },
    {
      "cell_type": "markdown",
      "metadata": {
        "id": "v67rWrJeu2E_"
      },
      "source": [
        "### Experimentos modelo SVC + n-gramas"
      ]
    },
    {
      "cell_type": "code",
      "metadata": {
        "id": "CliD-oNxBQfc"
      },
      "source": [
        "# 0.749: cargos limpio - balanced y None class weights\n",
        "# 0.757: cargos limpio (1, 2) "
      ],
      "execution_count": null,
      "outputs": []
    },
    {
      "cell_type": "code",
      "metadata": {
        "id": "QSh4ELJhu2E_"
      },
      "source": [
        "# crear modelo combinado de n-gramas y random forest\n",
        "column_trans = ColumnTransformer([\n",
        "    # Applicar una transformación CountVectorizer a la columna 'cargos'\n",
        "    # cargos,   \n",
        "    ('CargosLimpioNGramas',  CountVectorizer(), 'cargos limpio')\n",
        "    ],\n",
        "    remainder='drop' # ignore the remaining columns\n",
        ")\n",
        "\n",
        "pipeline = Pipeline([\n",
        "    # Primer paso: extracción de características\n",
        "    (\"FeatureExtraction\", column_trans),\n",
        "    # Segundo paso: predicción de la decisión\n",
        "    ('SVMPred', SVC(random_state=0)) # freeze random state\n",
        "])"
      ],
      "execution_count": 33,
      "outputs": []
    },
    {
      "cell_type": "code",
      "metadata": {
        "id": "Ysh4B8JRu2E_"
      },
      "source": [
        "# especificación de hiperparámetros a optimizar\n",
        "parameters = {\n",
        "    #'FeatureExtraction__CargosLimpioNGramas__max_features': [50, None], # cant de features a extraer\n",
        "    'FeatureExtraction__CargosLimpioNGramas__max_df': [1.0, 0.90], \n",
        "    'FeatureExtraction__CargosLimpioNGramas__min_df': [0.0, 0.10],\n",
        "    'FeatureExtraction__CargosLimpioNGramas__ngram_range': [(1, 1), (2, 2), (1, 2)], # n-grams length\n",
        "    'SVMPred__C': [0.1, 1, 10], \n",
        "    'SVMPred__kernel': ['linear', 'rbf'],\n",
        "    'SVMPred__class_weight': [None, 'balanced']\n",
        "}"
      ],
      "execution_count": 40,
      "outputs": []
    },
    {
      "cell_type": "code",
      "metadata": {
        "id": "DfyL24dfu2E_",
        "colab": {
          "base_uri": "https://localhost:8080/"
        },
        "outputId": "7e41d738-f56a-4b93-fa8e-445f31c76963"
      },
      "source": [
        "exp_results_df = run_CV(pipeline, \n",
        "                        \"N-gramas + SVC\", \n",
        "                        parameters, \n",
        "                        kf, \n",
        "                        X_train, Y_train)\n",
        "\n",
        "#experiments_results = experiments_results.append(exp_results_df)"
      ],
      "execution_count": 41,
      "outputs": [
        {
          "output_type": "stream",
          "name": "stderr",
          "text": [
            "/usr/local/lib/python3.7/dist-packages/sklearn/metrics/_classification.py:1272: UndefinedMetricWarning: Precision is ill-defined and being set to 0.0 due to no predicted samples. Use `zero_division` parameter to control this behavior.\n",
            "  _warn_prf(average, modifier, msg_start, len(result))\n",
            "/usr/local/lib/python3.7/dist-packages/sklearn/metrics/_classification.py:1272: UndefinedMetricWarning: Precision is ill-defined and being set to 0.0 due to no predicted samples. Use `zero_division` parameter to control this behavior.\n",
            "  _warn_prf(average, modifier, msg_start, len(result))\n",
            "/usr/local/lib/python3.7/dist-packages/sklearn/metrics/_classification.py:1272: UndefinedMetricWarning: Precision is ill-defined and being set to 0.0 due to no predicted samples. Use `zero_division` parameter to control this behavior.\n",
            "  _warn_prf(average, modifier, msg_start, len(result))\n",
            "/usr/local/lib/python3.7/dist-packages/sklearn/metrics/_classification.py:1272: UndefinedMetricWarning: Precision is ill-defined and being set to 0.0 due to no predicted samples. Use `zero_division` parameter to control this behavior.\n",
            "  _warn_prf(average, modifier, msg_start, len(result))\n",
            "/usr/local/lib/python3.7/dist-packages/sklearn/metrics/_classification.py:1272: UndefinedMetricWarning: Precision is ill-defined and being set to 0.0 due to no predicted samples. Use `zero_division` parameter to control this behavior.\n",
            "  _warn_prf(average, modifier, msg_start, len(result))\n",
            "/usr/local/lib/python3.7/dist-packages/sklearn/metrics/_classification.py:1272: UndefinedMetricWarning: Precision is ill-defined and being set to 0.0 due to no predicted samples. Use `zero_division` parameter to control this behavior.\n",
            "  _warn_prf(average, modifier, msg_start, len(result))\n",
            "/usr/local/lib/python3.7/dist-packages/sklearn/metrics/_classification.py:1272: UndefinedMetricWarning: Precision is ill-defined and being set to 0.0 due to no predicted samples. Use `zero_division` parameter to control this behavior.\n",
            "  _warn_prf(average, modifier, msg_start, len(result))\n",
            "/usr/local/lib/python3.7/dist-packages/sklearn/metrics/_classification.py:1272: UndefinedMetricWarning: Precision is ill-defined and being set to 0.0 due to no predicted samples. Use `zero_division` parameter to control this behavior.\n",
            "  _warn_prf(average, modifier, msg_start, len(result))\n",
            "/usr/local/lib/python3.7/dist-packages/sklearn/metrics/_classification.py:1272: UndefinedMetricWarning: Precision is ill-defined and being set to 0.0 due to no predicted samples. Use `zero_division` parameter to control this behavior.\n",
            "  _warn_prf(average, modifier, msg_start, len(result))\n",
            "/usr/local/lib/python3.7/dist-packages/sklearn/metrics/_classification.py:1272: UndefinedMetricWarning: Precision is ill-defined and being set to 0.0 due to no predicted samples. Use `zero_division` parameter to control this behavior.\n",
            "  _warn_prf(average, modifier, msg_start, len(result))\n",
            "/usr/local/lib/python3.7/dist-packages/sklearn/metrics/_classification.py:1272: UndefinedMetricWarning: Precision is ill-defined and being set to 0.0 due to no predicted samples. Use `zero_division` parameter to control this behavior.\n",
            "  _warn_prf(average, modifier, msg_start, len(result))\n",
            "/usr/local/lib/python3.7/dist-packages/sklearn/metrics/_classification.py:1272: UndefinedMetricWarning: Precision is ill-defined and being set to 0.0 due to no predicted samples. Use `zero_division` parameter to control this behavior.\n",
            "  _warn_prf(average, modifier, msg_start, len(result))\n",
            "/usr/local/lib/python3.7/dist-packages/sklearn/metrics/_classification.py:1272: UndefinedMetricWarning: Precision is ill-defined and being set to 0.0 due to no predicted samples. Use `zero_division` parameter to control this behavior.\n",
            "  _warn_prf(average, modifier, msg_start, len(result))\n",
            "/usr/local/lib/python3.7/dist-packages/sklearn/metrics/_classification.py:1272: UndefinedMetricWarning: Precision is ill-defined and being set to 0.0 due to no predicted samples. Use `zero_division` parameter to control this behavior.\n",
            "  _warn_prf(average, modifier, msg_start, len(result))\n",
            "/usr/local/lib/python3.7/dist-packages/sklearn/metrics/_classification.py:1272: UndefinedMetricWarning: Precision is ill-defined and being set to 0.0 due to no predicted samples. Use `zero_division` parameter to control this behavior.\n",
            "  _warn_prf(average, modifier, msg_start, len(result))\n",
            "/usr/local/lib/python3.7/dist-packages/sklearn/metrics/_classification.py:1272: UndefinedMetricWarning: Precision is ill-defined and being set to 0.0 due to no predicted samples. Use `zero_division` parameter to control this behavior.\n",
            "  _warn_prf(average, modifier, msg_start, len(result))\n",
            "/usr/local/lib/python3.7/dist-packages/sklearn/metrics/_classification.py:1272: UndefinedMetricWarning: Precision is ill-defined and being set to 0.0 due to no predicted samples. Use `zero_division` parameter to control this behavior.\n",
            "  _warn_prf(average, modifier, msg_start, len(result))\n",
            "/usr/local/lib/python3.7/dist-packages/sklearn/metrics/_classification.py:1272: UndefinedMetricWarning: Precision is ill-defined and being set to 0.0 due to no predicted samples. Use `zero_division` parameter to control this behavior.\n",
            "  _warn_prf(average, modifier, msg_start, len(result))\n",
            "/usr/local/lib/python3.7/dist-packages/sklearn/metrics/_classification.py:1272: UndefinedMetricWarning: Precision is ill-defined and being set to 0.0 due to no predicted samples. Use `zero_division` parameter to control this behavior.\n",
            "  _warn_prf(average, modifier, msg_start, len(result))\n",
            "/usr/local/lib/python3.7/dist-packages/sklearn/metrics/_classification.py:1272: UndefinedMetricWarning: Precision is ill-defined and being set to 0.0 due to no predicted samples. Use `zero_division` parameter to control this behavior.\n",
            "  _warn_prf(average, modifier, msg_start, len(result))\n",
            "/usr/local/lib/python3.7/dist-packages/sklearn/metrics/_classification.py:1272: UndefinedMetricWarning: Precision is ill-defined and being set to 0.0 due to no predicted samples. Use `zero_division` parameter to control this behavior.\n",
            "  _warn_prf(average, modifier, msg_start, len(result))\n",
            "/usr/local/lib/python3.7/dist-packages/sklearn/metrics/_classification.py:1272: UndefinedMetricWarning: Precision is ill-defined and being set to 0.0 due to no predicted samples. Use `zero_division` parameter to control this behavior.\n",
            "  _warn_prf(average, modifier, msg_start, len(result))\n",
            "/usr/local/lib/python3.7/dist-packages/sklearn/metrics/_classification.py:1272: UndefinedMetricWarning: Precision is ill-defined and being set to 0.0 due to no predicted samples. Use `zero_division` parameter to control this behavior.\n",
            "  _warn_prf(average, modifier, msg_start, len(result))\n",
            "/usr/local/lib/python3.7/dist-packages/sklearn/metrics/_classification.py:1272: UndefinedMetricWarning: Precision is ill-defined and being set to 0.0 due to no predicted samples. Use `zero_division` parameter to control this behavior.\n",
            "  _warn_prf(average, modifier, msg_start, len(result))\n",
            "/usr/local/lib/python3.7/dist-packages/sklearn/metrics/_classification.py:1272: UndefinedMetricWarning: Precision is ill-defined and being set to 0.0 due to no predicted samples. Use `zero_division` parameter to control this behavior.\n",
            "  _warn_prf(average, modifier, msg_start, len(result))\n",
            "/usr/local/lib/python3.7/dist-packages/sklearn/metrics/_classification.py:1272: UndefinedMetricWarning: Precision is ill-defined and being set to 0.0 due to no predicted samples. Use `zero_division` parameter to control this behavior.\n",
            "  _warn_prf(average, modifier, msg_start, len(result))\n",
            "/usr/local/lib/python3.7/dist-packages/sklearn/metrics/_classification.py:1272: UndefinedMetricWarning: Precision is ill-defined and being set to 0.0 due to no predicted samples. Use `zero_division` parameter to control this behavior.\n",
            "  _warn_prf(average, modifier, msg_start, len(result))\n",
            "/usr/local/lib/python3.7/dist-packages/sklearn/metrics/_classification.py:1272: UndefinedMetricWarning: Precision is ill-defined and being set to 0.0 due to no predicted samples. Use `zero_division` parameter to control this behavior.\n",
            "  _warn_prf(average, modifier, msg_start, len(result))\n",
            "/usr/local/lib/python3.7/dist-packages/sklearn/metrics/_classification.py:1272: UndefinedMetricWarning: Precision is ill-defined and being set to 0.0 due to no predicted samples. Use `zero_division` parameter to control this behavior.\n",
            "  _warn_prf(average, modifier, msg_start, len(result))\n",
            "/usr/local/lib/python3.7/dist-packages/sklearn/metrics/_classification.py:1272: UndefinedMetricWarning: Precision is ill-defined and being set to 0.0 due to no predicted samples. Use `zero_division` parameter to control this behavior.\n",
            "  _warn_prf(average, modifier, msg_start, len(result))\n",
            "/usr/local/lib/python3.7/dist-packages/sklearn/metrics/_classification.py:1272: UndefinedMetricWarning: Precision is ill-defined and being set to 0.0 due to no predicted samples. Use `zero_division` parameter to control this behavior.\n",
            "  _warn_prf(average, modifier, msg_start, len(result))\n",
            "/usr/local/lib/python3.7/dist-packages/sklearn/metrics/_classification.py:1272: UndefinedMetricWarning: Precision is ill-defined and being set to 0.0 due to no predicted samples. Use `zero_division` parameter to control this behavior.\n",
            "  _warn_prf(average, modifier, msg_start, len(result))\n",
            "/usr/local/lib/python3.7/dist-packages/sklearn/metrics/_classification.py:1272: UndefinedMetricWarning: Precision is ill-defined and being set to 0.0 due to no predicted samples. Use `zero_division` parameter to control this behavior.\n",
            "  _warn_prf(average, modifier, msg_start, len(result))\n",
            "/usr/local/lib/python3.7/dist-packages/sklearn/metrics/_classification.py:1272: UndefinedMetricWarning: Precision is ill-defined and being set to 0.0 due to no predicted samples. Use `zero_division` parameter to control this behavior.\n",
            "  _warn_prf(average, modifier, msg_start, len(result))\n"
          ]
        }
      ]
    },
    {
      "cell_type": "code",
      "metadata": {
        "colab": {
          "base_uri": "https://localhost:8080/",
          "height": 1000
        },
        "id": "cyY4RrEgAx0f",
        "outputId": "bb41c8ae-4e03-4f17-e8e0-1c1946658ba2"
      },
      "source": [
        "temp_df = exp_results_df[exp_results_df[\"mean_test_accuracy\"]>=0.70].\\\n",
        "  sort_values(by=\"mean_test_accuracy\", ascending=False)\n",
        "\n",
        "for idx, row in temp_df.iterrows():\n",
        "  print(round(row[\"mean_test_accuracy\"], 3), row[\"params\"])\n",
        "\n",
        "print()\n",
        "\n",
        "report_metrics(exp_results_df)"
      ],
      "execution_count": 42,
      "outputs": [
        {
          "output_type": "stream",
          "name": "stdout",
          "text": [
            "0.757 {'FeatureExtraction__CargosLimpioNGramas__max_df': 1.0, 'FeatureExtraction__CargosLimpioNGramas__min_df': 0.0, 'FeatureExtraction__CargosLimpioNGramas__ngram_range': (1, 2), 'SVMPred__C': 10, 'SVMPred__class_weight': 'balanced', 'SVMPred__kernel': 'rbf'}\n",
            "0.757 {'FeatureExtraction__CargosLimpioNGramas__max_df': 0.9, 'FeatureExtraction__CargosLimpioNGramas__min_df': 0.0, 'FeatureExtraction__CargosLimpioNGramas__ngram_range': (1, 2), 'SVMPred__C': 10, 'SVMPred__class_weight': None, 'SVMPred__kernel': 'rbf'}\n",
            "0.757 {'FeatureExtraction__CargosLimpioNGramas__max_df': 0.9, 'FeatureExtraction__CargosLimpioNGramas__min_df': 0.0, 'FeatureExtraction__CargosLimpioNGramas__ngram_range': (1, 2), 'SVMPred__C': 10, 'SVMPred__class_weight': 'balanced', 'SVMPred__kernel': 'rbf'}\n",
            "0.757 {'FeatureExtraction__CargosLimpioNGramas__max_df': 1.0, 'FeatureExtraction__CargosLimpioNGramas__min_df': 0.0, 'FeatureExtraction__CargosLimpioNGramas__ngram_range': (1, 2), 'SVMPred__C': 10, 'SVMPred__class_weight': None, 'SVMPred__kernel': 'rbf'}\n",
            "0.749 {'FeatureExtraction__CargosLimpioNGramas__max_df': 0.9, 'FeatureExtraction__CargosLimpioNGramas__min_df': 0.0, 'FeatureExtraction__CargosLimpioNGramas__ngram_range': (2, 2), 'SVMPred__C': 10, 'SVMPred__class_weight': 'balanced', 'SVMPred__kernel': 'rbf'}\n",
            "0.749 {'FeatureExtraction__CargosLimpioNGramas__max_df': 1.0, 'FeatureExtraction__CargosLimpioNGramas__min_df': 0.0, 'FeatureExtraction__CargosLimpioNGramas__ngram_range': (2, 2), 'SVMPred__C': 10, 'SVMPred__class_weight': 'balanced', 'SVMPred__kernel': 'rbf'}\n",
            "0.736 {'FeatureExtraction__CargosLimpioNGramas__max_df': 0.9, 'FeatureExtraction__CargosLimpioNGramas__min_df': 0.0, 'FeatureExtraction__CargosLimpioNGramas__ngram_range': (2, 2), 'SVMPred__C': 0.1, 'SVMPred__class_weight': 'balanced', 'SVMPred__kernel': 'linear'}\n",
            "0.736 {'FeatureExtraction__CargosLimpioNGramas__max_df': 1.0, 'FeatureExtraction__CargosLimpioNGramas__min_df': 0.0, 'FeatureExtraction__CargosLimpioNGramas__ngram_range': (2, 2), 'SVMPred__C': 0.1, 'SVMPred__class_weight': 'balanced', 'SVMPred__kernel': 'linear'}\n",
            "0.735 {'FeatureExtraction__CargosLimpioNGramas__max_df': 0.9, 'FeatureExtraction__CargosLimpioNGramas__min_df': 0.0, 'FeatureExtraction__CargosLimpioNGramas__ngram_range': (1, 1), 'SVMPred__C': 10, 'SVMPred__class_weight': 'balanced', 'SVMPred__kernel': 'rbf'}\n",
            "0.735 {'FeatureExtraction__CargosLimpioNGramas__max_df': 0.9, 'FeatureExtraction__CargosLimpioNGramas__min_df': 0.0, 'FeatureExtraction__CargosLimpioNGramas__ngram_range': (1, 1), 'SVMPred__C': 10, 'SVMPred__class_weight': None, 'SVMPred__kernel': 'rbf'}\n",
            "0.735 {'FeatureExtraction__CargosLimpioNGramas__max_df': 1.0, 'FeatureExtraction__CargosLimpioNGramas__min_df': 0.0, 'FeatureExtraction__CargosLimpioNGramas__ngram_range': (1, 1), 'SVMPred__C': 10, 'SVMPred__class_weight': 'balanced', 'SVMPred__kernel': 'rbf'}\n",
            "0.735 {'FeatureExtraction__CargosLimpioNGramas__max_df': 1.0, 'FeatureExtraction__CargosLimpioNGramas__min_df': 0.0, 'FeatureExtraction__CargosLimpioNGramas__ngram_range': (1, 1), 'SVMPred__C': 10, 'SVMPred__class_weight': None, 'SVMPred__kernel': 'rbf'}\n",
            "0.731 {'FeatureExtraction__CargosLimpioNGramas__max_df': 0.9, 'FeatureExtraction__CargosLimpioNGramas__min_df': 0.0, 'FeatureExtraction__CargosLimpioNGramas__ngram_range': (1, 1), 'SVMPred__C': 100, 'SVMPred__class_weight': 'balanced', 'SVMPred__kernel': 'rbf'}\n",
            "0.731 {'FeatureExtraction__CargosLimpioNGramas__max_df': 1.0, 'FeatureExtraction__CargosLimpioNGramas__min_df': 0.0, 'FeatureExtraction__CargosLimpioNGramas__ngram_range': (1, 1), 'SVMPred__C': 100, 'SVMPred__class_weight': 'balanced', 'SVMPred__kernel': 'rbf'}\n",
            "0.731 {'FeatureExtraction__CargosLimpioNGramas__max_df': 0.9, 'FeatureExtraction__CargosLimpioNGramas__min_df': 0.0, 'FeatureExtraction__CargosLimpioNGramas__ngram_range': (1, 1), 'SVMPred__C': 100, 'SVMPred__class_weight': None, 'SVMPred__kernel': 'rbf'}\n",
            "0.731 {'FeatureExtraction__CargosLimpioNGramas__max_df': 1.0, 'FeatureExtraction__CargosLimpioNGramas__min_df': 0.0, 'FeatureExtraction__CargosLimpioNGramas__ngram_range': (1, 1), 'SVMPred__C': 100, 'SVMPred__class_weight': None, 'SVMPred__kernel': 'rbf'}\n",
            "0.731 {'FeatureExtraction__CargosLimpioNGramas__max_df': 0.9, 'FeatureExtraction__CargosLimpioNGramas__min_df': 0.0, 'FeatureExtraction__CargosLimpioNGramas__ngram_range': (1, 2), 'SVMPred__C': 0.1, 'SVMPred__class_weight': None, 'SVMPred__kernel': 'linear'}\n",
            "0.731 {'FeatureExtraction__CargosLimpioNGramas__max_df': 1.0, 'FeatureExtraction__CargosLimpioNGramas__min_df': 0.0, 'FeatureExtraction__CargosLimpioNGramas__ngram_range': (1, 2), 'SVMPred__C': 0.1, 'SVMPred__class_weight': None, 'SVMPred__kernel': 'linear'}\n",
            "0.727 {'FeatureExtraction__CargosLimpioNGramas__max_df': 0.9, 'FeatureExtraction__CargosLimpioNGramas__min_df': 0.0, 'FeatureExtraction__CargosLimpioNGramas__ngram_range': (2, 2), 'SVMPred__C': 10, 'SVMPred__class_weight': None, 'SVMPred__kernel': 'rbf'}\n",
            "0.727 {'FeatureExtraction__CargosLimpioNGramas__max_df': 1.0, 'FeatureExtraction__CargosLimpioNGramas__min_df': 0.0, 'FeatureExtraction__CargosLimpioNGramas__ngram_range': (2, 2), 'SVMPred__C': 10, 'SVMPred__class_weight': None, 'SVMPred__kernel': 'rbf'}\n",
            "0.727 {'FeatureExtraction__CargosLimpioNGramas__max_df': 1.0, 'FeatureExtraction__CargosLimpioNGramas__min_df': 0.0, 'FeatureExtraction__CargosLimpioNGramas__ngram_range': (1, 2), 'SVMPred__C': 100, 'SVMPred__class_weight': None, 'SVMPred__kernel': 'rbf'}\n",
            "0.727 {'FeatureExtraction__CargosLimpioNGramas__max_df': 1.0, 'FeatureExtraction__CargosLimpioNGramas__min_df': 0.0, 'FeatureExtraction__CargosLimpioNGramas__ngram_range': (1, 2), 'SVMPred__C': 100, 'SVMPred__class_weight': 'balanced', 'SVMPred__kernel': 'rbf'}\n",
            "0.727 {'FeatureExtraction__CargosLimpioNGramas__max_df': 0.9, 'FeatureExtraction__CargosLimpioNGramas__min_df': 0.0, 'FeatureExtraction__CargosLimpioNGramas__ngram_range': (1, 2), 'SVMPred__C': 100, 'SVMPred__class_weight': 'balanced', 'SVMPred__kernel': 'rbf'}\n",
            "0.727 {'FeatureExtraction__CargosLimpioNGramas__max_df': 0.9, 'FeatureExtraction__CargosLimpioNGramas__min_df': 0.0, 'FeatureExtraction__CargosLimpioNGramas__ngram_range': (1, 2), 'SVMPred__C': 100, 'SVMPred__class_weight': None, 'SVMPred__kernel': 'rbf'}\n",
            "0.727 {'FeatureExtraction__CargosLimpioNGramas__max_df': 1.0, 'FeatureExtraction__CargosLimpioNGramas__min_df': 0.0, 'FeatureExtraction__CargosLimpioNGramas__ngram_range': (1, 2), 'SVMPred__C': 0.1, 'SVMPred__class_weight': 'balanced', 'SVMPred__kernel': 'linear'}\n",
            "0.727 {'FeatureExtraction__CargosLimpioNGramas__max_df': 0.9, 'FeatureExtraction__CargosLimpioNGramas__min_df': 0.0, 'FeatureExtraction__CargosLimpioNGramas__ngram_range': (1, 2), 'SVMPred__C': 0.1, 'SVMPred__class_weight': 'balanced', 'SVMPred__kernel': 'linear'}\n",
            "0.713 {'FeatureExtraction__CargosLimpioNGramas__max_df': 1.0, 'FeatureExtraction__CargosLimpioNGramas__min_df': 0.0, 'FeatureExtraction__CargosLimpioNGramas__ngram_range': (1, 2), 'SVMPred__C': 0.01, 'SVMPred__class_weight': 'balanced', 'SVMPred__kernel': 'linear'}\n",
            "0.713 {'FeatureExtraction__CargosLimpioNGramas__max_df': 0.9, 'FeatureExtraction__CargosLimpioNGramas__min_df': 0.0, 'FeatureExtraction__CargosLimpioNGramas__ngram_range': (1, 2), 'SVMPred__C': 0.01, 'SVMPred__class_weight': 'balanced', 'SVMPred__kernel': 'linear'}\n",
            "0.709 {'FeatureExtraction__CargosLimpioNGramas__max_df': 1.0, 'FeatureExtraction__CargosLimpioNGramas__min_df': 0.0, 'FeatureExtraction__CargosLimpioNGramas__ngram_range': (2, 2), 'SVMPred__C': 1, 'SVMPred__class_weight': None, 'SVMPred__kernel': 'linear'}\n",
            "0.709 {'FeatureExtraction__CargosLimpioNGramas__max_df': 0.9, 'FeatureExtraction__CargosLimpioNGramas__min_df': 0.1, 'FeatureExtraction__CargosLimpioNGramas__ngram_range': (1, 1), 'SVMPred__C': 1, 'SVMPred__class_weight': None, 'SVMPred__kernel': 'rbf'}\n",
            "0.709 {'FeatureExtraction__CargosLimpioNGramas__max_df': 1.0, 'FeatureExtraction__CargosLimpioNGramas__min_df': 0.0, 'FeatureExtraction__CargosLimpioNGramas__ngram_range': (1, 1), 'SVMPred__C': 1, 'SVMPred__class_weight': 'balanced', 'SVMPred__kernel': 'linear'}\n",
            "0.709 {'FeatureExtraction__CargosLimpioNGramas__max_df': 0.9, 'FeatureExtraction__CargosLimpioNGramas__min_df': 0.0, 'FeatureExtraction__CargosLimpioNGramas__ngram_range': (1, 1), 'SVMPred__C': 1, 'SVMPred__class_weight': 'balanced', 'SVMPred__kernel': 'linear'}\n",
            "0.709 {'FeatureExtraction__CargosLimpioNGramas__max_df': 0.9, 'FeatureExtraction__CargosLimpioNGramas__min_df': 0.0, 'FeatureExtraction__CargosLimpioNGramas__ngram_range': (2, 2), 'SVMPred__C': 1, 'SVMPred__class_weight': None, 'SVMPred__kernel': 'linear'}\n",
            "0.709 {'FeatureExtraction__CargosLimpioNGramas__max_df': 1.0, 'FeatureExtraction__CargosLimpioNGramas__min_df': 0.1, 'FeatureExtraction__CargosLimpioNGramas__ngram_range': (1, 1), 'SVMPred__C': 1, 'SVMPred__class_weight': None, 'SVMPred__kernel': 'rbf'}\n",
            "0.709 {'FeatureExtraction__CargosLimpioNGramas__max_df': 1.0, 'FeatureExtraction__CargosLimpioNGramas__min_df': 0.0, 'FeatureExtraction__CargosLimpioNGramas__ngram_range': (1, 1), 'SVMPred__C': 0.1, 'SVMPred__class_weight': 'balanced', 'SVMPred__kernel': 'linear'}\n",
            "0.709 {'FeatureExtraction__CargosLimpioNGramas__max_df': 0.9, 'FeatureExtraction__CargosLimpioNGramas__min_df': 0.0, 'FeatureExtraction__CargosLimpioNGramas__ngram_range': (1, 1), 'SVMPred__C': 0.1, 'SVMPred__class_weight': 'balanced', 'SVMPred__kernel': 'linear'}\n",
            "0.705 {'FeatureExtraction__CargosLimpioNGramas__max_df': 0.9, 'FeatureExtraction__CargosLimpioNGramas__min_df': 0.0, 'FeatureExtraction__CargosLimpioNGramas__ngram_range': (2, 2), 'SVMPred__C': 0.1, 'SVMPred__class_weight': None, 'SVMPred__kernel': 'linear'}\n",
            "0.705 {'FeatureExtraction__CargosLimpioNGramas__max_df': 1.0, 'FeatureExtraction__CargosLimpioNGramas__min_df': 0.0, 'FeatureExtraction__CargosLimpioNGramas__ngram_range': (2, 2), 'SVMPred__C': 0.1, 'SVMPred__class_weight': None, 'SVMPred__kernel': 'linear'}\n",
            "0.705 {'FeatureExtraction__CargosLimpioNGramas__max_df': 1.0, 'FeatureExtraction__CargosLimpioNGramas__min_df': 0.1, 'FeatureExtraction__CargosLimpioNGramas__ngram_range': (1, 2), 'SVMPred__C': 1, 'SVMPred__class_weight': None, 'SVMPred__kernel': 'rbf'}\n",
            "0.705 {'FeatureExtraction__CargosLimpioNGramas__max_df': 0.9, 'FeatureExtraction__CargosLimpioNGramas__min_df': 0.1, 'FeatureExtraction__CargosLimpioNGramas__ngram_range': (1, 2), 'SVMPred__C': 1, 'SVMPred__class_weight': None, 'SVMPred__kernel': 'rbf'}\n",
            "0.705 {'FeatureExtraction__CargosLimpioNGramas__max_df': 0.9, 'FeatureExtraction__CargosLimpioNGramas__min_df': 0.0, 'FeatureExtraction__CargosLimpioNGramas__ngram_range': (1, 2), 'SVMPred__C': 0.01, 'SVMPred__class_weight': None, 'SVMPred__kernel': 'linear'}\n",
            "0.705 {'FeatureExtraction__CargosLimpioNGramas__max_df': 1.0, 'FeatureExtraction__CargosLimpioNGramas__min_df': 0.0, 'FeatureExtraction__CargosLimpioNGramas__ngram_range': (1, 2), 'SVMPred__C': 0.01, 'SVMPred__class_weight': None, 'SVMPred__kernel': 'linear'}\n",
            "0.701 {'FeatureExtraction__CargosLimpioNGramas__max_df': 0.9, 'FeatureExtraction__CargosLimpioNGramas__min_df': 0.0, 'FeatureExtraction__CargosLimpioNGramas__ngram_range': (2, 2), 'SVMPred__C': 0.01, 'SVMPred__class_weight': 'balanced', 'SVMPred__kernel': 'linear'}\n",
            "0.701 {'FeatureExtraction__CargosLimpioNGramas__max_df': 0.9, 'FeatureExtraction__CargosLimpioNGramas__min_df': 0.0, 'FeatureExtraction__CargosLimpioNGramas__ngram_range': (2, 2), 'SVMPred__C': 100, 'SVMPred__class_weight': None, 'SVMPred__kernel': 'rbf'}\n",
            "0.701 {'FeatureExtraction__CargosLimpioNGramas__max_df': 0.9, 'FeatureExtraction__CargosLimpioNGramas__min_df': 0.0, 'FeatureExtraction__CargosLimpioNGramas__ngram_range': (2, 2), 'SVMPred__C': 100, 'SVMPred__class_weight': 'balanced', 'SVMPred__kernel': 'rbf'}\n",
            "0.701 {'FeatureExtraction__CargosLimpioNGramas__max_df': 1.0, 'FeatureExtraction__CargosLimpioNGramas__min_df': 0.0, 'FeatureExtraction__CargosLimpioNGramas__ngram_range': (2, 2), 'SVMPred__C': 100, 'SVMPred__class_weight': 'balanced', 'SVMPred__kernel': 'rbf'}\n",
            "0.701 {'FeatureExtraction__CargosLimpioNGramas__max_df': 1.0, 'FeatureExtraction__CargosLimpioNGramas__min_df': 0.0, 'FeatureExtraction__CargosLimpioNGramas__ngram_range': (2, 2), 'SVMPred__C': 100, 'SVMPred__class_weight': None, 'SVMPred__kernel': 'rbf'}\n",
            "0.701 {'FeatureExtraction__CargosLimpioNGramas__max_df': 1.0, 'FeatureExtraction__CargosLimpioNGramas__min_df': 0.0, 'FeatureExtraction__CargosLimpioNGramas__ngram_range': (2, 2), 'SVMPred__C': 0.01, 'SVMPred__class_weight': 'balanced', 'SVMPred__kernel': 'linear'}\n",
            "0.7 {'FeatureExtraction__CargosLimpioNGramas__max_df': 1.0, 'FeatureExtraction__CargosLimpioNGramas__min_df': 0.1, 'FeatureExtraction__CargosLimpioNGramas__ngram_range': (1, 1), 'SVMPred__C': 0.1, 'SVMPred__class_weight': None, 'SVMPred__kernel': 'linear'}\n",
            "0.7 {'FeatureExtraction__CargosLimpioNGramas__max_df': 0.9, 'FeatureExtraction__CargosLimpioNGramas__min_df': 0.1, 'FeatureExtraction__CargosLimpioNGramas__ngram_range': (1, 1), 'SVMPred__C': 0.1, 'SVMPred__class_weight': None, 'SVMPred__kernel': 'linear'}\n",
            "0.7 {'FeatureExtraction__CargosLimpioNGramas__max_df': 0.9, 'FeatureExtraction__CargosLimpioNGramas__min_df': 0.0, 'FeatureExtraction__CargosLimpioNGramas__ngram_range': (2, 2), 'SVMPred__C': 1, 'SVMPred__class_weight': 'balanced', 'SVMPred__kernel': 'linear'}\n",
            "0.7 {'FeatureExtraction__CargosLimpioNGramas__max_df': 1.0, 'FeatureExtraction__CargosLimpioNGramas__min_df': 0.0, 'FeatureExtraction__CargosLimpioNGramas__ngram_range': (2, 2), 'SVMPred__C': 1, 'SVMPred__class_weight': 'balanced', 'SVMPred__kernel': 'linear'}\n",
            "\n"
          ]
        },
        {
          "output_type": "display_data",
          "data": {
            "image/png": "[encoded data removed]",
            "text/plain": [
              "<Figure size 1080x504 with 2 Axes>"
            ]
          },
          "metadata": {
            "needs_background": "light"
          }
        }
      ]
    },
    {
      "cell_type": "markdown",
      "metadata": {
        "id": "XzSzD3WBgDAO"
      },
      "source": [
        "## Boosting + CountVectorizer"
      ]
    },
    {
      "cell_type": "code",
      "metadata": {
        "id": "diMj0OPddti9"
      },
      "source": [
        "# BOOSTING\n",
        "from sklearn.ensemble import GradientBoostingClassifier\n",
        "\n",
        "# crear modelo combinado de n-gramas y random forest\n",
        "column_trans = ColumnTransformer([\n",
        "    # Applicar una transformación CountVectorizer a la columna 'cargos limpio'  \n",
        "    ('CargosLimpioNGramas',  CountVectorizer(), 'cargos limpio')],\n",
        "    remainder='drop' # ignore the remaining columns\n",
        ")\n",
        "\n",
        "pipeline = Pipeline([\n",
        "    # Primer paso: extracción de características\n",
        "    (\"FeatureExtraction\", column_trans),\n",
        "    # Segundo paso: predicción de la decisión\n",
        "    ('GBPred', GradientBoostingClassifier(random_state=0))\n",
        "])\n",
        "\n",
        "# especificación de hiperparámetros a optimizar\n",
        "parameters = {\n",
        "    #'FeatureExtraction__CargosLimpioNGramas__max_features': [50, None], # cant de features a extraer\n",
        "    'FeatureExtraction__CargosLimpioNGramas__max_df': [1.0, 0.90], \n",
        "    'FeatureExtraction__CargosLimpioNGramas__min_df': [0.0, 0.10],\n",
        "    'FeatureExtraction__CargosLimpioNGramas__ngram_range': [(1, 1), (1, 2), (2, 2)], # n-grams length\n",
        "    'GBPred__subsample': [0.1, 0.9],\n",
        "    #'GBPred__min_samples_leaf': [1, 3, 5],\n",
        "    'GBPred__max_depth': [1, 2, 3],\n",
        "    'GBPred__learning_rate': [0.1, 0.05]\n",
        "}"
      ],
      "execution_count": 63,
      "outputs": []
    },
    {
      "cell_type": "code",
      "metadata": {
        "id": "zAaPczeKd769"
      },
      "source": [
        "exp_results_df = run_CV(pipeline, \n",
        "                        \"N-gramas + GB\", \n",
        "                        parameters, \n",
        "                        kf, \n",
        "                        X_train, Y_train)\n",
        "\n",
        "#experiments_results = experiments_results.append(exp_results_df)"
      ],
      "execution_count": 64,
      "outputs": []
    },
    {
      "cell_type": "code",
      "metadata": {
        "colab": {
          "base_uri": "https://localhost:8080/",
          "height": 549
        },
        "id": "hUa5VIoed-JM",
        "outputId": "2f389c96-fd5f-44dd-d526-d2806d64f02f"
      },
      "source": [
        "temp_df = exp_results_df[exp_results_df[\"mean_test_accuracy\"]>=0.70].\\\n",
        "  sort_values(by=\"mean_test_accuracy\", ascending=False)\n",
        "\n",
        "for idx, row in temp_df.iterrows():\n",
        "  print(round(row[\"mean_test_accuracy\"], 3), row[\"params\"])\n",
        "\n",
        "print()\n",
        "\n",
        "report_metrics(exp_results_df)"
      ],
      "execution_count": 65,
      "outputs": [
        {
          "output_type": "stream",
          "name": "stdout",
          "text": [
            "0.709 {'FeatureExtraction__CargosLimpioNGramas__max_df': 1.0, 'FeatureExtraction__CargosLimpioNGramas__min_df': 0.0, 'FeatureExtraction__CargosLimpioNGramas__ngram_range': (1, 2), 'GBPred__max_depth': 3, 'GBPred__subsample': 0.9}\n",
            "0.709 {'FeatureExtraction__CargosLimpioNGramas__max_df': 0.9, 'FeatureExtraction__CargosLimpioNGramas__min_df': 0.0, 'FeatureExtraction__CargosLimpioNGramas__ngram_range': (1, 2), 'GBPred__max_depth': 3, 'GBPred__subsample': 0.9}\n",
            "0.7 {'FeatureExtraction__CargosLimpioNGramas__max_df': 1.0, 'FeatureExtraction__CargosLimpioNGramas__min_df': 0.1, 'FeatureExtraction__CargosLimpioNGramas__ngram_range': (1, 1), 'GBPred__max_depth': 1, 'GBPred__subsample': 0.9}\n",
            "0.7 {'FeatureExtraction__CargosLimpioNGramas__max_df': 0.9, 'FeatureExtraction__CargosLimpioNGramas__min_df': 0.1, 'FeatureExtraction__CargosLimpioNGramas__ngram_range': (1, 1), 'GBPred__max_depth': 1, 'GBPred__subsample': 0.9}\n",
            "\n"
          ]
        },
        {
          "output_type": "display_data",
          "data": {
            "image/png": "[encoded data removed]",
            "text/plain": [
              "<Figure size 1080x504 with 2 Axes>"
            ]
          },
          "metadata": {
            "needs_background": "light"
          }
        }
      ]
    },
    {
      "cell_type": "markdown",
      "metadata": {
        "id": "G7_ioW2uu2FA"
      },
      "source": [
        "### Experimentos modelo RF + TF-IDF"
      ]
    },
    {
      "cell_type": "code",
      "metadata": {
        "id": "TOaeCCA-u2FA"
      },
      "source": [
        "# crear modelo combinado de n-gramas (TF-IDF) y random forest\n",
        "column_trans_2 = ColumnTransformer([\n",
        "    # Applicar una transformación TFIDF a la columna 'cargos'  \n",
        "    ('CargosLimpiosTFIDF',  TfidfVectorizer(), 'cargos limpio')\n",
        "    ],\n",
        "    remainder='drop' # ignore the remaining columns\n",
        ")\n",
        "\n",
        "pipeline_2 = Pipeline([\n",
        "    # Primer paso: extracción de características\n",
        "    (\"FeatureExtraction\", column_trans_2),\n",
        "    # Segundo paso: predicción de la decisión\n",
        "    ('RandForestPred', RandomForestClassifier(random_state=0, criterion=\"entropy\")) # freeze random state\n",
        "])"
      ],
      "execution_count": 43,
      "outputs": []
    },
    {
      "cell_type": "code",
      "metadata": {
        "id": "u7HdGLw8u2FA"
      },
      "source": [
        "# especificación de hiperparámetros a optimizar\n",
        "parameters_2 = {\n",
        "    # parámetros del la transformación de la columna Cargos Limpio\n",
        "    'FeatureExtraction__CargosLimpiosTFIDF__ngram_range': [(1, 1), (1, 2), (2, 2)], # n-grams length\n",
        "    #'FeatureExtraction__CargosLimpiosTFIDF__max_features': [50, None], # cant de features a extraer\n",
        "    'FeatureExtraction__CargosLimpiosTFIDF__max_df': [1.0, 0.90], \n",
        "    'FeatureExtraction__CargosLimpiosTFIDF__min_df': [0.0, 0.10],\n",
        "\n",
        "    'RandForestPred__min_samples_leaf':[3, 5],\n",
        "    'RandForestPred__bootstrap': [True, False],\n",
        "    'RandForestPred__max_samples': [0.90],\n",
        "    'RandForestPred__class_weight': ['balanced'] # weighted is much better\n",
        "}"
      ],
      "execution_count": 44,
      "outputs": []
    },
    {
      "cell_type": "code",
      "metadata": {
        "id": "JLTudiVhu2FB"
      },
      "source": [
        "exp_results_df = run_CV(pipeline_2, \n",
        "                        \"TF-IDF + RF\", \n",
        "                        parameters_2, \n",
        "                        kf, \n",
        "                        X_train, Y_train)\n",
        "\n",
        "#experiments_results = experiments_results.append(exp_results_df)"
      ],
      "execution_count": 45,
      "outputs": []
    },
    {
      "cell_type": "code",
      "metadata": {
        "colab": {
          "base_uri": "https://localhost:8080/",
          "height": 580
        },
        "id": "zfFQEdgIEiP7",
        "outputId": "974ad81a-db65-464f-efce-8e03d599691a"
      },
      "source": [
        "temp_df = exp_results_df[exp_results_df[\"mean_test_accuracy\"]>=0.70].\\\n",
        "  sort_values(by=\"mean_test_accuracy\", ascending=False)\n",
        "\n",
        "for idx, row in temp_df.iterrows():\n",
        "  print(round(row[\"mean_test_accuracy\"], 3), row[\"params\"])\n",
        "\n",
        "print()\n",
        "\n",
        "report_metrics(exp_results_df)"
      ],
      "execution_count": 46,
      "outputs": [
        {
          "output_type": "stream",
          "name": "stdout",
          "text": [
            "0.718 {'FeatureExtraction__CargosLimpiosTFIDF__max_df': 1.0, 'FeatureExtraction__CargosLimpiosTFIDF__min_df': 0.0, 'FeatureExtraction__CargosLimpiosTFIDF__ngram_range': (1, 1), 'RandForestPred__bootstrap': False, 'RandForestPred__class_weight': 'balanced', 'RandForestPred__max_samples': 0.9, 'RandForestPred__min_samples_leaf': 3}\n",
            "0.718 {'FeatureExtraction__CargosLimpiosTFIDF__max_df': 0.9, 'FeatureExtraction__CargosLimpiosTFIDF__min_df': 0.0, 'FeatureExtraction__CargosLimpiosTFIDF__ngram_range': (1, 1), 'RandForestPred__bootstrap': False, 'RandForestPred__class_weight': 'balanced', 'RandForestPred__max_samples': 0.9, 'RandForestPred__min_samples_leaf': 3}\n",
            "0.718 {'FeatureExtraction__CargosLimpiosTFIDF__max_df': 1.0, 'FeatureExtraction__CargosLimpiosTFIDF__min_df': 0.0, 'FeatureExtraction__CargosLimpiosTFIDF__ngram_range': (1, 2), 'RandForestPred__bootstrap': False, 'RandForestPred__class_weight': 'balanced', 'RandForestPred__max_samples': 0.9, 'RandForestPred__min_samples_leaf': 3}\n",
            "0.718 {'FeatureExtraction__CargosLimpiosTFIDF__max_df': 0.9, 'FeatureExtraction__CargosLimpiosTFIDF__min_df': 0.0, 'FeatureExtraction__CargosLimpiosTFIDF__ngram_range': (1, 2), 'RandForestPred__bootstrap': False, 'RandForestPred__class_weight': 'balanced', 'RandForestPred__max_samples': 0.9, 'RandForestPred__min_samples_leaf': 3}\n",
            "0.705 {'FeatureExtraction__CargosLimpiosTFIDF__max_df': 1.0, 'FeatureExtraction__CargosLimpiosTFIDF__min_df': 0.0, 'FeatureExtraction__CargosLimpiosTFIDF__ngram_range': (1, 2), 'RandForestPred__bootstrap': True, 'RandForestPred__class_weight': 'balanced', 'RandForestPred__max_samples': 0.9, 'RandForestPred__min_samples_leaf': 3}\n",
            "0.705 {'FeatureExtraction__CargosLimpiosTFIDF__max_df': 0.9, 'FeatureExtraction__CargosLimpiosTFIDF__min_df': 0.0, 'FeatureExtraction__CargosLimpiosTFIDF__ngram_range': (1, 2), 'RandForestPred__bootstrap': True, 'RandForestPred__class_weight': 'balanced', 'RandForestPred__max_samples': 0.9, 'RandForestPred__min_samples_leaf': 3}\n",
            "\n"
          ]
        },
        {
          "output_type": "display_data",
          "data": {
            "image/png": "[encoded data removed]",
            "text/plain": [
              "<Figure size 1080x504 with 2 Axes>"
            ]
          },
          "metadata": {
            "needs_background": "light"
          }
        }
      ]
    },
    {
      "cell_type": "markdown",
      "metadata": {
        "id": "dMG6avkzu2FB"
      },
      "source": [
        "### Experimentos modelo SVC + TF-IDF"
      ]
    },
    {
      "cell_type": "code",
      "metadata": {
        "id": "0sntMHPdu2FB"
      },
      "source": [
        "# crear modelo combinado de n-gramas (TF-IDF) y SVC\n",
        "column_trans = ColumnTransformer([\n",
        "    # Applicar una transformación TFIDF a la columna 'cargos'  \n",
        "    ('CargosLimpiosTFIDF',  TfidfVectorizer(), 'cargos limpio')\n",
        "    ],\n",
        "    remainder='drop' # ignore the remaining columns\n",
        ")\n",
        "\n",
        "pipeline = Pipeline([\n",
        "    # Primer paso: extracción de características\n",
        "    (\"FeatureExtraction\", column_trans),\n",
        "    # Segundo paso: predicción de la decisión\n",
        "    ('SVMPred', SVC(random_state=0)) # freeze random state\n",
        "])"
      ],
      "execution_count": 47,
      "outputs": []
    },
    {
      "cell_type": "code",
      "metadata": {
        "id": "hdtN4eneu2FB"
      },
      "source": [
        "# especificación de hiperparámetros a optimizar\n",
        "parameters = {\n",
        "    # parámetros del la transformación de la columna Cargos Limpio\n",
        "    'FeatureExtraction__CargosLimpiosTFIDF__ngram_range': [(1, 1), (1, 2), (2, 2)], # n-grams length\n",
        "    #'FeatureExtraction__CargosLimpiosTFIDF__max_features': [50, None], # cant de features a extraer\n",
        "    'FeatureExtraction__CargosLimpiosTFIDF__max_df': [1.0, 0.90], \n",
        "    'FeatureExtraction__CargosLimpiosTFIDF__min_df': [0.0, 0.10],\n",
        "\n",
        "    'SVMPred__C': [0.1, 1, 10], \n",
        "    'SVMPred__kernel':['linear', 'rbf'],\n",
        "    'SVMPred__class_weight': [\"balanced\", None]\n",
        "}"
      ],
      "execution_count": 48,
      "outputs": []
    },
    {
      "cell_type": "code",
      "metadata": {
        "id": "qQtKyph3u2FC",
        "colab": {
          "base_uri": "https://localhost:8080/"
        },
        "outputId": "1bf65f8e-69bd-41f6-b428-31794054e1e5"
      },
      "source": [
        "exp_results_df = run_CV(pipeline, \n",
        "                        \"TF-IDF + SVC\", \n",
        "                        parameters, \n",
        "                        kf, \n",
        "                        X_train, Y_train)\n",
        "\n",
        "#experiments_results = experiments_results.append(exp_results_df)"
      ],
      "execution_count": 49,
      "outputs": [
        {
          "output_type": "stream",
          "name": "stderr",
          "text": [
            "/usr/local/lib/python3.7/dist-packages/sklearn/metrics/_classification.py:1272: UndefinedMetricWarning: Precision is ill-defined and being set to 0.0 due to no predicted samples. Use `zero_division` parameter to control this behavior.\n",
            "  _warn_prf(average, modifier, msg_start, len(result))\n",
            "/usr/local/lib/python3.7/dist-packages/sklearn/metrics/_classification.py:1272: UndefinedMetricWarning: Precision is ill-defined and being set to 0.0 due to no predicted samples. Use `zero_division` parameter to control this behavior.\n",
            "  _warn_prf(average, modifier, msg_start, len(result))\n",
            "/usr/local/lib/python3.7/dist-packages/sklearn/metrics/_classification.py:1272: UndefinedMetricWarning: Precision is ill-defined and being set to 0.0 due to no predicted samples. Use `zero_division` parameter to control this behavior.\n",
            "  _warn_prf(average, modifier, msg_start, len(result))\n",
            "/usr/local/lib/python3.7/dist-packages/sklearn/metrics/_classification.py:1272: UndefinedMetricWarning: Precision is ill-defined and being set to 0.0 due to no predicted samples. Use `zero_division` parameter to control this behavior.\n",
            "  _warn_prf(average, modifier, msg_start, len(result))\n",
            "/usr/local/lib/python3.7/dist-packages/sklearn/metrics/_classification.py:1272: UndefinedMetricWarning: Precision is ill-defined and being set to 0.0 due to no predicted samples. Use `zero_division` parameter to control this behavior.\n",
            "  _warn_prf(average, modifier, msg_start, len(result))\n",
            "/usr/local/lib/python3.7/dist-packages/sklearn/metrics/_classification.py:1272: UndefinedMetricWarning: Precision is ill-defined and being set to 0.0 due to no predicted samples. Use `zero_division` parameter to control this behavior.\n",
            "  _warn_prf(average, modifier, msg_start, len(result))\n",
            "/usr/local/lib/python3.7/dist-packages/sklearn/metrics/_classification.py:1272: UndefinedMetricWarning: Precision is ill-defined and being set to 0.0 due to no predicted samples. Use `zero_division` parameter to control this behavior.\n",
            "  _warn_prf(average, modifier, msg_start, len(result))\n",
            "/usr/local/lib/python3.7/dist-packages/sklearn/metrics/_classification.py:1272: UndefinedMetricWarning: Precision is ill-defined and being set to 0.0 due to no predicted samples. Use `zero_division` parameter to control this behavior.\n",
            "  _warn_prf(average, modifier, msg_start, len(result))\n",
            "/usr/local/lib/python3.7/dist-packages/sklearn/metrics/_classification.py:1272: UndefinedMetricWarning: Precision is ill-defined and being set to 0.0 due to no predicted samples. Use `zero_division` parameter to control this behavior.\n",
            "  _warn_prf(average, modifier, msg_start, len(result))\n",
            "/usr/local/lib/python3.7/dist-packages/sklearn/metrics/_classification.py:1272: UndefinedMetricWarning: Precision is ill-defined and being set to 0.0 due to no predicted samples. Use `zero_division` parameter to control this behavior.\n",
            "  _warn_prf(average, modifier, msg_start, len(result))\n",
            "/usr/local/lib/python3.7/dist-packages/sklearn/metrics/_classification.py:1272: UndefinedMetricWarning: Precision is ill-defined and being set to 0.0 due to no predicted samples. Use `zero_division` parameter to control this behavior.\n",
            "  _warn_prf(average, modifier, msg_start, len(result))\n",
            "/usr/local/lib/python3.7/dist-packages/sklearn/metrics/_classification.py:1272: UndefinedMetricWarning: Precision is ill-defined and being set to 0.0 due to no predicted samples. Use `zero_division` parameter to control this behavior.\n",
            "  _warn_prf(average, modifier, msg_start, len(result))\n",
            "/usr/local/lib/python3.7/dist-packages/sklearn/metrics/_classification.py:1272: UndefinedMetricWarning: Precision is ill-defined and being set to 0.0 due to no predicted samples. Use `zero_division` parameter to control this behavior.\n",
            "  _warn_prf(average, modifier, msg_start, len(result))\n",
            "/usr/local/lib/python3.7/dist-packages/sklearn/metrics/_classification.py:1272: UndefinedMetricWarning: Precision is ill-defined and being set to 0.0 due to no predicted samples. Use `zero_division` parameter to control this behavior.\n",
            "  _warn_prf(average, modifier, msg_start, len(result))\n",
            "/usr/local/lib/python3.7/dist-packages/sklearn/metrics/_classification.py:1272: UndefinedMetricWarning: Precision is ill-defined and being set to 0.0 due to no predicted samples. Use `zero_division` parameter to control this behavior.\n",
            "  _warn_prf(average, modifier, msg_start, len(result))\n",
            "/usr/local/lib/python3.7/dist-packages/sklearn/metrics/_classification.py:1272: UndefinedMetricWarning: Precision is ill-defined and being set to 0.0 due to no predicted samples. Use `zero_division` parameter to control this behavior.\n",
            "  _warn_prf(average, modifier, msg_start, len(result))\n"
          ]
        }
      ]
    },
    {
      "cell_type": "code",
      "metadata": {
        "colab": {
          "base_uri": "https://localhost:8080/",
          "height": 1000
        },
        "id": "rPKNNQHeHPyx",
        "outputId": "1b1fb061-e09e-4d5c-ea4f-ded0a942bb5e"
      },
      "source": [
        "temp_df = exp_results_df[exp_results_df[\"mean_test_accuracy\"]>=0.70].\\\n",
        "  sort_values(by=\"mean_test_accuracy\", ascending=False)\n",
        "\n",
        "for idx, row in temp_df.iterrows():\n",
        "  print(round(row[\"mean_test_accuracy\"], 3), row[\"params\"])\n",
        "\n",
        "print()\n",
        "\n",
        "report_metrics(exp_results_df)"
      ],
      "execution_count": 50,
      "outputs": [
        {
          "output_type": "stream",
          "name": "stdout",
          "text": [
            "0.736 {'FeatureExtraction__CargosLimpiosTFIDF__max_df': 0.9, 'FeatureExtraction__CargosLimpiosTFIDF__min_df': 0.0, 'FeatureExtraction__CargosLimpiosTFIDF__ngram_range': (1, 2), 'SVMPred__C': 1, 'SVMPred__class_weight': 'balanced', 'SVMPred__kernel': 'linear'}\n",
            "0.736 {'FeatureExtraction__CargosLimpiosTFIDF__max_df': 1.0, 'FeatureExtraction__CargosLimpiosTFIDF__min_df': 0.0, 'FeatureExtraction__CargosLimpiosTFIDF__ngram_range': (1, 2), 'SVMPred__C': 1, 'SVMPred__class_weight': 'balanced', 'SVMPred__kernel': 'linear'}\n",
            "0.731 {'FeatureExtraction__CargosLimpiosTFIDF__max_df': 1.0, 'FeatureExtraction__CargosLimpiosTFIDF__min_df': 0.0, 'FeatureExtraction__CargosLimpiosTFIDF__ngram_range': (2, 2), 'SVMPred__C': 10, 'SVMPred__class_weight': 'balanced', 'SVMPred__kernel': 'linear'}\n",
            "0.731 {'FeatureExtraction__CargosLimpiosTFIDF__max_df': 0.9, 'FeatureExtraction__CargosLimpiosTFIDF__min_df': 0.0, 'FeatureExtraction__CargosLimpiosTFIDF__ngram_range': (2, 2), 'SVMPred__C': 10, 'SVMPred__class_weight': 'balanced', 'SVMPred__kernel': 'linear'}\n",
            "0.731 {'FeatureExtraction__CargosLimpiosTFIDF__max_df': 0.9, 'FeatureExtraction__CargosLimpiosTFIDF__min_df': 0.0, 'FeatureExtraction__CargosLimpiosTFIDF__ngram_range': (1, 2), 'SVMPred__C': 10, 'SVMPred__class_weight': None, 'SVMPred__kernel': 'linear'}\n",
            "0.731 {'FeatureExtraction__CargosLimpiosTFIDF__max_df': 1.0, 'FeatureExtraction__CargosLimpiosTFIDF__min_df': 0.0, 'FeatureExtraction__CargosLimpiosTFIDF__ngram_range': (1, 2), 'SVMPred__C': 10, 'SVMPred__class_weight': None, 'SVMPred__kernel': 'linear'}\n",
            "0.727 {'FeatureExtraction__CargosLimpiosTFIDF__max_df': 0.9, 'FeatureExtraction__CargosLimpiosTFIDF__min_df': 0.0, 'FeatureExtraction__CargosLimpiosTFIDF__ngram_range': (2, 2), 'SVMPred__C': 10, 'SVMPred__class_weight': None, 'SVMPred__kernel': 'linear'}\n",
            "0.727 {'FeatureExtraction__CargosLimpiosTFIDF__max_df': 1.0, 'FeatureExtraction__CargosLimpiosTFIDF__min_df': 0.0, 'FeatureExtraction__CargosLimpiosTFIDF__ngram_range': (2, 2), 'SVMPred__C': 10, 'SVMPred__class_weight': None, 'SVMPred__kernel': 'linear'}\n",
            "0.727 {'FeatureExtraction__CargosLimpiosTFIDF__max_df': 0.9, 'FeatureExtraction__CargosLimpiosTFIDF__min_df': 0.0, 'FeatureExtraction__CargosLimpiosTFIDF__ngram_range': (1, 1), 'SVMPred__C': 1, 'SVMPred__class_weight': 'balanced', 'SVMPred__kernel': 'rbf'}\n",
            "0.727 {'FeatureExtraction__CargosLimpiosTFIDF__max_df': 1.0, 'FeatureExtraction__CargosLimpiosTFIDF__min_df': 0.0, 'FeatureExtraction__CargosLimpiosTFIDF__ngram_range': (1, 1), 'SVMPred__C': 1, 'SVMPred__class_weight': 'balanced', 'SVMPred__kernel': 'rbf'}\n",
            "0.727 {'FeatureExtraction__CargosLimpiosTFIDF__max_df': 0.9, 'FeatureExtraction__CargosLimpiosTFIDF__min_df': 0.0, 'FeatureExtraction__CargosLimpiosTFIDF__ngram_range': (1, 1), 'SVMPred__C': 10, 'SVMPred__class_weight': None, 'SVMPred__kernel': 'linear'}\n",
            "0.727 {'FeatureExtraction__CargosLimpiosTFIDF__max_df': 1.0, 'FeatureExtraction__CargosLimpiosTFIDF__min_df': 0.0, 'FeatureExtraction__CargosLimpiosTFIDF__ngram_range': (1, 2), 'SVMPred__C': 10, 'SVMPred__class_weight': 'balanced', 'SVMPred__kernel': 'linear'}\n",
            "0.727 {'FeatureExtraction__CargosLimpiosTFIDF__max_df': 0.9, 'FeatureExtraction__CargosLimpiosTFIDF__min_df': 0.0, 'FeatureExtraction__CargosLimpiosTFIDF__ngram_range': (1, 2), 'SVMPred__C': 10, 'SVMPred__class_weight': 'balanced', 'SVMPred__kernel': 'linear'}\n",
            "0.727 {'FeatureExtraction__CargosLimpiosTFIDF__max_df': 1.0, 'FeatureExtraction__CargosLimpiosTFIDF__min_df': 0.0, 'FeatureExtraction__CargosLimpiosTFIDF__ngram_range': (1, 1), 'SVMPred__C': 10, 'SVMPred__class_weight': None, 'SVMPred__kernel': 'linear'}\n",
            "0.723 {'FeatureExtraction__CargosLimpiosTFIDF__max_df': 1.0, 'FeatureExtraction__CargosLimpiosTFIDF__min_df': 0.0, 'FeatureExtraction__CargosLimpiosTFIDF__ngram_range': (2, 2), 'SVMPred__C': 1, 'SVMPred__class_weight': 'balanced', 'SVMPred__kernel': 'linear'}\n",
            "0.723 {'FeatureExtraction__CargosLimpiosTFIDF__max_df': 0.9, 'FeatureExtraction__CargosLimpiosTFIDF__min_df': 0.0, 'FeatureExtraction__CargosLimpiosTFIDF__ngram_range': (2, 2), 'SVMPred__C': 1, 'SVMPred__class_weight': 'balanced', 'SVMPred__kernel': 'linear'}\n",
            "0.722 {'FeatureExtraction__CargosLimpiosTFIDF__max_df': 1.0, 'FeatureExtraction__CargosLimpiosTFIDF__min_df': 0.0, 'FeatureExtraction__CargosLimpiosTFIDF__ngram_range': (1, 1), 'SVMPred__C': 10, 'SVMPred__class_weight': None, 'SVMPred__kernel': 'rbf'}\n",
            "0.722 {'FeatureExtraction__CargosLimpiosTFIDF__max_df': 0.9, 'FeatureExtraction__CargosLimpiosTFIDF__min_df': 0.0, 'FeatureExtraction__CargosLimpiosTFIDF__ngram_range': (1, 1), 'SVMPred__C': 10, 'SVMPred__class_weight': 'balanced', 'SVMPred__kernel': 'rbf'}\n",
            "0.722 {'FeatureExtraction__CargosLimpiosTFIDF__max_df': 1.0, 'FeatureExtraction__CargosLimpiosTFIDF__min_df': 0.0, 'FeatureExtraction__CargosLimpiosTFIDF__ngram_range': (1, 1), 'SVMPred__C': 10, 'SVMPred__class_weight': 'balanced', 'SVMPred__kernel': 'rbf'}\n",
            "0.722 {'FeatureExtraction__CargosLimpiosTFIDF__max_df': 0.9, 'FeatureExtraction__CargosLimpiosTFIDF__min_df': 0.0, 'FeatureExtraction__CargosLimpiosTFIDF__ngram_range': (1, 1), 'SVMPred__C': 10, 'SVMPred__class_weight': None, 'SVMPred__kernel': 'rbf'}\n",
            "0.722 {'FeatureExtraction__CargosLimpiosTFIDF__max_df': 1.0, 'FeatureExtraction__CargosLimpiosTFIDF__min_df': 0.1, 'FeatureExtraction__CargosLimpiosTFIDF__ngram_range': (1, 2), 'SVMPred__C': 10, 'SVMPred__class_weight': 'balanced', 'SVMPred__kernel': 'rbf'}\n",
            "0.722 {'FeatureExtraction__CargosLimpiosTFIDF__max_df': 0.9, 'FeatureExtraction__CargosLimpiosTFIDF__min_df': 0.1, 'FeatureExtraction__CargosLimpiosTFIDF__ngram_range': (1, 2), 'SVMPred__C': 10, 'SVMPred__class_weight': None, 'SVMPred__kernel': 'rbf'}\n",
            "0.722 {'FeatureExtraction__CargosLimpiosTFIDF__max_df': 0.9, 'FeatureExtraction__CargosLimpiosTFIDF__min_df': 0.1, 'FeatureExtraction__CargosLimpiosTFIDF__ngram_range': (1, 2), 'SVMPred__C': 10, 'SVMPred__class_weight': 'balanced', 'SVMPred__kernel': 'rbf'}\n",
            "0.722 {'FeatureExtraction__CargosLimpiosTFIDF__max_df': 1.0, 'FeatureExtraction__CargosLimpiosTFIDF__min_df': 0.1, 'FeatureExtraction__CargosLimpiosTFIDF__ngram_range': (1, 2), 'SVMPred__C': 10, 'SVMPred__class_weight': None, 'SVMPred__kernel': 'rbf'}\n",
            "0.718 {'FeatureExtraction__CargosLimpiosTFIDF__max_df': 0.9, 'FeatureExtraction__CargosLimpiosTFIDF__min_df': 0.0, 'FeatureExtraction__CargosLimpiosTFIDF__ngram_range': (1, 1), 'SVMPred__C': 10, 'SVMPred__class_weight': 'balanced', 'SVMPred__kernel': 'linear'}\n",
            "0.718 {'FeatureExtraction__CargosLimpiosTFIDF__max_df': 1.0, 'FeatureExtraction__CargosLimpiosTFIDF__min_df': 0.0, 'FeatureExtraction__CargosLimpiosTFIDF__ngram_range': (1, 1), 'SVMPred__C': 10, 'SVMPred__class_weight': 'balanced', 'SVMPred__kernel': 'linear'}\n",
            "0.718 {'FeatureExtraction__CargosLimpiosTFIDF__max_df': 0.9, 'FeatureExtraction__CargosLimpiosTFIDF__min_df': 0.0, 'FeatureExtraction__CargosLimpiosTFIDF__ngram_range': (1, 1), 'SVMPred__C': 1, 'SVMPred__class_weight': None, 'SVMPred__kernel': 'linear'}\n",
            "0.718 {'FeatureExtraction__CargosLimpiosTFIDF__max_df': 0.9, 'FeatureExtraction__CargosLimpiosTFIDF__min_df': 0.0, 'FeatureExtraction__CargosLimpiosTFIDF__ngram_range': (2, 2), 'SVMPred__C': 1, 'SVMPred__class_weight': None, 'SVMPred__kernel': 'linear'}\n",
            "0.718 {'FeatureExtraction__CargosLimpiosTFIDF__max_df': 1.0, 'FeatureExtraction__CargosLimpiosTFIDF__min_df': 0.0, 'FeatureExtraction__CargosLimpiosTFIDF__ngram_range': (2, 2), 'SVMPred__C': 1, 'SVMPred__class_weight': None, 'SVMPred__kernel': 'linear'}\n",
            "0.718 {'FeatureExtraction__CargosLimpiosTFIDF__max_df': 1.0, 'FeatureExtraction__CargosLimpiosTFIDF__min_df': 0.0, 'FeatureExtraction__CargosLimpiosTFIDF__ngram_range': (1, 1), 'SVMPred__C': 1, 'SVMPred__class_weight': None, 'SVMPred__kernel': 'linear'}\n",
            "0.718 {'FeatureExtraction__CargosLimpiosTFIDF__max_df': 1.0, 'FeatureExtraction__CargosLimpiosTFIDF__min_df': 0.0, 'FeatureExtraction__CargosLimpiosTFIDF__ngram_range': (2, 2), 'SVMPred__C': 1, 'SVMPred__class_weight': 'balanced', 'SVMPred__kernel': 'rbf'}\n",
            "0.718 {'FeatureExtraction__CargosLimpiosTFIDF__max_df': 0.9, 'FeatureExtraction__CargosLimpiosTFIDF__min_df': 0.0, 'FeatureExtraction__CargosLimpiosTFIDF__ngram_range': (1, 2), 'SVMPred__C': 1, 'SVMPred__class_weight': None, 'SVMPred__kernel': 'linear'}\n",
            "0.718 {'FeatureExtraction__CargosLimpiosTFIDF__max_df': 1.0, 'FeatureExtraction__CargosLimpiosTFIDF__min_df': 0.0, 'FeatureExtraction__CargosLimpiosTFIDF__ngram_range': (1, 2), 'SVMPred__C': 1, 'SVMPred__class_weight': None, 'SVMPred__kernel': 'linear'}\n",
            "0.718 {'FeatureExtraction__CargosLimpiosTFIDF__max_df': 0.9, 'FeatureExtraction__CargosLimpiosTFIDF__min_df': 0.0, 'FeatureExtraction__CargosLimpiosTFIDF__ngram_range': (2, 2), 'SVMPred__C': 1, 'SVMPred__class_weight': 'balanced', 'SVMPred__kernel': 'rbf'}\n",
            "0.714 {'FeatureExtraction__CargosLimpiosTFIDF__max_df': 0.9, 'FeatureExtraction__CargosLimpiosTFIDF__min_df': 0.0, 'FeatureExtraction__CargosLimpiosTFIDF__ngram_range': (2, 2), 'SVMPred__C': 10, 'SVMPred__class_weight': 'balanced', 'SVMPred__kernel': 'rbf'}\n",
            "0.714 {'FeatureExtraction__CargosLimpiosTFIDF__max_df': 1.0, 'FeatureExtraction__CargosLimpiosTFIDF__min_df': 0.0, 'FeatureExtraction__CargosLimpiosTFIDF__ngram_range': (2, 2), 'SVMPred__C': 10, 'SVMPred__class_weight': None, 'SVMPred__kernel': 'rbf'}\n",
            "0.714 {'FeatureExtraction__CargosLimpiosTFIDF__max_df': 1.0, 'FeatureExtraction__CargosLimpiosTFIDF__min_df': 0.0, 'FeatureExtraction__CargosLimpiosTFIDF__ngram_range': (2, 2), 'SVMPred__C': 10, 'SVMPred__class_weight': 'balanced', 'SVMPred__kernel': 'rbf'}\n",
            "0.714 {'FeatureExtraction__CargosLimpiosTFIDF__max_df': 1.0, 'FeatureExtraction__CargosLimpiosTFIDF__min_df': 0.0, 'FeatureExtraction__CargosLimpiosTFIDF__ngram_range': (1, 2), 'SVMPred__C': 10, 'SVMPred__class_weight': None, 'SVMPred__kernel': 'rbf'}\n",
            "0.714 {'FeatureExtraction__CargosLimpiosTFIDF__max_df': 1.0, 'FeatureExtraction__CargosLimpiosTFIDF__min_df': 0.0, 'FeatureExtraction__CargosLimpiosTFIDF__ngram_range': (1, 2), 'SVMPred__C': 10, 'SVMPred__class_weight': 'balanced', 'SVMPred__kernel': 'rbf'}\n",
            "0.714 {'FeatureExtraction__CargosLimpiosTFIDF__max_df': 0.9, 'FeatureExtraction__CargosLimpiosTFIDF__min_df': 0.0, 'FeatureExtraction__CargosLimpiosTFIDF__ngram_range': (1, 2), 'SVMPred__C': 1, 'SVMPred__class_weight': 'balanced', 'SVMPred__kernel': 'rbf'}\n",
            "0.714 {'FeatureExtraction__CargosLimpiosTFIDF__max_df': 0.9, 'FeatureExtraction__CargosLimpiosTFIDF__min_df': 0.0, 'FeatureExtraction__CargosLimpiosTFIDF__ngram_range': (1, 2), 'SVMPred__C': 10, 'SVMPred__class_weight': 'balanced', 'SVMPred__kernel': 'rbf'}\n",
            "0.714 {'FeatureExtraction__CargosLimpiosTFIDF__max_df': 1.0, 'FeatureExtraction__CargosLimpiosTFIDF__min_df': 0.0, 'FeatureExtraction__CargosLimpiosTFIDF__ngram_range': (1, 2), 'SVMPred__C': 1, 'SVMPred__class_weight': 'balanced', 'SVMPred__kernel': 'rbf'}\n",
            "0.714 {'FeatureExtraction__CargosLimpiosTFIDF__max_df': 0.9, 'FeatureExtraction__CargosLimpiosTFIDF__min_df': 0.0, 'FeatureExtraction__CargosLimpiosTFIDF__ngram_range': (1, 2), 'SVMPred__C': 10, 'SVMPred__class_weight': None, 'SVMPred__kernel': 'rbf'}\n",
            "0.714 {'FeatureExtraction__CargosLimpiosTFIDF__max_df': 0.9, 'FeatureExtraction__CargosLimpiosTFIDF__min_df': 0.0, 'FeatureExtraction__CargosLimpiosTFIDF__ngram_range': (2, 2), 'SVMPred__C': 10, 'SVMPred__class_weight': None, 'SVMPred__kernel': 'rbf'}\n",
            "0.713 {'FeatureExtraction__CargosLimpiosTFIDF__max_df': 1.0, 'FeatureExtraction__CargosLimpiosTFIDF__min_df': 0.0, 'FeatureExtraction__CargosLimpiosTFIDF__ngram_range': (1, 1), 'SVMPred__C': 1, 'SVMPred__class_weight': 'balanced', 'SVMPred__kernel': 'linear'}\n",
            "0.713 {'FeatureExtraction__CargosLimpiosTFIDF__max_df': 0.9, 'FeatureExtraction__CargosLimpiosTFIDF__min_df': 0.0, 'FeatureExtraction__CargosLimpiosTFIDF__ngram_range': (1, 1), 'SVMPred__C': 1, 'SVMPred__class_weight': 'balanced', 'SVMPred__kernel': 'linear'}\n",
            "0.709 {'FeatureExtraction__CargosLimpiosTFIDF__max_df': 1.0, 'FeatureExtraction__CargosLimpiosTFIDF__min_df': 0.1, 'FeatureExtraction__CargosLimpiosTFIDF__ngram_range': (1, 2), 'SVMPred__C': 1, 'SVMPred__class_weight': None, 'SVMPred__kernel': 'rbf'}\n",
            "0.709 {'FeatureExtraction__CargosLimpiosTFIDF__max_df': 0.9, 'FeatureExtraction__CargosLimpiosTFIDF__min_df': 0.1, 'FeatureExtraction__CargosLimpiosTFIDF__ngram_range': (1, 2), 'SVMPred__C': 1, 'SVMPred__class_weight': None, 'SVMPred__kernel': 'rbf'}\n",
            "0.705 {'FeatureExtraction__CargosLimpiosTFIDF__max_df': 0.9, 'FeatureExtraction__CargosLimpiosTFIDF__min_df': 0.1, 'FeatureExtraction__CargosLimpiosTFIDF__ngram_range': (1, 1), 'SVMPred__C': 1, 'SVMPred__class_weight': None, 'SVMPred__kernel': 'rbf'}\n",
            "0.705 {'FeatureExtraction__CargosLimpiosTFIDF__max_df': 1.0, 'FeatureExtraction__CargosLimpiosTFIDF__min_df': 0.1, 'FeatureExtraction__CargosLimpiosTFIDF__ngram_range': (1, 1), 'SVMPred__C': 1, 'SVMPred__class_weight': None, 'SVMPred__kernel': 'rbf'}\n",
            "0.705 {'FeatureExtraction__CargosLimpiosTFIDF__max_df': 1.0, 'FeatureExtraction__CargosLimpiosTFIDF__min_df': 0.1, 'FeatureExtraction__CargosLimpiosTFIDF__ngram_range': (1, 1), 'SVMPred__C': 10, 'SVMPred__class_weight': None, 'SVMPred__kernel': 'rbf'}\n",
            "0.705 {'FeatureExtraction__CargosLimpiosTFIDF__max_df': 1.0, 'FeatureExtraction__CargosLimpiosTFIDF__min_df': 0.1, 'FeatureExtraction__CargosLimpiosTFIDF__ngram_range': (1, 1), 'SVMPred__C': 10, 'SVMPred__class_weight': 'balanced', 'SVMPred__kernel': 'rbf'}\n",
            "0.705 {'FeatureExtraction__CargosLimpiosTFIDF__max_df': 0.9, 'FeatureExtraction__CargosLimpiosTFIDF__min_df': 0.1, 'FeatureExtraction__CargosLimpiosTFIDF__ngram_range': (1, 1), 'SVMPred__C': 10, 'SVMPred__class_weight': 'balanced', 'SVMPred__kernel': 'rbf'}\n",
            "0.705 {'FeatureExtraction__CargosLimpiosTFIDF__max_df': 0.9, 'FeatureExtraction__CargosLimpiosTFIDF__min_df': 0.1, 'FeatureExtraction__CargosLimpiosTFIDF__ngram_range': (1, 1), 'SVMPred__C': 10, 'SVMPred__class_weight': None, 'SVMPred__kernel': 'rbf'}\n",
            "\n"
          ]
        },
        {
          "output_type": "display_data",
          "data": {
            "image/png": "[encoded data removed]",
            "text/plain": [
              "<Figure size 1080x504 with 2 Axes>"
            ]
          },
          "metadata": {
            "needs_background": "light"
          }
        }
      ]
    },
    {
      "cell_type": "markdown",
      "metadata": {
        "id": "kgaTVgWdu2FC"
      },
      "source": [
        "### Experimento Cargos Multicat + RF"
      ]
    },
    {
      "cell_type": "code",
      "metadata": {
        "colab": {
          "base_uri": "https://localhost:8080/"
        },
        "id": "snOobgiiu2FC",
        "outputId": "e8be6ba3-8416-4131-dc1a-b52fa14b0d72"
      },
      "source": [
        "# entrenar el multi label binarizer\n",
        "mlb = MultiLabelBinarizer(classes=cargos_list)\n",
        "mlb.fit([cargos_list])\n",
        "\n",
        "# hay algunos errores que se debe corregir en la codificación\n",
        "X_train_proc = mlb.transform(X_train[\"códigos\"])\n",
        "\n",
        "print(X_train_proc.shape)"
      ],
      "execution_count": null,
      "outputs": [
        {
          "output_type": "stream",
          "name": "stdout",
          "text": [
            "(227, 40)\n"
          ]
        },
        {
          "output_type": "stream",
          "name": "stderr",
          "text": [
            "/usr/local/lib/python3.7/dist-packages/sklearn/preprocessing/_label.py:987: UserWarning: unknown class(es) ['', 'o6', 'se11', 'se2', 'seg5\\n', 'ser2ser7'] will be ignored\n",
            "  .format(sorted(unknown, key=str)))\n"
          ]
        }
      ]
    },
    {
      "cell_type": "code",
      "metadata": {
        "id": "CaOTy6Mmu2FD"
      },
      "source": [
        "# crear modelo combinado de cargos (multicat) y random forest\n",
        "\n",
        "pipeline_3 = Pipeline([\n",
        "    # predicción de la decisión\n",
        "    ('RandForestPred', RandomForestClassifier(random_state=0)) # freeze random state\n",
        "])"
      ],
      "execution_count": null,
      "outputs": []
    },
    {
      "cell_type": "code",
      "metadata": {
        "id": "fLb5VJbsu2FD"
      },
      "source": [
        "# especificación de hiperparámetros a optimizar\n",
        "parameters_3 = {\n",
        "    'RandForestPred__criterion': ['entropy'], \n",
        "    'RandForestPred__min_samples_leaf':[3, 5, 7],\n",
        "    'RandForestPred__bootstrap': [True, False],\n",
        "    'RandForestPred__class_weight': [\"balanced\", None]\n",
        "}"
      ],
      "execution_count": null,
      "outputs": []
    },
    {
      "cell_type": "code",
      "metadata": {
        "id": "SOicc2zOu2FD"
      },
      "source": [
        "exp_results_df = run_CV(pipeline_3, \n",
        "                        \"CargosMulticat + RF\", \n",
        "                        parameters_3, \n",
        "                        kf, \n",
        "                        X_train_proc, Y_train)\n",
        "\n",
        "#experiments_results = experiments_results.append(exp_results_df)"
      ],
      "execution_count": null,
      "outputs": []
    },
    {
      "cell_type": "code",
      "metadata": {
        "colab": {
          "base_uri": "https://localhost:8080/",
          "height": 580
        },
        "id": "0QLRFkLFIWDf",
        "outputId": "32b56b3f-f21b-4ad0-ccb1-a511d45b62ec"
      },
      "source": [
        "temp_df = exp_results_df[exp_results_df[\"mean_test_accuracy\"]>=0.68].\\\n",
        "  sort_values(by=\"mean_test_accuracy\", ascending=False)\n",
        "\n",
        "for idx, row in temp_df.iterrows():\n",
        "  print(round(row[\"mean_test_accuracy\"], 3), row[\"params\"])\n",
        "\n",
        "print()\n",
        "\n",
        "report_metrics(exp_results_df)"
      ],
      "execution_count": null,
      "outputs": [
        {
          "output_type": "stream",
          "name": "stdout",
          "text": [
            "0.687 {'RandForestPred__bootstrap': True, 'RandForestPred__class_weight': None, 'RandForestPred__criterion': 'entropy', 'RandForestPred__min_samples_leaf': 3}\n",
            "0.687 {'RandForestPred__bootstrap': True, 'RandForestPred__class_weight': None, 'RandForestPred__criterion': 'entropy', 'RandForestPred__min_samples_leaf': 5}\n",
            "0.687 {'RandForestPred__bootstrap': True, 'RandForestPred__class_weight': None, 'RandForestPred__criterion': 'entropy', 'RandForestPred__min_samples_leaf': 7}\n",
            "0.687 {'RandForestPred__bootstrap': False, 'RandForestPred__class_weight': None, 'RandForestPred__criterion': 'entropy', 'RandForestPred__min_samples_leaf': 1}\n",
            "0.687 {'RandForestPred__bootstrap': False, 'RandForestPred__class_weight': None, 'RandForestPred__criterion': 'entropy', 'RandForestPred__min_samples_leaf': 5}\n",
            "0.687 {'RandForestPred__bootstrap': False, 'RandForestPred__class_weight': None, 'RandForestPred__criterion': 'entropy', 'RandForestPred__min_samples_leaf': 7}\n",
            "\n"
          ]
        },
        {
          "output_type": "display_data",
          "data": {
            "image/png": "[encoded data removed]",
            "text/plain": [
              "<Figure size 1080x504 with 2 Axes>"
            ]
          },
          "metadata": {
            "needs_background": "light"
          }
        }
      ]
    },
    {
      "cell_type": "markdown",
      "metadata": {
        "id": "kTna_lbZu2FD"
      },
      "source": [
        "### Experimento Cargos Multicat + SVC"
      ]
    },
    {
      "cell_type": "code",
      "metadata": {
        "id": "84oQd7Uru2FD"
      },
      "source": [
        "# crear modelo combinado de cargos (multicat) y SVM\n",
        "pipeline = Pipeline([\n",
        "    # predicción de la decisión\n",
        "    ('SVMPred', SVC(random_state=0, class_weight=\"balanced\")) # freeze random state\n",
        "])"
      ],
      "execution_count": null,
      "outputs": []
    },
    {
      "cell_type": "code",
      "metadata": {
        "id": "TXaKx49ou2FD"
      },
      "source": [
        "# especificación de hiperparámetros a optimizar\n",
        "parameters = {\n",
        "    'SVMPred__C': [0.1, 1, 10], \n",
        "    'SVMPred__kernel':['linear', 'rbf'],\n",
        "}"
      ],
      "execution_count": null,
      "outputs": []
    },
    {
      "cell_type": "code",
      "metadata": {
        "id": "E_4fv6Icu2FE",
        "colab": {
          "base_uri": "https://localhost:8080/"
        },
        "outputId": "ea08cbf3-0f8c-4492-c439-43dfb75df750"
      },
      "source": [
        "exp_results_df = run_CV(pipeline, \n",
        "                        \"CargosMulticat + SVM\", \n",
        "                        parameters, \n",
        "                        kf, \n",
        "                        X_train_proc, Y_train)\n",
        "\n",
        "experiments_results = experiments_results.append(exp_results_df)"
      ],
      "execution_count": null,
      "outputs": [
        {
          "output_type": "stream",
          "name": "stderr",
          "text": [
            "/usr/local/lib/python3.7/dist-packages/sklearn/metrics/_classification.py:1272: UndefinedMetricWarning: Precision is ill-defined and being set to 0.0 due to no predicted samples. Use `zero_division` parameter to control this behavior.\n",
            "  _warn_prf(average, modifier, msg_start, len(result))\n",
            "/usr/local/lib/python3.7/dist-packages/sklearn/metrics/_classification.py:1272: UndefinedMetricWarning: Precision is ill-defined and being set to 0.0 due to no predicted samples. Use `zero_division` parameter to control this behavior.\n",
            "  _warn_prf(average, modifier, msg_start, len(result))\n"
          ]
        }
      ]
    },
    {
      "cell_type": "code",
      "metadata": {
        "id": "wXTxDlFI7zYY"
      },
      "source": [
        "## Guardar los resultados"
      ],
      "execution_count": null,
      "outputs": []
    },
    {
      "cell_type": "code",
      "metadata": {
        "id": "yedGKvNMu2FE"
      },
      "source": [
        "experiments_results.to_csv(\"resultados_experimentos.csv\")"
      ],
      "execution_count": null,
      "outputs": []
    },
    {
      "cell_type": "code",
      "metadata": {
        "id": "n9nScOf0u2FE"
      },
      "source": [
        ""
      ],
      "execution_count": null,
      "outputs": []
    },
    {
      "cell_type": "code",
      "metadata": {
        "id": "lcUtwQBEu2FE"
      },
      "source": [
        ""
      ],
      "execution_count": null,
      "outputs": []
    }
  ]
}