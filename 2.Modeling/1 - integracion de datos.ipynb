{
 "cells": [
  {
   "cell_type": "code",
   "execution_count": 71,
   "metadata": {},
   "outputs": [],
   "source": [
    "##Liberias\n",
    "\n",
    "import pandas as pd\n",
    "import numpy as np\n",
    "import warnings\n",
    "warnings.filterwarnings(\"ignore\")\n",
    "import glob\n",
    "import os"
   ]
  },
  {
   "cell_type": "markdown",
   "metadata": {
    "collapsed": true
   },
   "source": [
    "t_path = \"C:/Users/diego/Downloads/Ciclo 2021-II/TFII/juez-bot-main/1.1.Resoluciones\"\n",
    "\n",
    "t_list = []\n",
    "for year in os.listdir(t_path):\n",
    "    \n",
    "    c_path = t_path + \"/\" + year\n",
    "    \n",
    "    year = year[-4:]\n",
    "    n_resol = len(os.listdir(c_path))\n",
    "    t_list.append((year, n_resol))\n",
    "\n",
    "for x in sorted(t_list, key=lambda x: x[0]):\n",
    "    print(x)"
   ]
  },
  {
   "cell_type": "code",
   "execution_count": 95,
   "metadata": {},
   "outputs": [],
   "source": [
    "df_cargos_desc = pd.read_excel(\"cargos_categorias.xlsx\", \n",
    "                               sheet_name=0, \n",
    "                               usecols=[0,1,2,3])\n",
    "# crear lista de los disintos cargos\n",
    "cargos_list = list(df_cargos_desc[\"CÓDIGO\"])\n",
    "\n",
    "#df_cargos_desc.head()"
   ]
  },
  {
   "cell_type": "code",
   "execution_count": 96,
   "metadata": {},
   "outputs": [
    {
     "name": "stdout",
     "output_type": "stream",
     "text": [
      "<class 'pandas.core.frame.DataFrame'>\n",
      "RangeIndex: 288 entries, 0 to 287\n",
      "Data columns (total 4 columns):\n",
      " #   Column    Non-Null Count  Dtype \n",
      "---  ------    --------------  ----- \n",
      " 0   id_resol  288 non-null    object\n",
      " 1   año       288 non-null    int64 \n",
      " 2   cargos    288 non-null    object\n",
      " 3   códigos   287 non-null    object\n",
      "dtypes: int64(1), object(3)\n",
      "memory usage: 9.1+ KB\n"
     ]
    }
   ],
   "source": [
    "df_cargos_multicat = pd.read_excel(\"res_hechos.xlsx\", sheet_name=0, \n",
    "                                   usecols=[0, 1, 2, 3])\n",
    "\n",
    "df_cargos_multicat[\"id_resol\"] = \\\n",
    "    df_cargos_multicat[\"id_resol\"]. \\\n",
    "        str.replace(\"–\", \"-\"). \\\n",
    "        str.replace(\" \", \"\"). \\\n",
    "        str.replace(\".\", \"-\"). \\\n",
    "        str.replace(\"SC2\", \"SPC\"). \\\n",
    "        str.replace(\"TDC\", \"SPC\")\n",
    "\n",
    "df_cargos_multicat.info()\n",
    "#df_cargos_multicat.sample(5)"
   ]
  },
  {
   "cell_type": "code",
   "execution_count": 97,
   "metadata": {
    "scrolled": true
   },
   "outputs": [
    {
     "name": "stdout",
     "output_type": "stream",
     "text": [
      "<class 'pandas.core.frame.DataFrame'>\n",
      "RangeIndex: 301 entries, 0 to 300\n",
      "Data columns (total 5 columns):\n",
      " #   Column               Non-Null Count  Dtype \n",
      "---  ------               --------------  ----- \n",
      " 0   Año                  301 non-null    int64 \n",
      " 1   id_resol             301 non-null    object\n",
      " 2   Empresa denunciada   301 non-null    object\n",
      " 3   Multas               301 non-null    object\n",
      " 4   Medidas correctivas  301 non-null    object\n",
      "dtypes: int64(1), object(4)\n",
      "memory usage: 11.9+ KB\n"
     ]
    }
   ],
   "source": [
    "#extrayendo data que proviene de 1. Cleaning-Resoluciones-Completas\n",
    "df_resoluciones = pd.read_csv(\"res_multas.csv\")\n",
    "\n",
    "df_resoluciones[\"id_resol\"] = \\\n",
    "    df_resoluciones[\"id_resol\"]. \\\n",
    "        str.replace(\"–\", \"-\"). \\\n",
    "        str.replace(\" \", \"\"). \\\n",
    "        str.replace(\".\", \"-\"). \\\n",
    "        str.replace(\"SC2\", \"SPC\"). \\\n",
    "        str.replace(\"TDC\", \"SPC\")\n",
    "\n",
    "df_resoluciones = df_resoluciones[[\"Año\", \"id_resol\", \"Empresa denunciada\", \"Multas\", \"Medidas correctivas\"]]\n",
    "df_resoluciones.info()\n",
    "#df_resoluciones.head()"
   ]
  },
  {
   "cell_type": "code",
   "execution_count": 98,
   "metadata": {},
   "outputs": [
    {
     "name": "stdout",
     "output_type": "stream",
     "text": [
      "<class 'pandas.core.frame.DataFrame'>\n",
      "Int64Index: 281 entries, 0 to 280\n",
      "Data columns (total 7 columns):\n",
      " #   Column               Non-Null Count  Dtype \n",
      "---  ------               --------------  ----- \n",
      " 0   id_resol             281 non-null    object\n",
      " 1   año                  281 non-null    int64 \n",
      " 2   cargos               281 non-null    object\n",
      " 3   códigos              280 non-null    object\n",
      " 4   Empresa denunciada   281 non-null    object\n",
      " 5   Multas               281 non-null    object\n",
      " 6   Medidas correctivas  281 non-null    object\n",
      "dtypes: int64(1), object(6)\n",
      "memory usage: 17.6+ KB\n"
     ]
    }
   ],
   "source": [
    "df_resol_comp = df_cargos_multicat.merge(right=df_resoluciones, how=\"inner\", on=\"id_resol\")\n",
    "df_resol_comp = df_resol_comp.drop([\"Año\"], axis=1)\n",
    "\n",
    "df_resol_comp.info()"
   ]
  },
  {
   "cell_type": "code",
   "execution_count": 99,
   "metadata": {},
   "outputs": [
    {
     "data": {
      "text/html": [
       "<div>\n",
       "<style scoped>\n",
       "    .dataframe tbody tr th:only-of-type {\n",
       "        vertical-align: middle;\n",
       "    }\n",
       "\n",
       "    .dataframe tbody tr th {\n",
       "        vertical-align: top;\n",
       "    }\n",
       "\n",
       "    .dataframe thead th {\n",
       "        text-align: right;\n",
       "    }\n",
       "</style>\n",
       "<table border=\"1\" class=\"dataframe\">\n",
       "  <thead>\n",
       "    <tr style=\"text-align: right;\">\n",
       "      <th></th>\n",
       "      <th>id_resol</th>\n",
       "      <th>año</th>\n",
       "      <th>cargos</th>\n",
       "      <th>códigos</th>\n",
       "      <th>Empresa denunciada</th>\n",
       "      <th>Multas</th>\n",
       "      <th>Medidas correctivas</th>\n",
       "      <th>dec_fav_denunciante</th>\n",
       "    </tr>\n",
       "  </thead>\n",
       "  <tbody>\n",
       "    <tr>\n",
       "      <th>253</th>\n",
       "      <td>1466-2006/SPC-INDECOPI</td>\n",
       "      <td>2006</td>\n",
       "      <td>realizó un viaje desde la ciudad de Lima a la ...</td>\n",
       "      <td>ser2</td>\n",
       "      <td>Empresa de Transporte Flores Hermanos S.R.L.</td>\n",
       "      <td>0,5 UIT Pago de costas y costos</td>\n",
       "      <td>US$429,13</td>\n",
       "      <td>1</td>\n",
       "    </tr>\n",
       "    <tr>\n",
       "      <th>249</th>\n",
       "      <td>0071-2006/SPC-INDECOPI</td>\n",
       "      <td>2006</td>\n",
       "      <td>se acercó a las oficinas de la denunciada\\nen ...</td>\n",
       "      <td>ser2, ser3</td>\n",
       "      <td>PAREDES ESTRELLA CARGO S.A.</td>\n",
       "      <td>0,5 UIT</td>\n",
       "      <td>Pago de S/.1,650</td>\n",
       "      <td>1</td>\n",
       "    </tr>\n",
       "    <tr>\n",
       "      <th>112</th>\n",
       "      <td>0515-2011/SPC-INDECOPI</td>\n",
       "      <td>2011</td>\n",
       "      <td>Se denuncio lo siguiente\\n(i) El 23 de febrero...</td>\n",
       "      <td>ser2, ser7</td>\n",
       "      <td>TRANSPORTES CRUZ DEL SUR S.A.C.</td>\n",
       "      <td>0.5 UIT</td>\n",
       "      <td>5000</td>\n",
       "      <td>1</td>\n",
       "    </tr>\n",
       "    <tr>\n",
       "      <th>276</th>\n",
       "      <td>1133-2010/SPC-INDECOPI</td>\n",
       "      <td>2010</td>\n",
       "      <td>(i) El 3 de abril de 2009 contrató los servic...</td>\n",
       "      <td>ser1, ser7, ser13</td>\n",
       "      <td>Empresa de Transportes Expreso Cial S.A.C.</td>\n",
       "      <td>2 UIT Pago de costas y costos</td>\n",
       "      <td>S/.550.00</td>\n",
       "      <td>1</td>\n",
       "    </tr>\n",
       "    <tr>\n",
       "      <th>134</th>\n",
       "      <td>1921-2011/SPC-INDECOPI</td>\n",
       "      <td>2011</td>\n",
       "      <td>(i) El 3 de julio de 2009, adquirió un boleto ...</td>\n",
       "      <td>ser2, ser5, o5</td>\n",
       "      <td>MERLY ROXANA GUEVARA BARRETO</td>\n",
       "      <td>2 UIT</td>\n",
       "      <td>180</td>\n",
       "      <td>1</td>\n",
       "    </tr>\n",
       "  </tbody>\n",
       "</table>\n",
       "</div>"
      ],
      "text/plain": [
       "                   id_resol   año  \\\n",
       "253  1466-2006/SPC-INDECOPI  2006   \n",
       "249  0071-2006/SPC-INDECOPI  2006   \n",
       "112  0515-2011/SPC-INDECOPI  2011   \n",
       "276  1133-2010/SPC-INDECOPI  2010   \n",
       "134  1921-2011/SPC-INDECOPI  2011   \n",
       "\n",
       "                                                cargos            códigos  \\\n",
       "253  realizó un viaje desde la ciudad de Lima a la ...               ser2   \n",
       "249  se acercó a las oficinas de la denunciada\\nen ...         ser2, ser3   \n",
       "112  Se denuncio lo siguiente\\n(i) El 23 de febrero...         ser2, ser7   \n",
       "276   (i) El 3 de abril de 2009 contrató los servic...  ser1, ser7, ser13   \n",
       "134  (i) El 3 de julio de 2009, adquirió un boleto ...     ser2, ser5, o5   \n",
       "\n",
       "                               Empresa denunciada  \\\n",
       "253  Empresa de Transporte Flores Hermanos S.R.L.   \n",
       "249                   PAREDES ESTRELLA CARGO S.A.   \n",
       "112               TRANSPORTES CRUZ DEL SUR S.A.C.   \n",
       "276    Empresa de Transportes Expreso Cial S.A.C.   \n",
       "134                  MERLY ROXANA GUEVARA BARRETO   \n",
       "\n",
       "                              Multas Medidas correctivas  dec_fav_denunciante  \n",
       "253  0,5 UIT Pago de costas y costos           US$429,13                    1  \n",
       "249                          0,5 UIT    Pago de S/.1,650                    1  \n",
       "112                          0.5 UIT                5000                    1  \n",
       "276    2 UIT Pago de costas y costos           S/.550.00                    1  \n",
       "134                            2 UIT                 180                    1  "
      ]
     },
     "execution_count": 99,
     "metadata": {},
     "output_type": "execute_result"
    }
   ],
   "source": [
    "filtro = (df_resol_comp[\"Multas\"] == \"0\") & (df_resol_comp[\"Medidas correctivas\"] == \"0\")\n",
    "\n",
    "df_resol_comp[\"dec_fav_denunciante\"] = (~filtro).astype(\"int8\")\n",
    "df_resol_comp.sample(5)"
   ]
  },
  {
   "cell_type": "markdown",
   "metadata": {},
   "source": [
    "# Pre-procesamiento de las resoluciones"
   ]
  },
  {
   "cell_type": "code",
   "execution_count": 100,
   "metadata": {},
   "outputs": [],
   "source": [
    "import re\n",
    "from nltk.corpus import stopwords"
   ]
  },
  {
   "cell_type": "code",
   "execution_count": 101,
   "metadata": {},
   "outputs": [],
   "source": [
    "def limpieza_texto(string):\n",
    "    string = string.lower()\n",
    "    string = string.replace(\"\\n\", \" \")\n",
    "    list_words = re.findall(r'[a-z0-9ñáéíóúü-]+', string)\n",
    "    list_words = [x for x in list_words if x not in stopwords.words('spanish')]\n",
    "    string = \" \".join(list_words)\n",
    "    return string"
   ]
  },
  {
   "cell_type": "code",
   "execution_count": 102,
   "metadata": {},
   "outputs": [
    {
     "data": {
      "text/plain": [
       "'resolución 123-a código asdf4'"
      ]
     },
     "execution_count": 102,
     "metadata": {},
     "output_type": "execute_result"
    }
   ],
   "source": [
    "# re.findall(r'[a-z0-9ñáéíóúü-]+', \"la resolución 123-a, con código asdf4.\")\n",
    "limpieza_texto(\"la resolución 123-a,\\ncon código asdf4.\")"
   ]
  },
  {
   "cell_type": "code",
   "execution_count": 103,
   "metadata": {},
   "outputs": [],
   "source": [
    "df_resol_comp[\"cargos limpio\"] = \\\n",
    "    df_resol_comp[\"cargos\"].apply(limpieza_texto)"
   ]
  },
  {
   "cell_type": "code",
   "execution_count": 104,
   "metadata": {},
   "outputs": [
    {
     "data": {
      "text/plain": [
       "0      luego contratar servicios denunciada 26 octubr...\n",
       "1      cláusula 11 incluida boletos viaje establecía ...\n",
       "2      cláusula 11 incluida boletos viaje establecía ...\n",
       "3      empresa implementó establecimiento comercial l...\n",
       "4      empresa brindado servicio idóneo ruta trujillo...\n",
       "                             ...                        \n",
       "276    i 3 abril 2009 contrató servicios expreso cial...\n",
       "277    señaló denunciado brindado servicio transporte...\n",
       "278    señaló 29 abril 2009 contrató servicios denunc...\n",
       "279    denuncio viaje arequipa cusco realizado 22 jun...\n",
       "280    viaje lima piura efectuado 27 febrero 2005 equ...\n",
       "Name: cargos limpio, Length: 281, dtype: object"
      ]
     },
     "execution_count": 104,
     "metadata": {},
     "output_type": "execute_result"
    }
   ],
   "source": [
    "df_resol_comp[\"cargos limpio\"]"
   ]
  },
  {
   "cell_type": "code",
   "execution_count": 105,
   "metadata": {},
   "outputs": [],
   "source": [
    "df_resol_comp[\"códigos\"] = \\\n",
    "    df_resol_comp[\"códigos\"].apply(lambda x: x.replace(\" \", \"\") if isinstance(x, str) else x )"
   ]
  },
  {
   "cell_type": "code",
   "execution_count": 106,
   "metadata": {},
   "outputs": [],
   "source": [
    "df_resol_comp.to_csv(\"res_completo.csv\", encoding=\"utf-8\")"
   ]
  }
 ],
 "metadata": {
  "kernelspec": {
   "display_name": "Python 3",
   "language": "python",
   "name": "python3"
  },
  "language_info": {
   "codemirror_mode": {
    "name": "ipython",
    "version": 3
   },
   "file_extension": ".py",
   "mimetype": "text/x-python",
   "name": "python",
   "nbconvert_exporter": "python",
   "pygments_lexer": "ipython3",
   "version": "3.8.3"
  }
 },
 "nbformat": 4,
 "nbformat_minor": 4
}
