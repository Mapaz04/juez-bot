{
 "cells": [
  {
   "cell_type": "code",
   "execution_count": 1,
   "metadata": {},
   "outputs": [],
   "source": [
    "##Liberias\n",
    "\n",
    "import pandas as pd\n",
    "import numpy as np\n",
    "import warnings\n",
    "warnings.filterwarnings(\"ignore\")\n",
    "import glob"
   ]
  },
  {
   "cell_type": "code",
   "execution_count": 2,
   "metadata": {},
   "outputs": [],
   "source": [
    "#import tensorflow as tf\n",
    "#from keras import layers\n",
    "#import keras\n",
    "#from datetime import datetime\n",
    "#from sklearn.metrics import accuracy_score,classification_report"
   ]
  },
  {
   "cell_type": "markdown",
   "metadata": {},
   "source": [
    "## 1. Datos"
   ]
  },
  {
   "cell_type": "code",
   "execution_count": 3,
   "metadata": {},
   "outputs": [],
   "source": [
    "#Normas\n",
    "DF_normas = pd.read_csv(\"normas_binary.csv\",\n",
    "                        index_col=\"Número de resolución\",\n",
    "                        )\n",
    "\n",
    "#Tribunal\n",
    "DF_tribunal = pd.read_csv(\"tribunal_binary.csv\", \n",
    "                          index_col=\"Número de resolución\")\n",
    "\n",
    "#Empresas\n",
    "DF_empresa = pd.read_csv(\"empresa_binary.csv\", \n",
    "                         index_col=\"Número de resolución\")\n",
    "\n",
    "\n",
    "#\n",
    "CA_WE = np.loadtxt(\"Criterios_emb.csv\", delimiter=\",\")\n",
    "\n",
    "#\n",
    "CA_TFIDF = np.loadtxt(\"TF-IDF_Vectorization_Criterios.csv\", \n",
    "                      delimiter=\",\")\n",
    "\n",
    "TF_Todas = np.loadtxt(\"TF-IDF_Vectorization_Todas.csv\", delimiter=\",\")"
   ]
  },
  {
   "cell_type": "code",
   "execution_count": 4,
   "metadata": {},
   "outputs": [],
   "source": [
    "y = DF_normas.iloc[:, -1].values"
   ]
  },
  {
   "cell_type": "code",
   "execution_count": 5,
   "metadata": {},
   "outputs": [],
   "source": [
    "normas_numpy = DF_normas.values[:, :-1]\n",
    "tribunal_numpy = DF_tribunal.values[:, :-1]\n",
    "empresa_numpy = DF_empresa.values[:, :-1]"
   ]
  },
  {
   "cell_type": "markdown",
   "metadata": {},
   "source": [
    "## 2. Clasificación"
   ]
  },
  {
   "cell_type": "code",
   "execution_count": 6,
   "metadata": {},
   "outputs": [],
   "source": [
    "def train_test_80_20(X, Y):\n",
    "    \n",
    "    from sklearn.model_selection import train_test_split\n",
    "    X_train, X_test, Y_train, Y_test = train_test_split(X,\n",
    "                                                    Y,\n",
    "                                                    test_size=0.2,\n",
    "                                                    random_state=10)\n",
    "    return X_train, X_test, Y_train, Y_test"
   ]
  },
  {
   "cell_type": "code",
   "execution_count": 7,
   "metadata": {},
   "outputs": [],
   "source": [
    "def test_evaluation(model, X_test, y_test):\n",
    "    from sklearn.metrics import classification_report\n",
    "    \n",
    "    # evaluación en test del modelo\n",
    "    y_test_pred = model.predict(X_test)\n",
    "    print(classification_report(y_test, y_test_pred))"
   ]
  },
  {
   "cell_type": "code",
   "execution_count": 8,
   "metadata": {},
   "outputs": [],
   "source": [
    "from sklearn.svm import SVC\n",
    "from sklearn.model_selection import cross_val_score\n",
    "from sklearn.neural_network import MLPClassifier\n",
    "from sklearn.pipeline import Pipeline\n",
    "from sklearn.preprocessing import StandardScaler\n",
    "from sklearn.model_selection import KFold\n",
    "\n",
    "from sklearn.ensemble import RandomForestClassifier\n",
    "from sklearn.datasets import make_classification"
   ]
  },
  {
   "cell_type": "code",
   "execution_count": 9,
   "metadata": {},
   "outputs": [],
   "source": [
    "# crear un iterador de CV para estandarizar los entrenamientos\n",
    "# 5-fold cross-validation\n",
    "kf = KFold(n_splits=5, random_state=0)"
   ]
  },
  {
   "cell_type": "markdown",
   "metadata": {},
   "source": [
    "**Random Forest - empresa**\n",
    "- bajo rendimiento"
   ]
  },
  {
   "cell_type": "code",
   "execution_count": 10,
   "metadata": {
    "scrolled": true
   },
   "outputs": [
    {
     "name": "stdout",
     "output_type": "stream",
     "text": [
      "0.776 +- 0.091\n"
     ]
    }
   ],
   "source": [
    "# optimización de hiperparámetros utilizando cross-validation\n",
    "\n",
    "# MODELO: RF\n",
    "# VARIABLES DE ENTRADA: empresa\n",
    "# HYPERPARÁMETROS ÓPTIMOS: \n",
    "\n",
    "clf = RandomForestClassifier(n_estimators=100,\n",
    "                             random_state=0\n",
    "                             )\n",
    "\n",
    "X = np.concatenate([TF_Todas], axis=1)\n",
    "X_train, X_test, Y_train, Y_test = train_test_80_20(X, y)\n",
    "\n",
    "scores = cross_val_score(clf, X_train, Y_train, \n",
    "                         cv=kf,\n",
    "                         scoring=\"f1\"\n",
    "                        )\n",
    "\n",
    "print(f\"{scores.mean():.3f} +- {scores.std():.3f}\")"
   ]
  },
  {
   "cell_type": "code",
   "execution_count": 11,
   "metadata": {},
   "outputs": [
    {
     "name": "stdout",
     "output_type": "stream",
     "text": [
      "CPU times: user 2 µs, sys: 1 µs, total: 3 µs\n",
      "Wall time: 3.81 µs\n"
     ]
    },
    {
     "data": {
      "text/plain": [
       "RandomForestClassifier(random_state=0)"
      ]
     },
     "execution_count": 11,
     "metadata": {},
     "output_type": "execute_result"
    }
   ],
   "source": [
    "%time # pa que aprendas\n",
    "\n",
    "# enternar el modelo con todos los datos de entrenamiento\n",
    "clf.fit(X_train, Y_train)"
   ]
  },
  {
   "cell_type": "code",
   "execution_count": 12,
   "metadata": {
    "scrolled": true
   },
   "outputs": [
    {
     "name": "stdout",
     "output_type": "stream",
     "text": [
      "              precision    recall  f1-score   support\n",
      "\n",
      "           0       0.89      0.55      0.68        31\n",
      "           1       0.63      0.92      0.75        26\n",
      "\n",
      "    accuracy                           0.72        57\n",
      "   macro avg       0.76      0.74      0.71        57\n",
      "weighted avg       0.77      0.72      0.71        57\n",
      "\n"
     ]
    }
   ],
   "source": [
    "# solo usar cuando ya hayas terminado lo de arriba\n",
    "test_evaluation(clf, X_test, Y_test)"
   ]
  },
  {
   "cell_type": "markdown",
   "metadata": {},
   "source": [
    "**Random Forest - normas**"
   ]
  },
  {
   "cell_type": "code",
   "execution_count": 13,
   "metadata": {},
   "outputs": [
    {
     "name": "stdout",
     "output_type": "stream",
     "text": [
      "0.690 +- 0.063\n"
     ]
    }
   ],
   "source": [
    "# optimización de hiperparámetros utilizando cross-validation\n",
    "\n",
    "# MODELO: RF\n",
    "# VARIABLES DE ENTRADA: normas\n",
    "# HYPERPARÁMETROS ÓPTIMOS: \n",
    "\n",
    "clf = RandomForestClassifier(n_estimators=100, random_state=0)\n",
    "\n",
    "X = np.concatenate([normas_numpy], axis=1)\n",
    "X_train, X_test, Y_train, Y_test = train_test_80_20(X, y)\n",
    "\n",
    "scores = cross_val_score(clf, X_train, Y_train, \n",
    "                         cv=kf,\n",
    "                         scoring=\"f1\"\n",
    "                        )\n",
    "\n",
    "print(f\"{scores.mean():.3f} +- {scores.std():.3f}\")"
   ]
  },
  {
   "cell_type": "code",
   "execution_count": 14,
   "metadata": {},
   "outputs": [
    {
     "name": "stdout",
     "output_type": "stream",
     "text": [
      "CPU times: user 2 µs, sys: 1e+03 ns, total: 3 µs\n",
      "Wall time: 4.05 µs\n",
      "              precision    recall  f1-score   support\n",
      "\n",
      "           0       0.79      0.48      0.60        31\n",
      "           1       0.58      0.85      0.69        26\n",
      "\n",
      "    accuracy                           0.65        57\n",
      "   macro avg       0.68      0.67      0.64        57\n",
      "weighted avg       0.69      0.65      0.64        57\n",
      "\n"
     ]
    }
   ],
   "source": [
    "%time\n",
    "# enternar el modelo con todos los datos de entrenamiento\n",
    "clf.fit(X_train, Y_train)\n",
    "\n",
    "# solo usar cuando ya hayas terminado lo de arriba\n",
    "test_evaluation(clf, X_test, Y_test)"
   ]
  },
  {
   "cell_type": "markdown",
   "metadata": {},
   "source": [
    "**Random Forest - criterios aplicables (TF-IDF)**"
   ]
  },
  {
   "cell_type": "code",
   "execution_count": 17,
   "metadata": {},
   "outputs": [
    {
     "name": "stdout",
     "output_type": "stream",
     "text": [
      "0.783 +- 0.060\n"
     ]
    }
   ],
   "source": [
    "# optimización de hiperparámetros utilizando cross-validation\n",
    "\n",
    "# MODELO: RF\n",
    "# VARIABLES DE ENTRADA: CA (TF-IDF)\n",
    "# HYPERPARÁMETROS ÓPTIMOS: \n",
    "\n",
    "clf = RandomForestClassifier(n_estimators=100, random_state=0)\n",
    "\n",
    "X = np.concatenate([CA_TFIDF], axis=1)\n",
    "X_train, X_test, Y_train, Y_test = train_test_80_20(X, y)\n",
    "\n",
    "scores = cross_val_score(clf, X_train, Y_train, \n",
    "                         cv=kf,\n",
    "                         scoring=\"f1\"\n",
    "                        )\n",
    "\n",
    "print(f\"{scores.mean():.3f} +- {scores.std():.3f}\")"
   ]
  },
  {
   "cell_type": "code",
   "execution_count": 18,
   "metadata": {},
   "outputs": [
    {
     "name": "stdout",
     "output_type": "stream",
     "text": [
      "CPU times: user 2 µs, sys: 1 µs, total: 3 µs\n",
      "Wall time: 5.01 µs\n",
      "              precision    recall  f1-score   support\n",
      "\n",
      "           0       0.81      0.55      0.65        31\n",
      "           1       0.61      0.85      0.71        26\n",
      "\n",
      "    accuracy                           0.68        57\n",
      "   macro avg       0.71      0.70      0.68        57\n",
      "weighted avg       0.72      0.68      0.68        57\n",
      "\n"
     ]
    }
   ],
   "source": [
    "%time\n",
    "# enternar el modelo con todos los datos de entrenamiento\n",
    "clf.fit(X_train, Y_train)\n",
    "\n",
    "# solo usar cuando ya hayas terminado lo de arriba\n",
    "test_evaluation(clf, X_test, Y_test)"
   ]
  },
  {
   "cell_type": "markdown",
   "metadata": {},
   "source": [
    "**Random Forest - normas + criterios aplicables (TF-IDF)**"
   ]
  },
  {
   "cell_type": "code",
   "execution_count": 21,
   "metadata": {},
   "outputs": [
    {
     "name": "stdout",
     "output_type": "stream",
     "text": [
      "0.833 +- 0.072\n"
     ]
    }
   ],
   "source": [
    "# optimización de hiperparámetros utilizando cross-validation\n",
    "\n",
    "# MODELO: RF\n",
    "# VARIABLES DE ENTRADA: CA (normas + TF-IDF)\n",
    "# HYPERPARÁMETROS ÓPTIMOS: \n",
    "\n",
    "clf = RandomForestClassifier(n_estimators=100, random_state=0)\n",
    "\n",
    "X = np.concatenate([normas_numpy, CA_TFIDF], axis=1)\n",
    "X_train, X_test, Y_train, Y_test = train_test_80_20(X, y)\n",
    "\n",
    "scores = cross_val_score(clf, X_train, Y_train, \n",
    "                         cv=kf,\n",
    "                         scoring=\"roc_auc\"\n",
    "                         )\n",
    "\n",
    "print(f\"{scores.mean():.3f} +- {scores.std():.3f}\")"
   ]
  },
  {
   "cell_type": "code",
   "execution_count": 22,
   "metadata": {},
   "outputs": [
    {
     "name": "stdout",
     "output_type": "stream",
     "text": [
      "CPU times: user 2 µs, sys: 1 µs, total: 3 µs\n",
      "Wall time: 4.05 µs\n",
      "              precision    recall  f1-score   support\n",
      "\n",
      "           0       0.83      0.65      0.73        31\n",
      "           1       0.67      0.85      0.75        26\n",
      "\n",
      "    accuracy                           0.74        57\n",
      "   macro avg       0.75      0.75      0.74        57\n",
      "weighted avg       0.76      0.74      0.74        57\n",
      "\n"
     ]
    }
   ],
   "source": [
    "%time\n",
    "# enternar el modelo con todos los datos de entrenamiento\n",
    "clf.fit(X_train, Y_train)\n",
    "\n",
    "# solo usar cuando ya hayas terminado lo de arriba\n",
    "test_evaluation(clf, X_test, Y_test)"
   ]
  },
  {
   "cell_type": "code",
   "execution_count": null,
   "metadata": {},
   "outputs": [],
   "source": []
  }
 ],
 "metadata": {
  "kernelspec": {
   "display_name": "Python 3",
   "language": "python",
   "name": "python3"
  },
  "language_info": {
   "codemirror_mode": {
    "name": "ipython",
    "version": 3
   },
   "file_extension": ".py",
   "mimetype": "text/x-python",
   "name": "python",
   "nbconvert_exporter": "python",
   "pygments_lexer": "ipython3",
   "version": "3.8.0"
  }
 },
 "nbformat": 4,
 "nbformat_minor": 4
}
