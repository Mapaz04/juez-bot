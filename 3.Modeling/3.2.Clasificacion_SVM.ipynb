{
 "cells": [
  {
   "cell_type": "code",
   "execution_count": 1,
   "metadata": {},
   "outputs": [],
   "source": [
    "##Liberias\n",
    "\n",
    "import pandas as pd\n",
    "import numpy as np\n",
    "import warnings\n",
    "warnings.filterwarnings(\"ignore\")\n",
    "import glob\n",
    "from datetime import datetime"
   ]
  },
  {
   "cell_type": "markdown",
   "metadata": {},
   "source": [
    "## 1. Datos"
   ]
  },
  {
   "cell_type": "code",
   "execution_count": 2,
   "metadata": {},
   "outputs": [],
   "source": [
    "#Normas\n",
    "\n",
    "DF_normas = pd.read_csv(\"normas_binary.csv\",index_col=\"Número de resolución\")\n",
    "\n",
    "#Tribunal\n",
    "DF_tribunal = pd.read_csv(\"tribunal_binary.csv\", index_col=\"Número de resolución\")\n",
    "\n",
    "#Empresas\n",
    "DF_empresa = pd.read_csv(\"empresa_binary.csv\", index_col=\"Número de resolución\")\n",
    "\n",
    "#TF-IDF todas\n",
    "TF_Todas = np.loadtxt(\"TF-IDF_Vectorization_Todas.csv\", delimiter=\",\")\n",
    "\n",
    "#TF-IDF criterios\n",
    "TF_Criterios = np.loadtxt(\"TF-IDF_Vectorization_Criterios.csv\", delimiter=\",\")\n",
    "\n",
    "#Word Emb criterios\n",
    "WEmb_Criterios = np.loadtxt(\"Criterios_emb.csv\", delimiter=\",\")\n"
   ]
  },
  {
   "cell_type": "code",
   "execution_count": 3,
   "metadata": {},
   "outputs": [],
   "source": [
    "y = DF_normas.iloc[:, -1].values"
   ]
  },
  {
   "cell_type": "code",
   "execution_count": 4,
   "metadata": {},
   "outputs": [],
   "source": [
    "normas_numpy = DF_normas.values[:, :-1]\n",
    "tribunal_numpy = DF_tribunal.values[:, :-1]\n",
    "empresa_numpy = DF_empresa.values[:, :-1]"
   ]
  },
  {
   "cell_type": "markdown",
   "metadata": {},
   "source": [
    "## 2. Clasificación"
   ]
  },
  {
   "cell_type": "code",
   "execution_count": 14,
   "metadata": {},
   "outputs": [],
   "source": [
    "from sklearn.model_selection import train_test_split\n",
    "from sklearn.svm import SVC\n",
    "from sklearn.model_selection import cross_val_score\n",
    "from sklearn.neural_network import MLPClassifier\n",
    "from sklearn.pipeline import Pipeline\n",
    "from sklearn.preprocessing import StandardScaler\n",
    "from sklearn.model_selection import KFold"
   ]
  },
  {
   "cell_type": "code",
   "execution_count": 15,
   "metadata": {},
   "outputs": [],
   "source": [
    "def train_test_80_20(X, Y):\n",
    "    \n",
    "    X_train, X_test, Y_train, Y_test = train_test_split(X,\n",
    "                                                    Y,\n",
    "                                                    test_size=0.2,\n",
    "                                                    random_state=10)\n",
    "    return X_train, X_test, Y_train, Y_test"
   ]
  },
  {
   "cell_type": "code",
   "execution_count": 16,
   "metadata": {},
   "outputs": [],
   "source": [
    "def test_evaluation(model, X_test, y_test):\n",
    "    from sklearn.metrics import classification_report\n",
    "    \n",
    "    # evaluación en test del modelo\n",
    "    y_test_pred = model.predict(X_test)\n",
    "    print(classification_report(y_test, y_test_pred))"
   ]
  },
  {
   "cell_type": "markdown",
   "metadata": {},
   "source": [
    "### 2.1. SVM"
   ]
  },
  {
   "cell_type": "code",
   "execution_count": 17,
   "metadata": {},
   "outputs": [],
   "source": [
    "# 5-fold cross-validation\n",
    "kf = KFold(n_splits=5,random_state=0)"
   ]
  },
  {
   "cell_type": "code",
   "execution_count": 9,
   "metadata": {},
   "outputs": [
    {
     "name": "stdout",
     "output_type": "stream",
     "text": [
      "now = 18:53:59.043833\n"
     ]
    }
   ],
   "source": [
    "now = datetime.now().time()\n",
    "print(\"now =\", now)"
   ]
  },
  {
   "cell_type": "code",
   "execution_count": 10,
   "metadata": {},
   "outputs": [
    {
     "name": "stdout",
     "output_type": "stream",
     "text": [
      "0.783 +- 0.078\n"
     ]
    }
   ],
   "source": [
    "# optimización de hiperparámetros utilizando cross-validation\n",
    "\n",
    "# MODELO: svm\n",
    "# VARIABLES DE ENTRADA: criterios aplicables(TF-IDF)\n",
    "# HYPERPARÁMETROS ÓPTIMOS: C=10, ..\n",
    "\n",
    "pipeline = Pipeline([\n",
    "    (\"clf\", SVC(kernel='rbf', C=1))\n",
    "])\n",
    "\n",
    "X = np.concatenate([TF_Todas], axis=1)\n",
    "X_train, X_test, Y_train, Y_test = train_test_80_20(X, y)\n",
    "\n",
    "scores = cross_val_score(pipeline, X_train, Y_train, \n",
    "                         cv=kf,\n",
    "                         scoring=\"roc_auc\"\n",
    "                        )\n",
    "\n",
    "print(f\"{scores.mean():.3f} +- {scores.std():.3f}\")"
   ]
  },
  {
   "cell_type": "code",
   "execution_count": 11,
   "metadata": {},
   "outputs": [
    {
     "data": {
      "text/plain": [
       "Pipeline(steps=[('clf', SVC(C=1))])"
      ]
     },
     "execution_count": 11,
     "metadata": {},
     "output_type": "execute_result"
    }
   ],
   "source": [
    "pipeline.fit(X_train,Y_train)"
   ]
  },
  {
   "cell_type": "code",
   "execution_count": 12,
   "metadata": {
    "scrolled": true
   },
   "outputs": [
    {
     "name": "stdout",
     "output_type": "stream",
     "text": [
      "              precision    recall  f1-score   support\n",
      "\n",
      "           0       0.94      0.48      0.64        31\n",
      "           1       0.61      0.96      0.75        26\n",
      "\n",
      "    accuracy                           0.70        57\n",
      "   macro avg       0.77      0.72      0.69        57\n",
      "weighted avg       0.79      0.70      0.69        57\n",
      "\n"
     ]
    }
   ],
   "source": [
    "test_evaluation(pipeline, X_test, Y_test)"
   ]
  },
  {
   "cell_type": "code",
   "execution_count": 13,
   "metadata": {},
   "outputs": [
    {
     "name": "stdout",
     "output_type": "stream",
     "text": [
      "now = 18:53:59.134054\n"
     ]
    }
   ],
   "source": [
    "now = datetime.now().time()\n",
    "print(\"now =\", now)"
   ]
  },
  {
   "cell_type": "code",
   "execution_count": null,
   "metadata": {},
   "outputs": [],
   "source": []
  },
  {
   "cell_type": "code",
   "execution_count": null,
   "metadata": {},
   "outputs": [],
   "source": []
  },
  {
   "cell_type": "code",
   "execution_count": null,
   "metadata": {},
   "outputs": [],
   "source": []
  },
  {
   "cell_type": "code",
   "execution_count": null,
   "metadata": {},
   "outputs": [],
   "source": []
  },
  {
   "cell_type": "code",
   "execution_count": null,
   "metadata": {},
   "outputs": [],
   "source": []
  }
 ],
 "metadata": {
  "kernelspec": {
   "display_name": "Python 3",
   "language": "python",
   "name": "python3"
  },
  "language_info": {
   "codemirror_mode": {
    "name": "ipython",
    "version": 3
   },
   "file_extension": ".py",
   "mimetype": "text/x-python",
   "name": "python",
   "nbconvert_exporter": "python",
   "pygments_lexer": "ipython3",
   "version": "3.8.0"
  }
 },
 "nbformat": 4,
 "nbformat_minor": 4
}
