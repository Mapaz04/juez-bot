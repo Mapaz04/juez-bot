{
 "cells": [
  {
   "cell_type": "code",
   "execution_count": 1,
   "metadata": {},
   "outputs": [],
   "source": [
    "##Liberias\n",
    "\n",
    "import pandas as pd\n",
    "import numpy as np\n",
    "import warnings\n",
    "warnings.filterwarnings(\"ignore\")\n",
    "import glob"
   ]
  },
  {
   "cell_type": "code",
   "execution_count": 2,
   "metadata": {},
   "outputs": [],
   "source": [
    "import tensorflow as tf\n",
    "from keras import layers\n",
    "import keras\n",
    "from datetime import datetime\n",
    "from sklearn.metrics import accuracy_score,classification_report"
   ]
  },
  {
   "cell_type": "markdown",
   "metadata": {},
   "source": [
    "## 1. Datos"
   ]
  },
  {
   "cell_type": "code",
   "execution_count": 3,
   "metadata": {},
   "outputs": [],
   "source": [
    "#Normas\n",
    "DF_normas = pd.read_csv(\"normas_binary.csv\",index_col=\"Número de resolución\")\n",
    "\n",
    "#Tribunal\n",
    "DF_tribunal = pd.read_csv(\"tribunal_binary.csv\", index_col=\"Número de resolución\")\n",
    "\n",
    "#Empresas\n",
    "DF_empresa = pd.read_csv(\"empresa_binary.csv\", index_col=\"Número de resolución\")\n",
    "\n",
    "#TF-IDF todas\n",
    "TF_Todas = np.loadtxt(\"TF-IDF_Vectorization_Todas.csv\", delimiter=\",\")\n",
    "\n",
    "#TF-IDF criterios\n",
    "TF_Criterios = np.loadtxt(\"TF-IDF_Vectorization_Criterios.csv\", delimiter=\",\")\n",
    "\n",
    "#Word Emb criterios\n",
    "WEmb_Criterios = np.loadtxt(\"Criterios_emb.csv\", delimiter=\",\")\n"
   ]
  },
  {
   "cell_type": "code",
   "execution_count": 4,
   "metadata": {},
   "outputs": [],
   "source": [
    "normas_numpy = DF_normas.values[:, :-1]\n",
    "tribunal_numpy = DF_tribunal.values[:, :-1]\n",
    "empresa_numpy = DF_empresa.values[:, :-1]"
   ]
  },
  {
   "cell_type": "code",
   "execution_count": 26,
   "metadata": {},
   "outputs": [],
   "source": [
    "miguel = np.concatenate([TF_Todas], axis=1)"
   ]
  },
  {
   "cell_type": "code",
   "execution_count": 27,
   "metadata": {},
   "outputs": [
    {
     "data": {
      "text/plain": [
       "(283, 100)"
      ]
     },
     "execution_count": 27,
     "metadata": {},
     "output_type": "execute_result"
    }
   ],
   "source": [
    "miguel.shape"
   ]
  },
  {
   "cell_type": "code",
   "execution_count": 5,
   "metadata": {},
   "outputs": [],
   "source": [
    "y = DF_normas.iloc[:, -1].values"
   ]
  },
  {
   "cell_type": "markdown",
   "metadata": {},
   "source": [
    "## 2. Clasificación"
   ]
  },
  {
   "cell_type": "markdown",
   "metadata": {},
   "source": [
    "#### Separando Train/Test (80%/20%)"
   ]
  },
  {
   "cell_type": "code",
   "execution_count": 6,
   "metadata": {},
   "outputs": [],
   "source": [
    "from sklearn.model_selection import train_test_split\n",
    "from sklearn.svm import SVC\n",
    "from sklearn.model_selection import cross_val_score\n",
    "from sklearn.neural_network import MLPClassifier\n",
    "from sklearn.pipeline import Pipeline\n",
    "from sklearn.preprocessing import StandardScaler\n",
    "from sklearn.model_selection import KFold"
   ]
  },
  {
   "cell_type": "code",
   "execution_count": 7,
   "metadata": {},
   "outputs": [],
   "source": [
    "def train_test_80_20(X, Y):\n",
    "    \n",
    "    X_train, X_test, Y_train, Y_test = train_test_split(X,\n",
    "                                                    Y,\n",
    "                                                    test_size=0.2,\n",
    "                                                    random_state=10)\n",
    "    return X_train, X_test, Y_train, Y_test"
   ]
  },
  {
   "cell_type": "code",
   "execution_count": 8,
   "metadata": {},
   "outputs": [],
   "source": [
    "X = np.concatenate([TF_Todas], axis=1)\n",
    "X_train, X_test, Y_train, Y_test = (train_test_80_20(X,y))"
   ]
  },
  {
   "cell_type": "code",
   "execution_count": null,
   "metadata": {},
   "outputs": [],
   "source": []
  },
  {
   "cell_type": "markdown",
   "metadata": {},
   "source": [
    "### 2.1. MLP"
   ]
  },
  {
   "cell_type": "code",
   "execution_count": 9,
   "metadata": {},
   "outputs": [
    {
     "name": "stdout",
     "output_type": "stream",
     "text": [
      "now = 22:30:16.327983\n"
     ]
    }
   ],
   "source": [
    "now = datetime.now().time()\n",
    "print(\"now =\", now)"
   ]
  },
  {
   "cell_type": "code",
   "execution_count": 10,
   "metadata": {},
   "outputs": [],
   "source": [
    "### MLP 2 PARA TODO\n",
    "\n",
    "modeloMLP = tf.keras.Sequential()\n",
    "\n",
    "#MLP 3 capas ocultas\n",
    "modeloMLP.add(layers.Dense(4,activation='relu'))\n",
    "\n",
    "#salida\n",
    "modeloMLP.add(layers.Dense(units=1, activation='sigmoid'))"
   ]
  },
  {
   "cell_type": "code",
   "execution_count": 11,
   "metadata": {},
   "outputs": [],
   "source": [
    "modeloMLP.compile(loss='binary_crossentropy',\n",
    "              optimizer='adam', metrics=['accuracy'])"
   ]
  },
  {
   "cell_type": "code",
   "execution_count": 12,
   "metadata": {},
   "outputs": [],
   "source": [
    "## Datos ##"
   ]
  },
  {
   "cell_type": "code",
   "execution_count": 13,
   "metadata": {
    "scrolled": true
   },
   "outputs": [
    {
     "name": "stdout",
     "output_type": "stream",
     "text": [
      "Epoch 1/100\n",
      "8/8 [==============================] - 0s 778us/step - loss: 0.6926 - accuracy: 0.5442\n",
      "Epoch 2/100\n",
      "8/8 [==============================] - 0s 750us/step - loss: 0.6886 - accuracy: 0.5708\n",
      "Epoch 3/100\n",
      "8/8 [==============================] - 0s 897us/step - loss: 0.6860 - accuracy: 0.6283\n",
      "Epoch 4/100\n",
      "8/8 [==============================] - 0s 953us/step - loss: 0.6831 - accuracy: 0.6327\n",
      "Epoch 5/100\n",
      "8/8 [==============================] - 0s 823us/step - loss: 0.6806 - accuracy: 0.6106\n",
      "Epoch 6/100\n",
      "8/8 [==============================] - 0s 1ms/step - loss: 0.6776 - accuracy: 0.6239\n",
      "Epoch 7/100\n",
      "8/8 [==============================] - 0s 1ms/step - loss: 0.6751 - accuracy: 0.6150\n",
      "Epoch 8/100\n",
      "8/8 [==============================] - 0s 1ms/step - loss: 0.6722 - accuracy: 0.6150\n",
      "Epoch 9/100\n",
      "8/8 [==============================] - 0s 810us/step - loss: 0.6699 - accuracy: 0.6150\n",
      "Epoch 10/100\n",
      "8/8 [==============================] - 0s 754us/step - loss: 0.6677 - accuracy: 0.6150\n",
      "Epoch 11/100\n",
      "8/8 [==============================] - 0s 1ms/step - loss: 0.6652 - accuracy: 0.6018\n",
      "Epoch 12/100\n",
      "8/8 [==============================] - 0s 1ms/step - loss: 0.6633 - accuracy: 0.5973\n",
      "Epoch 13/100\n",
      "8/8 [==============================] - 0s 913us/step - loss: 0.6612 - accuracy: 0.6018\n",
      "Epoch 14/100\n",
      "8/8 [==============================] - 0s 694us/step - loss: 0.6584 - accuracy: 0.6018\n",
      "Epoch 15/100\n",
      "8/8 [==============================] - 0s 1ms/step - loss: 0.6564 - accuracy: 0.6018\n",
      "Epoch 16/100\n",
      "8/8 [==============================] - 0s 974us/step - loss: 0.6541 - accuracy: 0.6018\n",
      "Epoch 17/100\n",
      "8/8 [==============================] - 0s 707us/step - loss: 0.6520 - accuracy: 0.6062\n",
      "Epoch 18/100\n",
      "8/8 [==============================] - 0s 818us/step - loss: 0.6498 - accuracy: 0.6150\n",
      "Epoch 19/100\n",
      "8/8 [==============================] - 0s 793us/step - loss: 0.6478 - accuracy: 0.6195\n",
      "Epoch 20/100\n",
      "8/8 [==============================] - 0s 813us/step - loss: 0.6457 - accuracy: 0.6239\n",
      "Epoch 21/100\n",
      "8/8 [==============================] - 0s 800us/step - loss: 0.6435 - accuracy: 0.6283\n",
      "Epoch 22/100\n",
      "8/8 [==============================] - 0s 1ms/step - loss: 0.6417 - accuracy: 0.6283\n",
      "Epoch 23/100\n",
      "8/8 [==============================] - 0s 912us/step - loss: 0.6394 - accuracy: 0.6372\n",
      "Epoch 24/100\n",
      "8/8 [==============================] - 0s 974us/step - loss: 0.6377 - accuracy: 0.6416\n",
      "Epoch 25/100\n",
      "8/8 [==============================] - 0s 966us/step - loss: 0.6362 - accuracy: 0.6504\n",
      "Epoch 26/100\n",
      "8/8 [==============================] - 0s 2ms/step - loss: 0.6344 - accuracy: 0.6504\n",
      "Epoch 27/100\n",
      "8/8 [==============================] - 0s 1ms/step - loss: 0.6326 - accuracy: 0.6504\n",
      "Epoch 28/100\n",
      "8/8 [==============================] - 0s 1ms/step - loss: 0.6308 - accuracy: 0.6593\n",
      "Epoch 29/100\n",
      "8/8 [==============================] - 0s 1ms/step - loss: 0.6288 - accuracy: 0.6681\n",
      "Epoch 30/100\n",
      "8/8 [==============================] - 0s 906us/step - loss: 0.6271 - accuracy: 0.6593\n",
      "Epoch 31/100\n",
      "8/8 [==============================] - 0s 1ms/step - loss: 0.6253 - accuracy: 0.6681\n",
      "Epoch 32/100\n",
      "8/8 [==============================] - 0s 1ms/step - loss: 0.6233 - accuracy: 0.6814\n",
      "Epoch 33/100\n",
      "8/8 [==============================] - 0s 1ms/step - loss: 0.6214 - accuracy: 0.6903\n",
      "Epoch 34/100\n",
      "8/8 [==============================] - 0s 979us/step - loss: 0.6196 - accuracy: 0.6858\n",
      "Epoch 35/100\n",
      "8/8 [==============================] - 0s 1ms/step - loss: 0.6180 - accuracy: 0.6770\n",
      "Epoch 36/100\n",
      "8/8 [==============================] - 0s 1ms/step - loss: 0.6161 - accuracy: 0.6947\n",
      "Epoch 37/100\n",
      "8/8 [==============================] - 0s 1ms/step - loss: 0.6142 - accuracy: 0.6947\n",
      "Epoch 38/100\n",
      "8/8 [==============================] - 0s 860us/step - loss: 0.6122 - accuracy: 0.7035\n",
      "Epoch 39/100\n",
      "8/8 [==============================] - 0s 1ms/step - loss: 0.6101 - accuracy: 0.7035\n",
      "Epoch 40/100\n",
      "8/8 [==============================] - 0s 802us/step - loss: 0.6086 - accuracy: 0.7168\n",
      "Epoch 41/100\n",
      "8/8 [==============================] - 0s 1ms/step - loss: 0.6069 - accuracy: 0.7212\n",
      "Epoch 42/100\n",
      "8/8 [==============================] - 0s 1ms/step - loss: 0.6053 - accuracy: 0.7257\n",
      "Epoch 43/100\n",
      "8/8 [==============================] - 0s 820us/step - loss: 0.6039 - accuracy: 0.7257\n",
      "Epoch 44/100\n",
      "8/8 [==============================] - 0s 922us/step - loss: 0.6018 - accuracy: 0.7257\n",
      "Epoch 45/100\n",
      "8/8 [==============================] - 0s 990us/step - loss: 0.6001 - accuracy: 0.7257\n",
      "Epoch 46/100\n",
      "8/8 [==============================] - 0s 970us/step - loss: 0.5978 - accuracy: 0.7301\n",
      "Epoch 47/100\n",
      "8/8 [==============================] - 0s 982us/step - loss: 0.5958 - accuracy: 0.7389\n",
      "Epoch 48/100\n",
      "8/8 [==============================] - 0s 948us/step - loss: 0.5938 - accuracy: 0.7434\n",
      "Epoch 49/100\n",
      "8/8 [==============================] - 0s 989us/step - loss: 0.5920 - accuracy: 0.7478\n",
      "Epoch 50/100\n",
      "8/8 [==============================] - 0s 953us/step - loss: 0.5897 - accuracy: 0.7566\n",
      "Epoch 51/100\n",
      "8/8 [==============================] - 0s 1ms/step - loss: 0.5878 - accuracy: 0.7655\n",
      "Epoch 52/100\n",
      "8/8 [==============================] - 0s 1ms/step - loss: 0.5863 - accuracy: 0.7611\n",
      "Epoch 53/100\n",
      "8/8 [==============================] - 0s 1ms/step - loss: 0.5847 - accuracy: 0.7655\n",
      "Epoch 54/100\n",
      "8/8 [==============================] - 0s 1ms/step - loss: 0.5830 - accuracy: 0.7699\n",
      "Epoch 55/100\n",
      "8/8 [==============================] - 0s 965us/step - loss: 0.5810 - accuracy: 0.7743\n",
      "Epoch 56/100\n",
      "8/8 [==============================] - 0s 1ms/step - loss: 0.5789 - accuracy: 0.7699\n",
      "Epoch 57/100\n",
      "8/8 [==============================] - 0s 873us/step - loss: 0.5770 - accuracy: 0.7699\n",
      "Epoch 58/100\n",
      "8/8 [==============================] - 0s 922us/step - loss: 0.5753 - accuracy: 0.7699\n",
      "Epoch 59/100\n",
      "8/8 [==============================] - 0s 925us/step - loss: 0.5739 - accuracy: 0.7611\n",
      "Epoch 60/100\n",
      "8/8 [==============================] - 0s 686us/step - loss: 0.5718 - accuracy: 0.7832\n",
      "Epoch 61/100\n",
      "8/8 [==============================] - 0s 928us/step - loss: 0.5703 - accuracy: 0.7920\n",
      "Epoch 62/100\n",
      "8/8 [==============================] - 0s 645us/step - loss: 0.5688 - accuracy: 0.7920\n",
      "Epoch 63/100\n",
      "8/8 [==============================] - 0s 995us/step - loss: 0.5671 - accuracy: 0.7920\n",
      "Epoch 64/100\n",
      "8/8 [==============================] - 0s 890us/step - loss: 0.5651 - accuracy: 0.7920\n",
      "Epoch 65/100\n",
      "8/8 [==============================] - 0s 1ms/step - loss: 0.5633 - accuracy: 0.7965\n",
      "Epoch 66/100\n",
      "8/8 [==============================] - 0s 1ms/step - loss: 0.5615 - accuracy: 0.7965\n",
      "Epoch 67/100\n",
      "8/8 [==============================] - 0s 1ms/step - loss: 0.5600 - accuracy: 0.8009\n",
      "Epoch 68/100\n",
      "8/8 [==============================] - 0s 1ms/step - loss: 0.5585 - accuracy: 0.7920\n",
      "Epoch 69/100\n",
      "8/8 [==============================] - 0s 915us/step - loss: 0.5575 - accuracy: 0.7876\n",
      "Epoch 70/100\n",
      "8/8 [==============================] - 0s 747us/step - loss: 0.5565 - accuracy: 0.7920\n",
      "Epoch 71/100\n",
      "8/8 [==============================] - 0s 1ms/step - loss: 0.5544 - accuracy: 0.7920\n",
      "Epoch 72/100\n",
      "8/8 [==============================] - 0s 893us/step - loss: 0.5517 - accuracy: 0.7920\n",
      "Epoch 73/100\n",
      "8/8 [==============================] - 0s 1ms/step - loss: 0.5493 - accuracy: 0.7965\n",
      "Epoch 74/100\n",
      "8/8 [==============================] - 0s 978us/step - loss: 0.5477 - accuracy: 0.7920\n",
      "Epoch 75/100\n",
      "8/8 [==============================] - 0s 853us/step - loss: 0.5458 - accuracy: 0.7965\n",
      "Epoch 76/100\n",
      "8/8 [==============================] - 0s 913us/step - loss: 0.5441 - accuracy: 0.7965\n",
      "Epoch 77/100\n",
      "8/8 [==============================] - 0s 897us/step - loss: 0.5427 - accuracy: 0.7965\n",
      "Epoch 78/100\n",
      "8/8 [==============================] - 0s 764us/step - loss: 0.5415 - accuracy: 0.7965\n",
      "Epoch 79/100\n",
      "8/8 [==============================] - 0s 1ms/step - loss: 0.5402 - accuracy: 0.8009\n",
      "Epoch 80/100\n",
      "8/8 [==============================] - 0s 974us/step - loss: 0.5390 - accuracy: 0.8009\n",
      "Epoch 81/100\n",
      "8/8 [==============================] - 0s 850us/step - loss: 0.5377 - accuracy: 0.8009\n",
      "Epoch 82/100\n",
      "8/8 [==============================] - 0s 1ms/step - loss: 0.5360 - accuracy: 0.7965\n",
      "Epoch 83/100\n"
     ]
    },
    {
     "name": "stdout",
     "output_type": "stream",
     "text": [
      "8/8 [==============================] - 0s 970us/step - loss: 0.5349 - accuracy: 0.8009\n",
      "Epoch 84/100\n",
      "8/8 [==============================] - 0s 1ms/step - loss: 0.5333 - accuracy: 0.7965\n",
      "Epoch 85/100\n",
      "8/8 [==============================] - 0s 807us/step - loss: 0.5315 - accuracy: 0.8009\n",
      "Epoch 86/100\n",
      "8/8 [==============================] - 0s 904us/step - loss: 0.5304 - accuracy: 0.7965\n",
      "Epoch 87/100\n",
      "8/8 [==============================] - 0s 755us/step - loss: 0.5279 - accuracy: 0.7965\n",
      "Epoch 88/100\n",
      "8/8 [==============================] - 0s 806us/step - loss: 0.5268 - accuracy: 0.7965\n",
      "Epoch 89/100\n",
      "8/8 [==============================] - 0s 823us/step - loss: 0.5254 - accuracy: 0.7965\n",
      "Epoch 90/100\n",
      "8/8 [==============================] - 0s 1ms/step - loss: 0.5242 - accuracy: 0.8009\n",
      "Epoch 91/100\n",
      "8/8 [==============================] - 0s 935us/step - loss: 0.5230 - accuracy: 0.7920\n",
      "Epoch 92/100\n",
      "8/8 [==============================] - 0s 977us/step - loss: 0.5220 - accuracy: 0.7920\n",
      "Epoch 93/100\n",
      "8/8 [==============================] - 0s 805us/step - loss: 0.5203 - accuracy: 0.7920\n",
      "Epoch 94/100\n",
      "8/8 [==============================] - 0s 782us/step - loss: 0.5190 - accuracy: 0.7920\n",
      "Epoch 95/100\n",
      "8/8 [==============================] - 0s 757us/step - loss: 0.5180 - accuracy: 0.7920\n",
      "Epoch 96/100\n",
      "8/8 [==============================] - 0s 937us/step - loss: 0.5164 - accuracy: 0.7920\n",
      "Epoch 97/100\n",
      "8/8 [==============================] - 0s 740us/step - loss: 0.5152 - accuracy: 0.7876\n",
      "Epoch 98/100\n",
      "8/8 [==============================] - 0s 979us/step - loss: 0.5140 - accuracy: 0.7876\n",
      "Epoch 99/100\n",
      "8/8 [==============================] - 0s 729us/step - loss: 0.5122 - accuracy: 0.7965\n",
      "Epoch 100/100\n",
      "8/8 [==============================] - 0s 914us/step - loss: 0.5113 - accuracy: 0.8053\n"
     ]
    },
    {
     "data": {
      "text/plain": [
       "<tensorflow.python.keras.callbacks.History at 0x7f80bb8e70a0>"
      ]
     },
     "execution_count": 13,
     "metadata": {},
     "output_type": "execute_result"
    }
   ],
   "source": [
    "modeloMLP.fit(X_train, Y_train,epochs=100)"
   ]
  },
  {
   "cell_type": "code",
   "execution_count": 14,
   "metadata": {},
   "outputs": [],
   "source": [
    "Y_pred = modeloMLP.predict(X_test)"
   ]
  },
  {
   "cell_type": "code",
   "execution_count": 15,
   "metadata": {},
   "outputs": [],
   "source": [
    "def umbral(prob):\n",
    "    boleano = np.where((prob> 0.60) ,1, 0)\n",
    "    return boleano"
   ]
  },
  {
   "cell_type": "code",
   "execution_count": 16,
   "metadata": {},
   "outputs": [],
   "source": [
    "Y_pred_bin = []\n",
    "\n",
    "for i in range(len(Y_pred)):\n",
    "    Y_pred_bin.append(umbral(Y_pred[i]))"
   ]
  },
  {
   "cell_type": "code",
   "execution_count": 17,
   "metadata": {},
   "outputs": [],
   "source": [
    "Y_pred_bin = np.array(Y_pred_bin)"
   ]
  },
  {
   "cell_type": "code",
   "execution_count": 18,
   "metadata": {
    "scrolled": true
   },
   "outputs": [
    {
     "data": {
      "text/plain": [
       "0.7017543859649122"
      ]
     },
     "execution_count": 18,
     "metadata": {},
     "output_type": "execute_result"
    }
   ],
   "source": [
    "accuracy_score(Y_test, Y_pred_bin)"
   ]
  },
  {
   "cell_type": "code",
   "execution_count": 19,
   "metadata": {},
   "outputs": [
    {
     "name": "stdout",
     "output_type": "stream",
     "text": [
      "              precision    recall  f1-score   support\n",
      "\n",
      "           0       0.77      0.65      0.70        31\n",
      "           1       0.65      0.77      0.70        26\n",
      "\n",
      "    accuracy                           0.70        57\n",
      "   macro avg       0.71      0.71      0.70        57\n",
      "weighted avg       0.71      0.70      0.70        57\n",
      "\n"
     ]
    }
   ],
   "source": [
    "print(classification_report(Y_test, Y_pred_bin))"
   ]
  },
  {
   "cell_type": "code",
   "execution_count": 20,
   "metadata": {},
   "outputs": [
    {
     "name": "stdout",
     "output_type": "stream",
     "text": [
      "now = 22:30:18.248228\n"
     ]
    }
   ],
   "source": [
    "now = datetime.now().time()\n",
    "print(\"now =\", now)"
   ]
  },
  {
   "cell_type": "code",
   "execution_count": null,
   "metadata": {},
   "outputs": [],
   "source": []
  },
  {
   "cell_type": "code",
   "execution_count": null,
   "metadata": {},
   "outputs": [],
   "source": []
  },
  {
   "cell_type": "code",
   "execution_count": null,
   "metadata": {},
   "outputs": [],
   "source": []
  },
  {
   "cell_type": "code",
   "execution_count": null,
   "metadata": {},
   "outputs": [],
   "source": []
  },
  {
   "cell_type": "code",
   "execution_count": null,
   "metadata": {},
   "outputs": [],
   "source": []
  },
  {
   "cell_type": "code",
   "execution_count": null,
   "metadata": {},
   "outputs": [],
   "source": []
  },
  {
   "cell_type": "code",
   "execution_count": null,
   "metadata": {},
   "outputs": [],
   "source": []
  },
  {
   "cell_type": "code",
   "execution_count": null,
   "metadata": {},
   "outputs": [],
   "source": []
  },
  {
   "cell_type": "code",
   "execution_count": null,
   "metadata": {},
   "outputs": [],
   "source": []
  }
 ],
 "metadata": {
  "kernelspec": {
   "display_name": "Python 3",
   "language": "python",
   "name": "python3"
  },
  "language_info": {
   "codemirror_mode": {
    "name": "ipython",
    "version": 3
   },
   "file_extension": ".py",
   "mimetype": "text/x-python",
   "name": "python",
   "nbconvert_exporter": "python",
   "pygments_lexer": "ipython3",
   "version": "3.8.0"
  }
 },
 "nbformat": 4,
 "nbformat_minor": 4
}
