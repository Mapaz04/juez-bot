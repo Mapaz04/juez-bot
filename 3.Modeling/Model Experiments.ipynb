{
 "cells": [
  {
   "cell_type": "code",
   "execution_count": 1,
   "metadata": {},
   "outputs": [],
   "source": [
    "import pandas as pd"
   ]
  },
  {
   "cell_type": "code",
   "execution_count": 142,
   "metadata": {},
   "outputs": [],
   "source": [
    "df_cargos_desc = pd.read_excel(\"cargos, variables original.xlsx\", sheet_name=0)\n",
    "cargos_list = list(df_cargos_desc[\"CÓDIGO\"])\n",
    "#cargos_list"
   ]
  },
  {
   "cell_type": "code",
   "execution_count": 2,
   "metadata": {},
   "outputs": [
    {
     "name": "stdout",
     "output_type": "stream",
     "text": [
      "<class 'pandas.core.frame.DataFrame'>\n",
      "Int64Index: 250 entries, 0 to 249\n",
      "Data columns (total 19 columns):\n",
      " #   Column                       Non-Null Count  Dtype  \n",
      "---  ------                       --------------  -----  \n",
      " 0   id_resol                     250 non-null    object \n",
      " 1   año                          250 non-null    float64\n",
      " 2   cargos                       250 non-null    object \n",
      " 3   códigos                      245 non-null    object \n",
      " 4   Año                          250 non-null    int64  \n",
      " 5   Categoría                    250 non-null    object \n",
      " 6   Materia                      250 non-null    object \n",
      " 7   Empresa denunciada           250 non-null    object \n",
      " 8   Criterios aplicables         250 non-null    object \n",
      " 9   Medios probatoriosCargo      250 non-null    object \n",
      " 10  Medios probatorios Descargo  250 non-null    object \n",
      " 11  Cuestiones                   250 non-null    object \n",
      " 12  Normativa                    250 non-null    object \n",
      " 13  Multas                       250 non-null    object \n",
      " 14  Medidas correctivas          250 non-null    object \n",
      " 15  Configuración del Tribunal   250 non-null    object \n",
      " 16  Decisión                     250 non-null    int64  \n",
      " 17  dec_fav_denunciante          250 non-null    int64  \n",
      " 18  cargos limpio                250 non-null    object \n",
      "dtypes: float64(1), int64(3), object(15)\n",
      "memory usage: 39.1+ KB\n"
     ]
    }
   ],
   "source": [
    "data = pd.read_csv(\"total_data_clean.csv\", index_col=0)\n",
    "data.info()"
   ]
  },
  {
   "cell_type": "code",
   "execution_count": 3,
   "metadata": {},
   "outputs": [],
   "source": [
    "# crear lista de códigos de cargos multicategoricos\n",
    "data[\"códigos\"] = data[\"códigos\"].apply(lambda x: x.split(\",\") if isinstance(x, str) else [])"
   ]
  },
  {
   "cell_type": "code",
   "execution_count": 4,
   "metadata": {},
   "outputs": [
    {
     "data": {
      "text/html": [
       "<div>\n",
       "<style scoped>\n",
       "    .dataframe tbody tr th:only-of-type {\n",
       "        vertical-align: middle;\n",
       "    }\n",
       "\n",
       "    .dataframe tbody tr th {\n",
       "        vertical-align: top;\n",
       "    }\n",
       "\n",
       "    .dataframe thead th {\n",
       "        text-align: right;\n",
       "    }\n",
       "</style>\n",
       "<table border=\"1\" class=\"dataframe\">\n",
       "  <thead>\n",
       "    <tr style=\"text-align: right;\">\n",
       "      <th></th>\n",
       "      <th>id_resol</th>\n",
       "      <th>año</th>\n",
       "      <th>cargos</th>\n",
       "      <th>códigos</th>\n",
       "      <th>Año</th>\n",
       "      <th>Categoría</th>\n",
       "      <th>Materia</th>\n",
       "      <th>Empresa denunciada</th>\n",
       "      <th>Criterios aplicables</th>\n",
       "      <th>Medios probatoriosCargo</th>\n",
       "      <th>Medios probatorios Descargo</th>\n",
       "      <th>Cuestiones</th>\n",
       "      <th>Normativa</th>\n",
       "      <th>Multas</th>\n",
       "      <th>Medidas correctivas</th>\n",
       "      <th>Configuración del Tribunal</th>\n",
       "      <th>Decisión</th>\n",
       "      <th>dec_fav_denunciante</th>\n",
       "      <th>cargos limpio</th>\n",
       "    </tr>\n",
       "  </thead>\n",
       "  <tbody>\n",
       "    <tr>\n",
       "      <th>0</th>\n",
       "      <td>0002-2020/SPC-INDECOPI</td>\n",
       "      <td>2020.0</td>\n",
       "      <td>Luego de contratar los servicios de la denunci...</td>\n",
       "      <td>[ser1]</td>\n",
       "      <td>2020</td>\n",
       "      <td>Pérdida de equipaje</td>\n",
       "      <td>Idoneidad del servicio</td>\n",
       "      <td>EMPRESA DE TRANSPORTES TURISMO SEÑOR DE ATACO ...</td>\n",
       "      <td>\"De esta manera, al no haber quedado acreditad...</td>\n",
       "      <td>0</td>\n",
       "      <td>0</td>\n",
       "      <td>0</td>\n",
       "      <td>Ley No. 27444 Ley del Procedimiento Administra...</td>\n",
       "      <td>0</td>\n",
       "      <td>0</td>\n",
       "      <td>Javier Eduardo Raymundo Villa García Vargas Ju...</td>\n",
       "      <td>1</td>\n",
       "      <td>0</td>\n",
       "      <td>luego contratar servicios denunciada 26 octubr...</td>\n",
       "    </tr>\n",
       "    <tr>\n",
       "      <th>1</th>\n",
       "      <td>0944-2020/SPC-INDECOPI</td>\n",
       "      <td>2020.0</td>\n",
       "      <td>La empresa no habría brindado un servicio idón...</td>\n",
       "      <td>[ser3]</td>\n",
       "      <td>2020</td>\n",
       "      <td>Pérdida de equipaje</td>\n",
       "      <td>Idoneidad del servicio</td>\n",
       "      <td>EMPRESA DE TRANSPORTES Y SERVICIOS MÚLTIPLES S...</td>\n",
       "      <td>\"Dicho esto, este Colegiado considera que el f...</td>\n",
       "      <td>0</td>\n",
       "      <td>0</td>\n",
       "      <td>0</td>\n",
       "      <td>Código de Protección y Defensa del Consumidor ...</td>\n",
       "      <td>50 UIT</td>\n",
       "      <td>0</td>\n",
       "      <td>Javier Eduardo Raymundo Villa García Vargas Ro...</td>\n",
       "      <td>1</td>\n",
       "      <td>1</td>\n",
       "      <td>empresa brindado servicio idóneo ruta trujillo...</td>\n",
       "    </tr>\n",
       "    <tr>\n",
       "      <th>2</th>\n",
       "      <td>1127-2020/SPC-INDECOPI</td>\n",
       "      <td>2020.0</td>\n",
       "      <td>el bus partió con treinta (30) minutos de retr...</td>\n",
       "      <td>[ser1, ser13]</td>\n",
       "      <td>2020</td>\n",
       "      <td>Pérdida de equipaje</td>\n",
       "      <td>Idoneidad del servicio</td>\n",
       "      <td>SERVICIO Y TURISMO EXPRES VÍA NACIONAL S.A.C.</td>\n",
       "      <td>\"En tal sentido, la denunciada, en principio, ...</td>\n",
       "      <td>0</td>\n",
       "      <td>0</td>\n",
       "      <td>0</td>\n",
       "      <td>Código de Protección y Defensa del Consumidor ...</td>\n",
       "      <td>1,5 UIT</td>\n",
       "      <td>0</td>\n",
       "      <td>Javier Eduardo Raymundo Villa García Vargas Ju...</td>\n",
       "      <td>1</td>\n",
       "      <td>1</td>\n",
       "      <td>bus partió treinta 30 minutos retraso viaje bu...</td>\n",
       "    </tr>\n",
       "    <tr>\n",
       "      <th>3</th>\n",
       "      <td>1459-2019/SPC-INDECOPI</td>\n",
       "      <td>2019.0</td>\n",
       "      <td>(i) La denunciada no cumplía con redactar con ...</td>\n",
       "      <td>[o5, c3, c8]</td>\n",
       "      <td>2019</td>\n",
       "      <td>Pérdida de equipaje</td>\n",
       "      <td>Idoneidad del servicio</td>\n",
       "      <td>EMPRESA DE TRANSPORTES PERÚ BUS S.A.</td>\n",
       "      <td>\"En consecuencia, corresponde revocar la resol...</td>\n",
       "      <td>0</td>\n",
       "      <td>0</td>\n",
       "      <td>0</td>\n",
       "      <td>Código de Protección y Defensa del Consumidor ...</td>\n",
       "      <td>0</td>\n",
       "      <td>0</td>\n",
       "      <td>Javier Eduardo Raymundo Villa García Vargas Ju...</td>\n",
       "      <td>0</td>\n",
       "      <td>0</td>\n",
       "      <td>i denunciada cumplía redactar claridad sencill...</td>\n",
       "    </tr>\n",
       "    <tr>\n",
       "      <th>4</th>\n",
       "      <td>1460-2019/SPC-INDECOPI</td>\n",
       "      <td>2019.0</td>\n",
       "      <td>(i) La denunciada no cumplía con redactar con ...</td>\n",
       "      <td>[o5, c3, c8]</td>\n",
       "      <td>2019</td>\n",
       "      <td>Pérdida de equipaje</td>\n",
       "      <td>Idoneidad del servicio</td>\n",
       "      <td>TRANSPORTES SOYUZ S.A.</td>\n",
       "      <td>\"En consecuencia, corresponde revocar la resol...</td>\n",
       "      <td>0</td>\n",
       "      <td>0</td>\n",
       "      <td>0</td>\n",
       "      <td>Código de Protección y Defensa del Consumidor ...</td>\n",
       "      <td>0</td>\n",
       "      <td>0</td>\n",
       "      <td>Javier Eduardo Raymundo Villa García Vargas Ju...</td>\n",
       "      <td>0</td>\n",
       "      <td>0</td>\n",
       "      <td>i denunciada cumplía redactar claridad sencill...</td>\n",
       "    </tr>\n",
       "  </tbody>\n",
       "</table>\n",
       "</div>"
      ],
      "text/plain": [
       "                 id_resol     año  \\\n",
       "0  0002-2020/SPC-INDECOPI  2020.0   \n",
       "1  0944-2020/SPC-INDECOPI  2020.0   \n",
       "2  1127-2020/SPC-INDECOPI  2020.0   \n",
       "3  1459-2019/SPC-INDECOPI  2019.0   \n",
       "4  1460-2019/SPC-INDECOPI  2019.0   \n",
       "\n",
       "                                              cargos        códigos   Año  \\\n",
       "0  Luego de contratar los servicios de la denunci...         [ser1]  2020   \n",
       "1  La empresa no habría brindado un servicio idón...         [ser3]  2020   \n",
       "2  el bus partió con treinta (30) minutos de retr...  [ser1, ser13]  2020   \n",
       "3  (i) La denunciada no cumplía con redactar con ...   [o5, c3, c8]  2019   \n",
       "4  (i) La denunciada no cumplía con redactar con ...   [o5, c3, c8]  2019   \n",
       "\n",
       "             Categoría                 Materia  \\\n",
       "0  Pérdida de equipaje  Idoneidad del servicio   \n",
       "1  Pérdida de equipaje  Idoneidad del servicio   \n",
       "2  Pérdida de equipaje  Idoneidad del servicio   \n",
       "3  Pérdida de equipaje  Idoneidad del servicio   \n",
       "4  Pérdida de equipaje  Idoneidad del servicio   \n",
       "\n",
       "                                  Empresa denunciada  \\\n",
       "0  EMPRESA DE TRANSPORTES TURISMO SEÑOR DE ATACO ...   \n",
       "1  EMPRESA DE TRANSPORTES Y SERVICIOS MÚLTIPLES S...   \n",
       "2      SERVICIO Y TURISMO EXPRES VÍA NACIONAL S.A.C.   \n",
       "3               EMPRESA DE TRANSPORTES PERÚ BUS S.A.   \n",
       "4                             TRANSPORTES SOYUZ S.A.   \n",
       "\n",
       "                                Criterios aplicables Medios probatoriosCargo  \\\n",
       "0  \"De esta manera, al no haber quedado acreditad...                       0   \n",
       "1  \"Dicho esto, este Colegiado considera que el f...                       0   \n",
       "2  \"En tal sentido, la denunciada, en principio, ...                       0   \n",
       "3  \"En consecuencia, corresponde revocar la resol...                       0   \n",
       "4  \"En consecuencia, corresponde revocar la resol...                       0   \n",
       "\n",
       "  Medios probatorios Descargo Cuestiones  \\\n",
       "0                           0          0   \n",
       "1                           0          0   \n",
       "2                           0          0   \n",
       "3                           0          0   \n",
       "4                           0          0   \n",
       "\n",
       "                                           Normativa   Multas  \\\n",
       "0  Ley No. 27444 Ley del Procedimiento Administra...        0   \n",
       "1  Código de Protección y Defensa del Consumidor ...   50 UIT   \n",
       "2  Código de Protección y Defensa del Consumidor ...  1,5 UIT   \n",
       "3  Código de Protección y Defensa del Consumidor ...        0   \n",
       "4  Código de Protección y Defensa del Consumidor ...        0   \n",
       "\n",
       "  Medidas correctivas                         Configuración del Tribunal  \\\n",
       "0                   0  Javier Eduardo Raymundo Villa García Vargas Ju...   \n",
       "1                   0  Javier Eduardo Raymundo Villa García Vargas Ro...   \n",
       "2                   0  Javier Eduardo Raymundo Villa García Vargas Ju...   \n",
       "3                   0  Javier Eduardo Raymundo Villa García Vargas Ju...   \n",
       "4                   0  Javier Eduardo Raymundo Villa García Vargas Ju...   \n",
       "\n",
       "   Decisión  dec_fav_denunciante  \\\n",
       "0         1                    0   \n",
       "1         1                    1   \n",
       "2         1                    1   \n",
       "3         0                    0   \n",
       "4         0                    0   \n",
       "\n",
       "                                       cargos limpio  \n",
       "0  luego contratar servicios denunciada 26 octubr...  \n",
       "1  empresa brindado servicio idóneo ruta trujillo...  \n",
       "2  bus partió treinta 30 minutos retraso viaje bu...  \n",
       "3  i denunciada cumplía redactar claridad sencill...  \n",
       "4  i denunciada cumplía redactar claridad sencill...  "
      ]
     },
     "execution_count": 4,
     "metadata": {},
     "output_type": "execute_result"
    }
   ],
   "source": [
    "data.head()"
   ]
  },
  {
   "cell_type": "markdown",
   "metadata": {},
   "source": [
    "# Separación del conjunto de datos en entrenamiento y test"
   ]
  },
  {
   "cell_type": "code",
   "execution_count": 15,
   "metadata": {},
   "outputs": [
    {
     "name": "stdout",
     "output_type": "stream",
     "text": [
      "training set size:  200\n",
      "test set size:  50\n"
     ]
    }
   ],
   "source": [
    "from sklearn.model_selection import train_test_split\n",
    "\n",
    "# Separación del conjunto de datos en entrenamiento y test\n",
    "# Separar el 20% para el test\n",
    "\n",
    "X_train, X_test, Y_train, Y_test = train_test_split(data.drop(\"dec_fav_denunciante\", \n",
    "                                                            axis=1),\n",
    "                                                    data[\"dec_fav_denunciante\"],\n",
    "                                                    test_size=0.2,\n",
    "                                                    random_state=10)\n",
    "\n",
    "print(\"training set size: \", X_train.shape[0])\n",
    "print(\"test set size: \", X_test.shape[0])"
   ]
  },
  {
   "cell_type": "code",
   "execution_count": 78,
   "metadata": {},
   "outputs": [],
   "source": [
    "from sklearn.pipeline import Pipeline\n",
    "\n",
    "from sklearn.compose import ColumnTransformer\n",
    "from sklearn.preprocessing import OneHotEncoder\n",
    "\n",
    "from sklearn.feature_extraction.text import CountVectorizer\n",
    "from sklearn.feature_extraction.text import TfidfVectorizer\n",
    "from sklearn.preprocessing import MultiLabelBinarizer\n",
    "\n",
    "\n",
    "from sklearn.svm import SVC\n",
    "from sklearn.ensemble import RandomForestClassifier\n",
    "\n",
    "from sklearn.model_selection import KFold\n",
    "from sklearn.model_selection import GridSearchCV"
   ]
  },
  {
   "cell_type": "code",
   "execution_count": 31,
   "metadata": {},
   "outputs": [],
   "source": [
    "# Crear un generador de cross-validation: 5-fold\n",
    "kf = KFold(n_splits=5, random_state=0, shuffle=True);"
   ]
  },
  {
   "cell_type": "markdown",
   "metadata": {},
   "source": [
    "# Optimización de hiperparámetros mediante CV"
   ]
  },
  {
   "cell_type": "code",
   "execution_count": 54,
   "metadata": {},
   "outputs": [],
   "source": [
    "# crear DF para almacenar todos los resultados de los experiemntos\n",
    "experiments_results = pd.DataFrame(\n",
    "    columns=['params', 'mean_test_accuracy', 'std_test_accuracy', 'model_name'])"
   ]
  },
  {
   "cell_type": "code",
   "execution_count": 75,
   "metadata": {},
   "outputs": [],
   "source": [
    "# función que automatiza el proceso de optimización de hiperparámetros meidante CV para un\n",
    "# modelo, retorna un DF con los resultados de los experimentos\n",
    "\n",
    "def run_CV(model, model_name, parameters, cv_iter, X, Y):\n",
    "    \n",
    "    clf = GridSearchCV(estimator = model,       # especificar el modelo a entrenar\n",
    "                       param_grid = parameters, # especificar los parámetros a optimizar\n",
    "                       cv = cv_iter,            # 5-fold cross validation\n",
    "                       scoring = ['accuracy'],  # definir métricas de evaluación\n",
    "                       refit = False            # no entrenar un modelo con todos los datos\n",
    "                      )\n",
    "\n",
    "    # run the cv experiments\n",
    "    clf.fit(X, Y)\n",
    "\n",
    "    # store the results of the experiments in a dataframe\n",
    "    keys = ['mean_test_accuracy', 'std_test_accuracy', 'params']\n",
    "    results_dic = {k:v for k, v in clf.cv_results_.items() if k in keys}\n",
    "    results = pd.DataFrame(results_dic)\n",
    "    results[\"model_name\"] = model_name\n",
    "    \n",
    "    return results"
   ]
  },
  {
   "cell_type": "markdown",
   "metadata": {},
   "source": [
    "### Experimentos modelo RF + n-gramas"
   ]
  },
  {
   "cell_type": "code",
   "execution_count": 76,
   "metadata": {},
   "outputs": [],
   "source": [
    "# crear modelo combinado de n-gramas y random forest\n",
    "column_trans = ColumnTransformer([\n",
    "    # Applicar una transformación CountVectorizer a la columna 'cargos'  \n",
    "    ('CargosLimpioNGramas',  CountVectorizer(), 'cargos limpio')\n",
    "    ],\n",
    "    remainder='drop' # ignore the remaining columns\n",
    ")\n",
    "\n",
    "pipeline = Pipeline([\n",
    "    # Primer paso: extracción de características\n",
    "    (\"FeatureExtraction\", column_trans),\n",
    "    # Segundo paso: predicción de la decisión\n",
    "    ('RandForestPred', RandomForestClassifier(random_state=0)) # freeze random state\n",
    "])"
   ]
  },
  {
   "cell_type": "code",
   "execution_count": 73,
   "metadata": {},
   "outputs": [],
   "source": [
    "# especificación de hiperparámetros a optimizar\n",
    "parameters = {\n",
    "    'FeatureExtraction__CargosLimpioNGramas__max_features': [5, 25, 50, None], # cant de features a extraer\n",
    "    'FeatureExtraction__CargosLimpioNGramas__max_df': [1.0, 0.9], \n",
    "    'FeatureExtraction__CargosLimpioNGramas__min_df': [0.0, 0.05],\n",
    "    'FeatureExtraction__CargosLimpioNGramas__ngram_range': [(1, 1), (2, 2), (3, 3)], # n-grams length\n",
    "    'RandForestPred__criterion': ['gini', 'entropy'], \n",
    "    'RandForestPred__min_samples_leaf':[1, 3, 5, 7],\n",
    "    'RandForestPred__bootstrap': [True, False]\n",
    "}"
   ]
  },
  {
   "cell_type": "code",
   "execution_count": 74,
   "metadata": {
    "collapsed": true
   },
   "outputs": [
    {
     "data": {
      "text/html": [
       "<div>\n",
       "<style scoped>\n",
       "    .dataframe tbody tr th:only-of-type {\n",
       "        vertical-align: middle;\n",
       "    }\n",
       "\n",
       "    .dataframe tbody tr th {\n",
       "        vertical-align: top;\n",
       "    }\n",
       "\n",
       "    .dataframe thead th {\n",
       "        text-align: right;\n",
       "    }\n",
       "</style>\n",
       "<table border=\"1\" class=\"dataframe\">\n",
       "  <thead>\n",
       "    <tr style=\"text-align: right;\">\n",
       "      <th></th>\n",
       "      <th>params</th>\n",
       "      <th>mean_test_accuracy</th>\n",
       "      <th>std_test_accuracy</th>\n",
       "      <th>model_name</th>\n",
       "    </tr>\n",
       "  </thead>\n",
       "  <tbody>\n",
       "    <tr>\n",
       "      <th>0</th>\n",
       "      <td>{'RandForestPred__bootstrap': True, 'RandFores...</td>\n",
       "      <td>0.675</td>\n",
       "      <td>0.082158</td>\n",
       "      <td>N-gramas + RF</td>\n",
       "    </tr>\n",
       "    <tr>\n",
       "      <th>1</th>\n",
       "      <td>{'RandForestPred__bootstrap': True, 'RandFores...</td>\n",
       "      <td>0.675</td>\n",
       "      <td>0.061237</td>\n",
       "      <td>N-gramas + RF</td>\n",
       "    </tr>\n",
       "    <tr>\n",
       "      <th>2</th>\n",
       "      <td>{'RandForestPred__bootstrap': False, 'RandFore...</td>\n",
       "      <td>0.670</td>\n",
       "      <td>0.050990</td>\n",
       "      <td>N-gramas + RF</td>\n",
       "    </tr>\n",
       "    <tr>\n",
       "      <th>3</th>\n",
       "      <td>{'RandForestPred__bootstrap': False, 'RandFore...</td>\n",
       "      <td>0.670</td>\n",
       "      <td>0.085732</td>\n",
       "      <td>N-gramas + RF</td>\n",
       "    </tr>\n",
       "  </tbody>\n",
       "</table>\n",
       "</div>"
      ],
      "text/plain": [
       "                                              params  mean_test_accuracy  \\\n",
       "0  {'RandForestPred__bootstrap': True, 'RandFores...               0.675   \n",
       "1  {'RandForestPred__bootstrap': True, 'RandFores...               0.675   \n",
       "2  {'RandForestPred__bootstrap': False, 'RandFore...               0.670   \n",
       "3  {'RandForestPred__bootstrap': False, 'RandFore...               0.670   \n",
       "\n",
       "   std_test_accuracy     model_name  \n",
       "0           0.082158  N-gramas + RF  \n",
       "1           0.061237  N-gramas + RF  \n",
       "2           0.050990  N-gramas + RF  \n",
       "3           0.085732  N-gramas + RF  "
      ]
     },
     "execution_count": 74,
     "metadata": {},
     "output_type": "execute_result"
    }
   ],
   "source": [
    "exp_results_df = run_CV(pipeline, \n",
    "                        \"N-gramas + RF\", \n",
    "                        parameters, \n",
    "                        kf, \n",
    "                        X_train, Y_train)\n",
    "\n",
    "experiments_results = experiments_results.append(exp_results_df)"
   ]
  },
  {
   "cell_type": "markdown",
   "metadata": {},
   "source": [
    "### Experimentos modelo SVC + n-gramas"
   ]
  },
  {
   "cell_type": "code",
   "execution_count": null,
   "metadata": {},
   "outputs": [],
   "source": [
    "# crear modelo combinado de n-gramas y random forest\n",
    "column_trans = ColumnTransformer([\n",
    "    # Applicar una transformación CountVectorizer a la columna 'cargos'  \n",
    "    ('CargosLimpioNGramas',  CountVectorizer(), 'cargos limpio')\n",
    "    ],\n",
    "    remainder='drop' # ignore the remaining columns\n",
    ")\n",
    "\n",
    "pipeline = Pipeline([\n",
    "    # Primer paso: extracción de características\n",
    "    (\"FeatureExtraction\", column_trans),\n",
    "    # Segundo paso: predicción de la decisión\n",
    "    ('SVMPred', SVC(random_state=0)) # freeze random state\n",
    "])"
   ]
  },
  {
   "cell_type": "code",
   "execution_count": null,
   "metadata": {},
   "outputs": [],
   "source": [
    "# especificación de hiperparámetros a optimizar\n",
    "parameters = {\n",
    "    'FeatureExtraction__CargosLimpioNGramas__max_features': [5, 25, 50, None], # cant de features a extraer\n",
    "    'FeatureExtraction__CargosLimpioNGramas__max_df': [1.0, 0.9], \n",
    "    'FeatureExtraction__CargosLimpioNGramas__min_df': [0.0, 0.05],\n",
    "    'FeatureExtraction__CargosLimpioNGramas__ngram_range': [(1, 1), (2, 2), (3, 3)], # n-grams length\n",
    "    \n",
    "    'SVMPred__C': [0.01, 0.1, 1, 10, 100], \n",
    "    'SVMPred__kernel':['linear', 'rbf'],\n",
    "}"
   ]
  },
  {
   "cell_type": "code",
   "execution_count": null,
   "metadata": {},
   "outputs": [],
   "source": [
    "exp_results_df = run_CV(pipeline, \n",
    "                        \"N-gramas + SVC\", \n",
    "                        parameters, \n",
    "                        kf, \n",
    "                        X_train, Y_train)\n",
    "\n",
    "experiments_results = experiments_results.append(exp_results_df)"
   ]
  },
  {
   "cell_type": "markdown",
   "metadata": {},
   "source": [
    "### Experimentos modelo RF + TF-IDF"
   ]
  },
  {
   "cell_type": "code",
   "execution_count": null,
   "metadata": {},
   "outputs": [],
   "source": [
    "# crear modelo combinado de n-gramas (TF-IDF) y random forest\n",
    "column_trans_2 = ColumnTransformer([\n",
    "    # Applicar una transformación TFIDF a la columna 'cargos'  \n",
    "    ('CargosLimpiosTFIDF',  TfidfVectorizer(), 'cargos limpio')\n",
    "    ],\n",
    "    remainder='drop' # ignore the remaining columns\n",
    ")\n",
    "\n",
    "pipeline_2 = Pipeline([\n",
    "    # Primer paso: extracción de características\n",
    "    (\"FeatureExtraction\", column_trans_2),\n",
    "    # Segundo paso: predicción de la decisión\n",
    "    ('RandForestPred', RandomForestClassifier(random_state=0)) # freeze random state\n",
    "])"
   ]
  },
  {
   "cell_type": "code",
   "execution_count": null,
   "metadata": {},
   "outputs": [],
   "source": [
    "# especificación de hiperparámetros a optimizar\n",
    "parameters_2 = {\n",
    "    # parámetros del la transformación de la columna Cargos Limpio\n",
    "    'FeatureExtraction__CargosLimpiosTFIDF__ngram_range': [(1, 1), (2, 2), (3, 3)], # n-grams length\n",
    "    'FeatureExtraction__CargosLimpiosTFIDF__max_features': [5, 25, 50, None], # cant de features a extraer\n",
    "    'FeatureExtraction__CargosLimpiosTFIDF__max_df': [1.0, 0.9], \n",
    "    'FeatureExtraction__CargosLimpiosTFIDF__min_df': [0.0, 0.05],\n",
    "\n",
    "    'RandForestPred__criterion': ['gini', 'entropy'], \n",
    "    'RandForestPred__min_samples_leaf':[1, 3, 5, 7],\n",
    "    'RandForestPred__bootstrap': [True, False]\n",
    "}"
   ]
  },
  {
   "cell_type": "code",
   "execution_count": null,
   "metadata": {},
   "outputs": [],
   "source": [
    "exp_results_df = run_CV(pipeline_2, \n",
    "                        \"TF-IDF + RF\", \n",
    "                        parameters_2, \n",
    "                        kf, \n",
    "                        X_train, Y_train)\n",
    "\n",
    "experiments_results = experiments_results.append(exp_results_df)"
   ]
  },
  {
   "cell_type": "markdown",
   "metadata": {},
   "source": [
    "### Experimentos modelo SVC + TF-IDF"
   ]
  },
  {
   "cell_type": "code",
   "execution_count": null,
   "metadata": {},
   "outputs": [],
   "source": [
    "# crear modelo combinado de n-gramas (TF-IDF) y SVC\n",
    "column_trans = ColumnTransformer([\n",
    "    # Applicar una transformación TFIDF a la columna 'cargos'  \n",
    "    ('CargosLimpiosTFIDF',  TfidfVectorizer(), 'cargos limpio')\n",
    "    ],\n",
    "    remainder='drop' # ignore the remaining columns\n",
    ")\n",
    "\n",
    "pipeline = Pipeline([\n",
    "    # Primer paso: extracción de características\n",
    "    (\"FeatureExtraction\", column_trans),\n",
    "    # Segundo paso: predicción de la decisión\n",
    "    ('SVMPred', SVC(random_state=0)) # freeze random state\n",
    "])"
   ]
  },
  {
   "cell_type": "code",
   "execution_count": null,
   "metadata": {},
   "outputs": [],
   "source": [
    "# especificación de hiperparámetros a optimizar\n",
    "parameters = {\n",
    "    # parámetros del la transformación de la columna Cargos Limpio\n",
    "    'FeatureExtraction__CargosLimpiosTFIDF__ngram_range': [(1, 1), (2, 2), (3, 3)], # n-grams length\n",
    "    'FeatureExtraction__CargosLimpiosTFIDF__max_features': [5, 25, 50, None], # cant de features a extraer\n",
    "    'FeatureExtraction__CargosLimpiosTFIDF__max_df': [1.0, 0.9], \n",
    "    'FeatureExtraction__CargosLimpiosTFIDF__min_df': [0.0, 0.05],\n",
    "\n",
    "    'SVMPred__C': [0.01, 0.1, 1, 10, 100], \n",
    "    'SVMPred__kernel':['linear', 'rbf'],\n",
    "}"
   ]
  },
  {
   "cell_type": "code",
   "execution_count": null,
   "metadata": {},
   "outputs": [],
   "source": [
    "exp_results_df = run_CV(pipeline, \n",
    "                        \"TF-IDF + SVC\", \n",
    "                        parameters, \n",
    "                        kf, \n",
    "                        X_train, Y_train)\n",
    "\n",
    "experiments_results = experiments_results.append(exp_results_df)"
   ]
  },
  {
   "cell_type": "markdown",
   "metadata": {},
   "source": [
    "### Experimento Cargos Multicat + RF"
   ]
  },
  {
   "cell_type": "code",
   "execution_count": 126,
   "metadata": {},
   "outputs": [
    {
     "name": "stdout",
     "output_type": "stream",
     "text": [
      "(200, 40)\n"
     ]
    },
    {
     "name": "stderr",
     "output_type": "stream",
     "text": [
      "c:\\users\\diego\\appdata\\local\\programs\\python\\python38\\lib\\site-packages\\sklearn\\preprocessing\\_label.py:994: UserWarning: unknown class(es) ['', 'cc3', 'o6', 'otros', 'se11', 'seg5\\n', 'ser2ser7'] will be ignored\n",
      "  warnings.warn('unknown class(es) {0} will be ignored'\n"
     ]
    }
   ],
   "source": [
    "# entrenar el multi label binarizer\n",
    "mlb = MultiLabelBinarizer(classes=cargos_list)\n",
    "mlb.fit([cargos_list])\n",
    "\n",
    "# hay algunos errores que se debe corregir en la codificación\n",
    "X_train_proc = mlb.transform(X_train[\"códigos\"])\n",
    "\n",
    "print(X_train_proc.shape)"
   ]
  },
  {
   "cell_type": "code",
   "execution_count": 133,
   "metadata": {},
   "outputs": [],
   "source": [
    "# crear modelo combinado de cargos (multicat) y random forest\n",
    "\n",
    "pipeline_3 = Pipeline([\n",
    "    # predicción de la decisión\n",
    "    ('RandForestPred', RandomForestClassifier(random_state=0)) # freeze random state\n",
    "])"
   ]
  },
  {
   "cell_type": "code",
   "execution_count": 134,
   "metadata": {},
   "outputs": [],
   "source": [
    "# especificación de hiperparámetros a optimizar\n",
    "parameters_3 = {\n",
    "    'RandForestPred__criterion': ['gini', 'entropy'], \n",
    "    'RandForestPred__min_samples_leaf':[1, 3, 5, 7],\n",
    "    'RandForestPred__bootstrap': [True, False]\n",
    "}"
   ]
  },
  {
   "cell_type": "code",
   "execution_count": 135,
   "metadata": {},
   "outputs": [],
   "source": [
    "exp_results_df = run_CV(pipeline_3, \n",
    "                        \"CargosMulticat + RF\", \n",
    "                        parameters_3, \n",
    "                        kf, \n",
    "                        X_train_proc, Y_train)\n",
    "\n",
    "experiments_results = experiments_results.append(exp_results_df)"
   ]
  },
  {
   "cell_type": "markdown",
   "metadata": {},
   "source": [
    "### Experimento Cargos Multicat + RF"
   ]
  },
  {
   "cell_type": "code",
   "execution_count": 137,
   "metadata": {},
   "outputs": [],
   "source": [
    "# crear modelo combinado de cargos (multicat) y SVM\n",
    "pipeline = Pipeline([\n",
    "    # predicción de la decisión\n",
    "    ('SVMPred', SVC(random_state=0)) # freeze random state\n",
    "])"
   ]
  },
  {
   "cell_type": "code",
   "execution_count": 139,
   "metadata": {},
   "outputs": [],
   "source": [
    "# especificación de hiperparámetros a optimizar\n",
    "parameters = {\n",
    "    'SVMPred__C': [0.01, 0.1, 1, 10, 100], \n",
    "    'SVMPred__kernel':['linear', 'rbf'],\n",
    "}"
   ]
  },
  {
   "cell_type": "code",
   "execution_count": 140,
   "metadata": {},
   "outputs": [],
   "source": [
    "exp_results_df = run_CV(pipeline, \n",
    "                        \"CargosMulticat + RF\", \n",
    "                        parameters, \n",
    "                        kf, \n",
    "                        X_train_proc, Y_train)\n",
    "\n",
    "experiments_results = experiments_results.append(exp_results_df)"
   ]
  },
  {
   "cell_type": "code",
   "execution_count": null,
   "metadata": {},
   "outputs": [],
   "source": [
    "experiments_results.to_csv(\"resultados_experimentos.csv\")"
   ]
  },
  {
   "cell_type": "code",
   "execution_count": null,
   "metadata": {},
   "outputs": [],
   "source": []
  },
  {
   "cell_type": "code",
   "execution_count": null,
   "metadata": {},
   "outputs": [],
   "source": []
  }
 ],
 "metadata": {
  "kernelspec": {
   "display_name": "Python 3",
   "language": "python",
   "name": "python3"
  },
  "language_info": {
   "codemirror_mode": {
    "name": "ipython",
    "version": 3
   },
   "file_extension": ".py",
   "mimetype": "text/x-python",
   "name": "python",
   "nbconvert_exporter": "python",
   "pygments_lexer": "ipython3",
   "version": "3.8.3"
  }
 },
 "nbformat": 4,
 "nbformat_minor": 4
}
